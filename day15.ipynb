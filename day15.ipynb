{
 "cells": [
  {
   "cell_type": "code",
   "execution_count": 62,
   "metadata": {},
   "outputs": [
    {
     "data": {
      "text/plain": [
       "4961647"
      ]
     },
     "execution_count": 62,
     "metadata": {},
     "output_type": "execute_result"
    }
   ],
   "source": [
    "file_data = open('day15.data', 'r').read().splitlines()\n",
    "\n",
    "import re\n",
    "\n",
    "def calc_beacons_in_line(line_num):\n",
    "    no_beacon_in_line = set()\n",
    "\n",
    "    for line in file_data:\n",
    "        sensor_x, sensor_y, beacon_x, beacon_y = [int(v) for v in re.findall(r'-?\\d+', line)]\n",
    "        distance = abs(sensor_x - beacon_x) + abs(sensor_y - beacon_y) - abs(sensor_y - line_num)\n",
    "        if distance >= 0:\n",
    "            no_beacon_in_line.update(set(range(sensor_x - distance, sensor_x + distance + 1)))\n",
    "\n",
    "    for line in file_data:\n",
    "        sensor_x, sensor_y, beacon_x, beacon_y = [int(v) for v in re.findall(r'-?\\d+', line)]\n",
    "        if sensor_y == line_num:\n",
    "            no_beacon_in_line.discard(sensor_x)\n",
    "        if beacon_y == line_num:\n",
    "            no_beacon_in_line.discard(beacon_x)\n",
    "\n",
    "    return no_beacon_in_line\n",
    "\n",
    "len(calc_beacons_in_line(2000000))"
   ]
  }
 ],
 "metadata": {
  "interpreter": {
   "hash": "36cf16204b8548560b1c020c4e8fb5b57f0e4c58016f52f2d4be01e192833930"
  },
  "kernelspec": {
   "display_name": "Python 3.9.11 64-bit",
   "language": "python",
   "name": "python3"
  },
  "language_info": {
   "codemirror_mode": {
    "name": "ipython",
    "version": 3
   },
   "file_extension": ".py",
   "mimetype": "text/x-python",
   "name": "python",
   "nbconvert_exporter": "python",
   "pygments_lexer": "ipython3",
   "version": "3.9.11"
  },
  "orig_nbformat": 4
 },
 "nbformat": 4,
 "nbformat_minor": 2
}
