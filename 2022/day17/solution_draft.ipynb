{
 "cells": [
  {
   "cell_type": "code",
   "execution_count": 6,
   "metadata": {},
   "outputs": [],
   "source": [
    "from itertools import cycle, islice\n",
    "from collections import defaultdict\n",
    "from dataclasses import dataclass\n",
    "\n",
    "rocks = [\n",
    "    ((0, 1, 2, 3),),\n",
    "    ((1,), (0, 1, 2), (1,)),\n",
    "    ((0, 1, 2), (2,), (2,)),\n",
    "    ((0,), (0,), (0,), (0,)),\n",
    "    ((0, 1), (0, 1)) \n",
    "]\n",
    "\n",
    "jets = open('puzzle.data', 'r').read()\n",
    "\n",
    "\n",
    "@dataclass\n",
    "class Position:\n",
    "    x: int\n",
    "    y: int\n",
    "\n",
    "\n",
    "def check(x: int, y: int, rock, rows):\n",
    "    for line_y, rock_line in enumerate(rock):\n",
    "        rock_row = {p + x for p in rock_line}\n",
    "        if -1 in rock_row or 7 in rock_row:\n",
    "            return False\n",
    "        if y + line_y not in rows:\n",
    "            continue\n",
    "        if rows[y + line_y] & rock_row:\n",
    "            return False\n",
    "    \n",
    "    return True\n",
    "\n",
    "\n",
    "def simulate(iterations):\n",
    "    patterns = dict()\n",
    "    rows = defaultdict(set)\n",
    "    rows[-1] |= set(range(7))  # add a dummy row at the bottom\n",
    "    jet_index = 0\n",
    "    iteration_index = 0\n",
    "    while iteration_index < iterations:\n",
    "        rock = rocks[iteration_index % len(rocks)]\n",
    "        pos = Position(2, max(rows) + 4)\n",
    "\n",
    "        while pos.y >= 0:\n",
    "            x = pos.x - 1 if jets[jet_index] == '<' else pos.x + 1\n",
    "            jet_index = (jet_index + 1) % len(jets)\n",
    "            if check(x, pos.y, rock, rows):\n",
    "                pos.x = x\n",
    "\n",
    "            y = pos.y - 1\n",
    "            if not check(pos.x, y, rock, rows):\n",
    "                break\n",
    "            \n",
    "            pos.y = y\n",
    "        \n",
    "        for line_y, rock_line in enumerate(rock):\n",
    "            rows[pos.y + line_y] |= {p + pos.x for p in rock_line}\n",
    "            if len(rows[pos.y + line_y]) == 7:\n",
    "                for r in tuple(r for r in rows if r < pos.y + line_y):\n",
    "                    rows.pop(r)\n",
    "\n",
    "        iteration_index += 1        \n",
    "        \n",
    "        pattern = (rock, jet_index, tuple(tuple(sorted(r)) for r in (rows[i] for i in range(max(rows), max(rows) - 100, -1))))\n",
    "        \n",
    "        if pattern in patterns:\n",
    "            iteration_start, height = patterns[pattern]\n",
    "            height_diff = max(rows) - height\n",
    "            for i, row in tuple(rows.items()):\n",
    "                rows[i + height_diff * (iterations // (iteration_index - iteration_start) - 1)] = row\n",
    "            iteration_index = iterations - iterations % (iteration_index - iteration_start) + iteration_start\n",
    "            patterns.clear()\n",
    "        else:\n",
    "            patterns[pattern] = (iteration_index, max(rows))\n",
    "        \n",
    "    return max(rows) + 1"
   ]
  },
  {
   "cell_type": "code",
   "execution_count": 7,
   "metadata": {},
   "outputs": [
    {
     "data": {
      "text/plain": [
       "3191"
      ]
     },
     "execution_count": 7,
     "metadata": {},
     "output_type": "execute_result"
    }
   ],
   "source": [
    "simulate(2022)"
   ]
  },
  {
   "cell_type": "code",
   "execution_count": 8,
   "metadata": {},
   "outputs": [
    {
     "data": {
      "text/plain": [
       "1572093023267"
      ]
     },
     "execution_count": 8,
     "metadata": {},
     "output_type": "execute_result"
    }
   ],
   "source": [
    "simulate(1000000000000)"
   ]
  }
 ],
 "metadata": {
  "kernelspec": {
   "display_name": "Python 3",
   "language": "python",
   "name": "python3"
  },
  "language_info": {
   "codemirror_mode": {
    "name": "ipython",
    "version": 3
   },
   "file_extension": ".py",
   "mimetype": "text/x-python",
   "name": "python",
   "nbconvert_exporter": "python",
   "pygments_lexer": "ipython3",
   "version": "3.8.10"
  },
  "orig_nbformat": 4,
  "vscode": {
   "interpreter": {
    "hash": "916dbcbb3f70747c44a77c7bcd40155683ae19c65e1c03b4aa3499c5328201f1"
   }
  }
 },
 "nbformat": 4,
 "nbformat_minor": 2
}
