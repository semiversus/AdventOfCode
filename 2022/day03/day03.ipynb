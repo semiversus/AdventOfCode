{
 "cells": [
  {
   "cell_type": "code",
   "execution_count": 13,
   "metadata": {},
   "outputs": [],
   "source": [
    "import string\n",
    "\n",
    "file_data = open('day03.data', 'r').read().splitlines()\n",
    "\n",
    "prio_order = string.ascii_lowercase + string.ascii_uppercase\n",
    "\n",
    "def priority(line):\n",
    "    common_item = (set(line[:len(line) // 2]) & set(line[len(line) // 2:])).pop()\n",
    "    return prio_order.index(common_item) + 1"
   ]
  },
  {
   "cell_type": "code",
   "execution_count": 14,
   "metadata": {},
   "outputs": [
    {
     "data": {
      "text/plain": [
       "7674"
      ]
     },
     "execution_count": 14,
     "metadata": {},
     "output_type": "execute_result"
    }
   ],
   "source": [
    "sum(priority(line) for line in file_data)"
   ]
  },
  {
   "cell_type": "code",
   "execution_count": 19,
   "metadata": {},
   "outputs": [
    {
     "data": {
      "text/plain": [
       "2805"
      ]
     },
     "execution_count": 19,
     "metadata": {},
     "output_type": "execute_result"
    }
   ],
   "source": [
    "groups = [file_data[n:n+3] for n in range(0, len(file_data), 3)]\n",
    "\n",
    "def priority(group):\n",
    "    common_item = (set(group[0]) & set(group[1]) & set(group[2])).pop()\n",
    "    return prio_order.index(common_item) + 1\n",
    "\n",
    "sum(priority(group) for group in groups)"
   ]
  }
 ],
 "metadata": {
  "interpreter": {
   "hash": "36cf16204b8548560b1c020c4e8fb5b57f0e4c58016f52f2d4be01e192833930"
  },
  "kernelspec": {
   "display_name": "Python 3.9.9 64-bit",
   "language": "python",
   "name": "python3"
  },
  "language_info": {
   "codemirror_mode": {
    "name": "ipython",
    "version": 3
   },
   "file_extension": ".py",
   "mimetype": "text/x-python",
   "name": "python",
   "nbconvert_exporter": "python",
   "pygments_lexer": "ipython3",
   "version": "3.9.11"
  },
  "orig_nbformat": 4
 },
 "nbformat": 4,
 "nbformat_minor": 2
}
