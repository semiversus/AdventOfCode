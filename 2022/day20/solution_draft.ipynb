{
 "cells": [
  {
   "cell_type": "code",
   "execution_count": 23,
   "metadata": {},
   "outputs": [],
   "source": [
    "file_data = open('puzzle.data', 'r').read().splitlines()\n",
    "\n",
    "def mix(value_list, rounds=1):\n",
    "    values_position = list(range(len(value_list)))\n",
    "\n",
    "    for round in range(rounds):\n",
    "        for index in range(len(values_position)):\n",
    "            current_position = values_position.index(index)\n",
    "            new_position = (current_position + value_list[current_position]) % (len(values_position) - 1)\n",
    "            if new_position > current_position:\n",
    "                values_position = values_position[:current_position] + values_position[current_position + 1:new_position + 1] + values_position[current_position:current_position + 1] + values_position[new_position + 1:]\n",
    "                value_list = value_list[:current_position] + value_list[current_position + 1:new_position + 1] + value_list[current_position:current_position + 1] + value_list[new_position + 1:]\n",
    "            else:\n",
    "                values_position = values_position[:new_position] + values_position[current_position:current_position + 1] + values_position[new_position:current_position] + values_position[current_position + 1:]\n",
    "                value_list = value_list[:new_position] + value_list[current_position:current_position + 1] + value_list[new_position:current_position] + value_list[current_position + 1:]\n",
    "\n",
    "    return sum(value_list[(i + value_list.index(0)) % len(value_list)] for i in range(1000, 3001, 1000))"
   ]
  },
  {
   "cell_type": "code",
   "execution_count": 24,
   "metadata": {},
   "outputs": [
    {
     "data": {
      "text/plain": [
       "4426"
      ]
     },
     "execution_count": 24,
     "metadata": {},
     "output_type": "execute_result"
    }
   ],
   "source": [
    "mix([int(v) for v in file_data])"
   ]
  },
  {
   "cell_type": "code",
   "execution_count": 25,
   "metadata": {},
   "outputs": [
    {
     "data": {
      "text/plain": [
       "8119137886612"
      ]
     },
     "execution_count": 25,
     "metadata": {},
     "output_type": "execute_result"
    }
   ],
   "source": [
    "mix([int(v)*811589153 for v in file_data], rounds=10)"
   ]
  }
 ],
 "metadata": {
  "kernelspec": {
   "display_name": "Python 3",
   "language": "python",
   "name": "python3"
  },
  "language_info": {
   "codemirror_mode": {
    "name": "ipython",
    "version": 3
   },
   "file_extension": ".py",
   "mimetype": "text/x-python",
   "name": "python",
   "nbconvert_exporter": "python",
   "pygments_lexer": "ipython3",
   "version": "3.8.10"
  },
  "orig_nbformat": 4,
  "vscode": {
   "interpreter": {
    "hash": "916dbcbb3f70747c44a77c7bcd40155683ae19c65e1c03b4aa3499c5328201f1"
   }
  }
 },
 "nbformat": 4,
 "nbformat_minor": 2
}
