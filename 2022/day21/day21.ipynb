{
 "cells": [
  {
   "cell_type": "code",
   "execution_count": 59,
   "metadata": {},
   "outputs": [],
   "source": [
    "file_data = open('day21.data', 'r').read().splitlines()\n",
    "definitions = dict(line.split(': ') for line in file_data)\n",
    "\n",
    "from operator import mul, add, sub, truediv\n",
    "\n",
    "ops = {'*': mul, '+': add, '-': sub, '/': truediv}\n",
    "\n",
    "def get(key):\n",
    "    parts = definitions[key].split(' ')\n",
    "    if len(parts) == 1:\n",
    "        return int(parts[0])\n",
    "\n",
    "    return float(ops[parts[1]](get(parts[0]), get(parts[2])))"
   ]
  },
  {
   "cell_type": "code",
   "execution_count": 60,
   "metadata": {},
   "outputs": [
    {
     "data": {
      "text/plain": [
       "70674280581468"
      ]
     },
     "execution_count": 60,
     "metadata": {},
     "output_type": "execute_result"
    }
   ],
   "source": [
    "int(get('root'))"
   ]
  },
  {
   "cell_type": "code",
   "execution_count": 111,
   "metadata": {},
   "outputs": [
    {
     "data": {
      "text/plain": [
       "3243420789721"
      ]
     },
     "execution_count": 111,
     "metadata": {},
     "output_type": "execute_result"
    }
   ],
   "source": [
    "match_value = get(definitions['root'].split(' ')[2])\n",
    "\n",
    "lower, upper = -1e16, 1e16\n",
    "\n",
    "while True:\n",
    "    mid = (lower + upper) // 2\n",
    "    definitions['humn'] = str(int(mid))\n",
    "    value = get(definitions['root'].split(' ')[0])\n",
    "\n",
    "    if value == match_value:\n",
    "        break\n",
    "    if value < match_value:\n",
    "        upper = mid\n",
    "    else:\n",
    "        lower = mid\n",
    "\n",
    "int(mid)"
   ]
  }
 ],
 "metadata": {
  "kernelspec": {
   "display_name": "Python 3",
   "language": "python",
   "name": "python3"
  },
  "language_info": {
   "codemirror_mode": {
    "name": "ipython",
    "version": 3
   },
   "file_extension": ".py",
   "mimetype": "text/x-python",
   "name": "python",
   "nbconvert_exporter": "python",
   "pygments_lexer": "ipython3",
   "version": "3.8.10"
  },
  "orig_nbformat": 4,
  "vscode": {
   "interpreter": {
    "hash": "916dbcbb3f70747c44a77c7bcd40155683ae19c65e1c03b4aa3499c5328201f1"
   }
  }
 },
 "nbformat": 4,
 "nbformat_minor": 2
}
