{
 "cells": [
  {
   "cell_type": "code",
   "execution_count": 52,
   "metadata": {},
   "outputs": [],
   "source": [
    "ways = [\n",
    "    (-1j, {-1 - 1j, -1j, 1 -1j}),  # moving direction, {fields to check}\n",
    "    (1j, {-1 + 1j, 1j, 1 + 1j}),\n",
    "    (-1, {-1 - 1j, -1, -1 + 1j}), \n",
    "    (1, {1 - 1j, 1, 1 + 1j}),\n",
    "]\n",
    "\n",
    "fields_around = set().union(*(w[1] for w in ways))\n",
    "\n",
    "\n",
    "def move(elves: set, ways: list) -> set:\n",
    "    moved = False\n",
    "    next_elves = dict()\n",
    "    for elve in elves:\n",
    "        if not ({*(elve + f for f in fields_around)} & elves):\n",
    "            next_elves[elve] = elve\n",
    "            continue\n",
    "        \n",
    "        moved = True\n",
    "        for way in ways:\n",
    "            if not ({*(elve + w for w in way[1])} & elves):\n",
    "                if elve + way[0] in next_elves:\n",
    "                    next_elves[next_elves[elve + way[0]]] = next_elves[elve + way[0]]\n",
    "                    next_elves[elve] = elve\n",
    "                    next_elves.pop(elve + way[0])\n",
    "                else:\n",
    "                    next_elves[elve + way[0]] = elve\n",
    "                break\n",
    "        else:\n",
    "            next_elves[elve] = elve\n",
    "    \n",
    "    return set(next_elves), moved"
   ]
  },
  {
   "cell_type": "code",
   "execution_count": 53,
   "metadata": {},
   "outputs": [
    {
     "data": {
      "text/plain": [
       "4181"
      ]
     },
     "execution_count": 53,
     "metadata": {},
     "output_type": "execute_result"
    }
   ],
   "source": [
    "file_data = open('puzzle.data', 'r').read().splitlines()\n",
    "\n",
    "elves = set()\n",
    "for y, line in enumerate(file_data):\n",
    "    for x, char in enumerate(line):\n",
    "        if char != '#':\n",
    "            continue\n",
    "        elves.add(x + y * 1j)\n",
    "\n",
    "def view(elves):\n",
    "    min_y, max_y = int(min(e.imag for  e in elves)), int(max(e.imag for  e in elves))\n",
    "    min_x, max_x = int(min(e.real for  e in elves)), int(max(e.real for  e in elves))\n",
    "    for y in range(min_y, max_y + 1):\n",
    "        print(''.join(('#' if (x + y * 1j) in elves else '.') for x in range(min_x, max_x + 1)))\n",
    "    print()\n",
    "\n",
    "for _ in range(10):\n",
    "    elves, moved = move(elves, ways)\n",
    "    ways = ways[1:] + ways[0:1]\n",
    "\n",
    "min_y, max_y = int(min(e.imag for  e in elves)), int(max(e.imag for  e in elves))\n",
    "min_x, max_x = int(min(e.real for  e in elves)), int(max(e.real for  e in elves))\n",
    "\n",
    "(max_y + 1 - min_y) * (max_x + 1 - min_x) - len(elves)"
   ]
  },
  {
   "cell_type": "code",
   "execution_count": 54,
   "metadata": {},
   "outputs": [
    {
     "data": {
      "text/plain": [
       "973"
      ]
     },
     "execution_count": 54,
     "metadata": {},
     "output_type": "execute_result"
    }
   ],
   "source": [
    "file_data = open('puzzle.data', 'r').read().splitlines()\n",
    "\n",
    "ways = [\n",
    "    (-1j, {-1 - 1j, -1j, 1 -1j}),  # moving direction, {fields to check}\n",
    "    (1j, {-1 + 1j, 1j, 1 + 1j}),\n",
    "    (-1, {-1 - 1j, -1, -1 + 1j}), \n",
    "    (1, {1 - 1j, 1, 1 + 1j}),\n",
    "]\n",
    "\n",
    "elves = set()\n",
    "for y, line in enumerate(file_data):\n",
    "    for x, char in enumerate(line):\n",
    "        if char != '#':\n",
    "            continue\n",
    "        elves.add(x + y * 1j)\n",
    "\n",
    "rounds = 0\n",
    "moved = True\n",
    "while moved:\n",
    "    elves, moved = move(elves, ways)\n",
    "    ways = ways[1:] + ways[0:1]\n",
    "    rounds += 1\n",
    "\n",
    "rounds"
   ]
  }
 ],
 "metadata": {
  "kernelspec": {
   "display_name": "Python 3",
   "language": "python",
   "name": "python3"
  },
  "language_info": {
   "codemirror_mode": {
    "name": "ipython",
    "version": 3
   },
   "file_extension": ".py",
   "mimetype": "text/x-python",
   "name": "python",
   "nbconvert_exporter": "python",
   "pygments_lexer": "ipython3",
   "version": "3.8.10"
  },
  "orig_nbformat": 4,
  "vscode": {
   "interpreter": {
    "hash": "916dbcbb3f70747c44a77c7bcd40155683ae19c65e1c03b4aa3499c5328201f1"
   }
  }
 },
 "nbformat": 4,
 "nbformat_minor": 2
}
