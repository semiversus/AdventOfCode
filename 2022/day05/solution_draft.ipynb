{
 "cells": [
  {
   "cell_type": "code",
   "execution_count": 32,
   "metadata": {},
   "outputs": [],
   "source": [
    "file_data = open('puzzle.data', 'r').read().splitlines()\n",
    "\n",
    "def read_stacks(file_data):\n",
    "    stacks = [[] for _ in range(9)]\n",
    "\n",
    "    for line in file_data[:8]:\n",
    "        for letter, stack in zip(line[1::4], stacks):\n",
    "            if letter != ' ':\n",
    "                stack.append(letter)\n",
    "    \n",
    "    return stacks"
   ]
  },
  {
   "cell_type": "code",
   "execution_count": 33,
   "metadata": {},
   "outputs": [
    {
     "data": {
      "text/plain": [
       "'VWLCWGSDQ'"
      ]
     },
     "execution_count": 33,
     "metadata": {},
     "output_type": "execute_result"
    }
   ],
   "source": [
    "stacks = read_stacks(file_data)\n",
    "\n",
    "for line in file_data[10:]:\n",
    "    num, from_stack, to_stack = [int(s) for s in line.split(' ')[1::2]]\n",
    "    elements = stacks[from_stack - 1][:num]\n",
    "    del stacks[from_stack - 1][:num]\n",
    "    stacks[to_stack - 1] = elements[::-1] + stacks[to_stack - 1]\n",
    "\n",
    "''.join(s[0] for s in stacks)"
   ]
  },
  {
   "cell_type": "code",
   "execution_count": 34,
   "metadata": {},
   "outputs": [
    {
     "data": {
      "text/plain": [
       "'TCGLQSLPW'"
      ]
     },
     "execution_count": 34,
     "metadata": {},
     "output_type": "execute_result"
    }
   ],
   "source": [
    "stacks = read_stacks(file_data)\n",
    "\n",
    "for line in file_data[10:]:\n",
    "    num, from_stack, to_stack = [int(s) for s in line.split(' ')[1::2]]\n",
    "    elements = stacks[from_stack - 1][:num]\n",
    "    del stacks[from_stack - 1][:num]\n",
    "    stacks[to_stack - 1] = elements + stacks[to_stack - 1]\n",
    "\n",
    "''.join(s[0] for s in stacks)"
   ]
  }
 ],
 "metadata": {
  "interpreter": {
   "hash": "36cf16204b8548560b1c020c4e8fb5b57f0e4c58016f52f2d4be01e192833930"
  },
  "kernelspec": {
   "display_name": "Python 3.9.9 64-bit",
   "language": "python",
   "name": "python3"
  },
  "language_info": {
   "codemirror_mode": {
    "name": "ipython",
    "version": 3
   },
   "file_extension": ".py",
   "mimetype": "text/x-python",
   "name": "python",
   "nbconvert_exporter": "python",
   "pygments_lexer": "ipython3",
   "version": "3.9.11"
  },
  "orig_nbformat": 4
 },
 "nbformat": 4,
 "nbformat_minor": 2
}
