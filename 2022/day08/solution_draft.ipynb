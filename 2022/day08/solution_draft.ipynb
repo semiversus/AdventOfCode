{
 "cells": [
  {
   "cell_type": "code",
   "execution_count": 39,
   "metadata": {},
   "outputs": [
    {
     "data": {
      "text/plain": [
       "1719"
      ]
     },
     "execution_count": 39,
     "metadata": {},
     "output_type": "execute_result"
    }
   ],
   "source": [
    "SIZE = 99\n",
    "tree_map = [[int(l) for l in line] for line in open('puzzle.data', 'r').read().splitlines()]\n",
    "\n",
    "def check_tree(x, y):\n",
    "    height = tree_map[y][x]\n",
    "\n",
    "    return all([tree_map[y][i] < height for i in range(0, x)]) or \\\n",
    "           all([tree_map[y][i] < height for i in range(x + 1, SIZE)]) or \\\n",
    "           all([tree_map[i][x] < height for i in range(0, y)]) or \\\n",
    "           all([tree_map[i][x] < height for i in range(y + 1, SIZE)])\n",
    "\n",
    "trees = 0\n",
    "\n",
    "for x in range(SIZE):\n",
    "    for y in range(SIZE):\n",
    "        trees += check_tree(x, y)\n",
    "\n",
    "trees"
   ]
  },
  {
   "cell_type": "code",
   "execution_count": 42,
   "metadata": {},
   "outputs": [
    {
     "data": {
      "text/plain": [
       "590824"
      ]
     },
     "execution_count": 42,
     "metadata": {},
     "output_type": "execute_result"
    }
   ],
   "source": [
    "def score(x, y):\n",
    "    height = tree_map[y][x]\n",
    "\n",
    "    distance_left = 0\n",
    "    for ix in range(x - 1, -1, -1):\n",
    "        distance_left += 1\n",
    "        if tree_map[y][ix] >= height:\n",
    "            break\n",
    "    \n",
    "    distance_right = 0\n",
    "    for ix in range(x + 1, SIZE):\n",
    "        distance_right += 1\n",
    "        if tree_map[y][ix] >= height:\n",
    "            break\n",
    "\n",
    "    distance_up = 0\n",
    "    for iy in range(y - 1, -1, -1):\n",
    "        distance_up += 1\n",
    "        if tree_map[iy][x] >= height:\n",
    "            break\n",
    "    \n",
    "    distance_down = 0\n",
    "    for iy in range(y + 1, SIZE):\n",
    "        distance_down += 1\n",
    "        if tree_map[iy][x] >= height:\n",
    "            break\n",
    "    \n",
    "    return distance_left * distance_right * distance_up * distance_down\n",
    "\n",
    "max(max(score(x, y) for x in range(SIZE)) for y in range(SIZE))"
   ]
  }
 ],
 "metadata": {
  "interpreter": {
   "hash": "36cf16204b8548560b1c020c4e8fb5b57f0e4c58016f52f2d4be01e192833930"
  },
  "kernelspec": {
   "display_name": "Python 3.9.9 64-bit",
   "language": "python",
   "name": "python3"
  },
  "language_info": {
   "codemirror_mode": {
    "name": "ipython",
    "version": 3
   },
   "file_extension": ".py",
   "mimetype": "text/x-python",
   "name": "python",
   "nbconvert_exporter": "python",
   "pygments_lexer": "ipython3",
   "version": "3.9.11"
  },
  "orig_nbformat": 4
 },
 "nbformat": 4,
 "nbformat_minor": 2
}
