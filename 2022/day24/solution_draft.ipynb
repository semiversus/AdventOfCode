{
 "cells": [
  {
   "cell_type": "code",
   "execution_count": 68,
   "metadata": {},
   "outputs": [
    {
     "data": {
      "text/plain": [
       "322"
      ]
     },
     "execution_count": 68,
     "metadata": {},
     "output_type": "execute_result"
    }
   ],
   "source": [
    "file_data = open('puzzle.data', 'r').read().splitlines()    \n",
    "\n",
    "def find(file_data, start_index, start_pos, end_pos):\n",
    "    blizzards = []\n",
    "    for y, line in enumerate(file_data[1:-1]):\n",
    "        for x, cell in enumerate(line[1:-1]):\n",
    "            if cell == '.':\n",
    "                continue\n",
    "            blizzards.append((x + y * 1j, cell))\n",
    "\n",
    "    blizzards_states = dict()\n",
    "\n",
    "    width = len(file_data[0]) - 2\n",
    "    height = len(file_data) - 2\n",
    "\n",
    "    open_states = [(start_pos,)]\n",
    "    next_states = dict()\n",
    "\n",
    "    while True:\n",
    "        if not open_states:\n",
    "            open_states += list(next_states.values())\n",
    "            next_states.clear()\n",
    "        \n",
    "        state = open_states.pop()\n",
    "        \n",
    "        last_pos = state[-1]\n",
    "        \n",
    "        if last_pos == end_pos:\n",
    "            return state\n",
    "\n",
    "        if last_pos != start_pos and not (0 <= last_pos.real < width and 0 <= last_pos.imag < height):\n",
    "            continue\n",
    "\n",
    "        index = len(state) + start_index\n",
    "\n",
    "        if index not in blizzards_states:\n",
    "            blizzards_state = set()\n",
    "            for b_pos, b_dir in blizzards:\n",
    "                if b_dir in ('<', '>'):\n",
    "                    blizzards_state.add((b_pos.real + (-1 if b_dir == '<' else 1) * index) % width + b_pos.imag * 1j)\n",
    "                else:\n",
    "                    blizzards_state.add(b_pos.real + (b_pos.imag + (-1 if b_dir == '^' else 1) * index) % height * 1j)\n",
    "            blizzards_states[index] = blizzards_state\n",
    "        \n",
    "        blizzard_state = blizzards_states[index]\n",
    "        if last_pos.real < width - 1 and last_pos + 1 not in blizzard_state:\n",
    "            next_states[last_pos + 1] = state + (last_pos + 1,)\n",
    "        if last_pos.real > 0 and last_pos - 1 not in blizzard_state:\n",
    "            next_states[last_pos - 1] = state + (last_pos - 1,)\n",
    "        if last_pos.imag < height - 1 and last_pos + 1j not in blizzard_state:\n",
    "            next_states[last_pos + 1j] = state + (last_pos + 1j,)\n",
    "        if last_pos.imag > 0 and last_pos - 1j not in blizzard_state:\n",
    "            next_states[last_pos - 1j] = state + (last_pos - 1j,)\n",
    "        if last_pos not in blizzard_state:\n",
    "            next_states[last_pos] = state + (last_pos,)\n",
    "\n",
    "len(find(file_data, 0, -1j, len(file_data[0]) - 3 + (len(file_data) - 3) * 1j))"
   ]
  },
  {
   "cell_type": "code",
   "execution_count": 69,
   "metadata": {},
   "outputs": [
    {
     "data": {
      "text/plain": [
       "974"
      ]
     },
     "execution_count": 69,
     "metadata": {},
     "output_type": "execute_result"
    }
   ],
   "source": [
    "r1 = find(file_data, 0, - 1j, len(file_data[0]) - 3 + (len(file_data) - 3) * 1j)\n",
    "r2 = find(file_data, len(r1), len(file_data[0]) - 3 + (len(file_data) - 2) * 1j, 0)\n",
    "r3 = find(file_data, len(r1) + len(r2), 0 - 1j, len(file_data[0]) - 3 + (len(file_data) - 3) * 1j)\n",
    "\n",
    "len(r1) + len(r2) + len(r3)"
   ]
  }
 ],
 "metadata": {
  "kernelspec": {
   "display_name": "Python 3",
   "language": "python",
   "name": "python3"
  },
  "language_info": {
   "codemirror_mode": {
    "name": "ipython",
    "version": 3
   },
   "file_extension": ".py",
   "mimetype": "text/x-python",
   "name": "python",
   "nbconvert_exporter": "python",
   "pygments_lexer": "ipython3",
   "version": "3.8.10"
  },
  "orig_nbformat": 4,
  "vscode": {
   "interpreter": {
    "hash": "916dbcbb3f70747c44a77c7bcd40155683ae19c65e1c03b4aa3499c5328201f1"
   }
  }
 },
 "nbformat": 4,
 "nbformat_minor": 2
}
