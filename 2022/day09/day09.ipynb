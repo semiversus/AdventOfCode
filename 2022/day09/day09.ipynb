{
 "cells": [
  {
   "cell_type": "code",
   "execution_count": 27,
   "metadata": {},
   "outputs": [],
   "source": [
    "file_data = open('day09.data', 'r').read().splitlines()\n",
    "\n",
    "head_pos = (0, 0)\n",
    "tail_pos = (0, 0)\n",
    "\n",
    "def move(head_pos, tail_pos, direction):\n",
    "    if direction == 'R':\n",
    "        new_head_pos = (head_pos[0] + 1, head_pos[1])\n",
    "    elif direction == 'L':\n",
    "        new_head_pos = (head_pos[0] - 1, head_pos[1])\n",
    "    elif direction == 'U':\n",
    "        new_head_pos = (head_pos[0], head_pos[1] + 1)\n",
    "    elif direction == 'D':\n",
    "        new_head_pos = (head_pos[0], head_pos[1] - 1)\n",
    "\n",
    "    if tail_pos in (head_pos, new_head_pos):\n",
    "        return new_head_pos, tail_pos\n",
    "    \n",
    "    if abs(new_head_pos[0] - tail_pos[0]) > 1 or abs(new_head_pos[1] - tail_pos[1]) > 1:\n",
    "        return new_head_pos, head_pos\n",
    "\n",
    "    return new_head_pos, tail_pos\n",
    "\n",
    "tail_positions = set()\n",
    "\n",
    "for line in file_data:\n",
    "    direction, number = line[0], int(line[2:])\n",
    "    for _ in range(number):\n",
    "        head_pos, tail_pos = move(head_pos, tail_pos, direction)\n",
    "        tail_positions.add(tail_pos)"
   ]
  },
  {
   "cell_type": "code",
   "execution_count": 28,
   "metadata": {},
   "outputs": [
    {
     "data": {
      "text/plain": [
       "5981"
      ]
     },
     "execution_count": 28,
     "metadata": {},
     "output_type": "execute_result"
    }
   ],
   "source": [
    "len(tail_positions)"
   ]
  },
  {
   "cell_type": "code",
   "execution_count": 29,
   "metadata": {},
   "outputs": [
    {
     "data": {
      "text/plain": [
       "2352"
      ]
     },
     "execution_count": 29,
     "metadata": {},
     "output_type": "execute_result"
    }
   ],
   "source": [
    "knods = [(0, 0) for _ in range(10)]\n",
    "\n",
    "tail_positions = set()\n",
    "\n",
    "def move(head_pos, tail_pos):\n",
    "    if abs(head_pos[0] - tail_pos[0]) <= 1 and abs(head_pos[1] - tail_pos[1]) <= 1:\n",
    "        return tail_pos\n",
    "    \n",
    "    if abs(head_pos[0] - tail_pos[0]) >= 2 and abs(head_pos[1] - tail_pos[1]) >= 2:\n",
    "        return ((head_pos[0] + tail_pos[0]) // 2, (head_pos[1] + tail_pos[1]) // 2)\n",
    "\n",
    "    if abs(head_pos[0] - tail_pos[0]) >= 2:\n",
    "        return ((head_pos[0] + tail_pos[0]) // 2, head_pos[1])\n",
    "    \n",
    "    return (head_pos[0], (head_pos[1] + tail_pos[1]) // 2)\n",
    "\n",
    "for line in file_data:\n",
    "    direction, number = line[0], int(line[2:])\n",
    "    for _ in range(number):\n",
    "        if direction == 'R':\n",
    "            knods[0] = (knods[0][0] + 1, knods[0][1])\n",
    "        elif direction == 'L':\n",
    "            knods[0] = (knods[0][0] - 1, knods[0][1])\n",
    "        elif direction == 'U':\n",
    "            knods[0] = (knods[0][0], knods[0][1] + 1)\n",
    "        elif direction == 'D':\n",
    "            knods[0] = (knods[0][0], knods[0][1] - 1)\n",
    "\n",
    "        for knod_index in range(len(knods) - 1):\n",
    "            knods[knod_index + 1] = move(knods[knod_index], knods[knod_index + 1])\n",
    "        \n",
    "        tail_positions.add(knods[9])\n",
    "\n",
    "len(tail_positions)"
   ]
  }
 ],
 "metadata": {
  "kernelspec": {
   "display_name": "Python 3",
   "language": "python",
   "name": "python3"
  },
  "language_info": {
   "codemirror_mode": {
    "name": "ipython",
    "version": 3
   },
   "file_extension": ".py",
   "mimetype": "text/x-python",
   "name": "python",
   "nbconvert_exporter": "python",
   "pygments_lexer": "ipython3",
   "version": "3.9.11"
  },
  "orig_nbformat": 4,
  "vscode": {
   "interpreter": {
    "hash": "916dbcbb3f70747c44a77c7bcd40155683ae19c65e1c03b4aa3499c5328201f1"
   }
  }
 },
 "nbformat": 4,
 "nbformat_minor": 2
}
