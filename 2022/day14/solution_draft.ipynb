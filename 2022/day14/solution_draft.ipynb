{
 "cells": [
  {
   "cell_type": "code",
   "execution_count": 3,
   "metadata": {},
   "outputs": [
    {
     "data": {
      "text/plain": [
       "719"
      ]
     },
     "execution_count": 3,
     "metadata": {},
     "output_type": "execute_result"
    }
   ],
   "source": [
    "file_data = open('puzzle.data', 'r').read().splitlines()\n",
    "\n",
    "world = {}\n",
    "\n",
    "for rock in file_data:\n",
    "    lines = rock.split(' -> ')\n",
    "    for positions in zip(lines, lines[1:]):\n",
    "        pos1, pos2 = [[int(v) for v in p.split(',')] for p in positions]\n",
    "        if pos1[0] == pos2[0]:\n",
    "            y_start, y_end = min(pos1[1], pos2[1]), max(pos1[1], pos2[1])\n",
    "            world.update({(pos1[0], y): '#' for y in range(y_start, y_end + 1)})\n",
    "        else:\n",
    "            x_start, x_end = min(pos1[0], pos2[0]), max(pos1[0], pos2[0])\n",
    "            world.update({(x, pos1[1]): '#' for x in range(x_start, x_end + 1)})\n",
    "\n",
    "sand_units = 0\n",
    "\n",
    "while True:\n",
    "    x = 500\n",
    "    y = 0\n",
    "    while y < 1000:\n",
    "        if (x, y + 1) not in world:\n",
    "            y += 1\n",
    "            continue\n",
    "        if (x - 1, y + 1)  not in world:\n",
    "            x, y = x - 1, y + 1\n",
    "            continue\n",
    "        if (x + 1, y + 1)  not in world:\n",
    "            x, y = x + 1, y + 1\n",
    "            continue\n",
    "        world[(x, y)] = 'o'\n",
    "        sand_units += 1\n",
    "        break\n",
    "        \n",
    "    \n",
    "    if y >= 1000:\n",
    "        break \n",
    "\n",
    "sand_units"
   ]
  },
  {
   "cell_type": "code",
   "execution_count": 5,
   "metadata": {},
   "outputs": [
    {
     "data": {
      "text/plain": [
       "23390"
      ]
     },
     "execution_count": 5,
     "metadata": {},
     "output_type": "execute_result"
    }
   ],
   "source": [
    "file_data = open('puzzle.data', 'r').read().splitlines()\n",
    "\n",
    "world = {}\n",
    "\n",
    "max_y = 0\n",
    "\n",
    "for rock in file_data:\n",
    "    lines = rock.split(' -> ')\n",
    "    for positions in zip(lines, lines[1:]):\n",
    "        pos1, pos2 = [[int(v) for v in p.split(',')] for p in positions]\n",
    "        max_y = max(pos1[1], pos2[1], max_y)\n",
    "\n",
    "        if pos1[0] == pos2[0]:\n",
    "            y_start, y_end = min(pos1[1], pos2[1]), max(pos1[1], pos2[1])\n",
    "            world.update({(pos1[0], y): '#' for y in range(y_start, y_end + 1)})\n",
    "        else:\n",
    "            x_start, x_end = min(pos1[0], pos2[0]), max(pos1[0], pos2[0])\n",
    "            world.update({(x, pos1[1]): '#' for x in range(x_start, x_end + 1)})\n",
    "\n",
    "sand_units = 0\n",
    "\n",
    "while True:\n",
    "    x = 500\n",
    "    y = 0\n",
    "    while y < 1000:\n",
    "        if y + 1 == max_y + 2:\n",
    "            world[(x, y)] = 'o'\n",
    "            sand_units += 1\n",
    "            break\n",
    "\n",
    "        if (x, y + 1) not in world:\n",
    "            y += 1\n",
    "            continue\n",
    "        if (x - 1, y + 1) not in world:\n",
    "            x, y = x - 1, y + 1\n",
    "            continue\n",
    "        if (x + 1, y + 1) not in world:\n",
    "            x, y = x + 1, y + 1\n",
    "            continue\n",
    "        \n",
    "        world[(x, y)] = 'o'\n",
    "        sand_units += 1\n",
    "        break\n",
    "    \n",
    "    if y == 0:\n",
    "        break \n",
    "\n",
    "sand_units"
   ]
  }
 ],
 "metadata": {
  "interpreter": {
   "hash": "36cf16204b8548560b1c020c4e8fb5b57f0e4c58016f52f2d4be01e192833930"
  },
  "kernelspec": {
   "display_name": "Python 3.9.11 64-bit",
   "language": "python",
   "name": "python3"
  },
  "language_info": {
   "codemirror_mode": {
    "name": "ipython",
    "version": 3
   },
   "file_extension": ".py",
   "mimetype": "text/x-python",
   "name": "python",
   "nbconvert_exporter": "python",
   "pygments_lexer": "ipython3",
   "version": "3.9.11"
  },
  "orig_nbformat": 4
 },
 "nbformat": 4,
 "nbformat_minor": 2
}
