{
 "cells": [
  {
   "cell_type": "code",
   "execution_count": 103,
   "metadata": {},
   "outputs": [],
   "source": [
    "import dataclasses\n",
    "import math\n",
    "from typing import List\n",
    "\n",
    "\n",
    "@dataclasses.dataclass\n",
    "class Blueprint:\n",
    "    index: int\n",
    "    ore_robot_ore: int\n",
    "    clay_robot_ore: int\n",
    "    obsidian_robot_ore: int\n",
    "    obsidian_robot_clay: int\n",
    "    geode_robot_ore: int\n",
    "    geode_robot_obsidian: int\n",
    "\n",
    "\n",
    "@dataclasses.dataclass\n",
    "class State:\n",
    "    minute: int\n",
    "    ore: int\n",
    "    clay: int\n",
    "    obsidian: int\n",
    "    geode: int\n",
    "    ore_robots: int\n",
    "    clay_robots: int\n",
    "    obsidian_robots: int\n",
    "    geode_robots: int\n",
    "    history: str\n",
    "\n",
    "\n",
    "def run_blueprint(blueprint: Blueprint, duration: int):   \n",
    "    open_states: List[State] = [State(0, 0, 0, 0, 0, 1, 0, 0, 0, '')]\n",
    "    max_state = open_states[0]\n",
    "\n",
    "    while open_states:\n",
    "        state = open_states.pop()\n",
    "\n",
    "        if state.minute > duration:\n",
    "            continue\n",
    "            \n",
    "        if state.geode > max_state.geode:\n",
    "            max_state = state\n",
    "        \n",
    "        if state.minute == duration:\n",
    "            continue\n",
    "            \n",
    "        # path for buying an ore robot\n",
    "        if state.ore_robots < max(blueprint.ore_robot_ore, blueprint.clay_robot_ore, blueprint.obsidian_robot_ore, blueprint.geode_robot_ore):\n",
    "            completion_duration = max(0, math.ceil((blueprint.ore_robot_ore - state.ore) / state.ore_robots)) + 1\n",
    "            completion_duration = duration - state.minute if state.minute + completion_duration > duration else completion_duration\n",
    "            ore_robot_state = dataclasses.replace(state,\n",
    "                minute=state.minute + completion_duration,\n",
    "                ore=state.ore + completion_duration * state.ore_robots - blueprint.ore_robot_ore,\n",
    "                clay=state.clay + completion_duration * state.clay_robots,\n",
    "                obsidian=state.obsidian + completion_duration * state.obsidian_robots,\n",
    "                geode=state.geode + completion_duration * state.geode_robots,\n",
    "                ore_robots=state.ore_robots + 1,\n",
    "                history=state.history + f'@{state.minute + completion_duration}:ore_robot '\n",
    "            )\n",
    "\n",
    "            open_states.append(ore_robot_state)\n",
    "\n",
    "        # path for buying an clay robot\n",
    "        if state.clay_robots < blueprint.obsidian_robot_clay:\n",
    "            completion_duration = max(0, math.ceil((blueprint.clay_robot_ore - state.ore) / state.ore_robots)) + 1\n",
    "            completion_duration = duration - state.minute if state.minute + completion_duration > duration else completion_duration\n",
    "            clay_robot_state = dataclasses.replace(state,\n",
    "                minute=state.minute + completion_duration,\n",
    "                ore=state.ore + completion_duration * state.ore_robots - blueprint.clay_robot_ore,\n",
    "                clay=state.clay + completion_duration * state.clay_robots,\n",
    "                obsidian=state.obsidian + completion_duration * state.obsidian_robots,\n",
    "                geode=state.geode + completion_duration * state.geode_robots,\n",
    "                clay_robots=state.clay_robots + 1,\n",
    "                history=state.history + f'@{state.minute + completion_duration}:clay_robot '\n",
    "            )\n",
    "\n",
    "            open_states.append(clay_robot_state)\n",
    "\n",
    "        # path for buying an obsidian robot\n",
    "        if state.clay_robots and state.obsidian_robots < blueprint.geode_robot_obsidian:\n",
    "            completion_duration = max(0, math.ceil((blueprint.obsidian_robot_ore - state.ore) / state.ore_robots), math.ceil((blueprint.obsidian_robot_clay - state.clay) / state.clay_robots)) + 1\n",
    "            completion_duration = duration - state.minute if state.minute + completion_duration > duration else completion_duration\n",
    "            obsidian_robot_state = dataclasses.replace(state,\n",
    "                minute=state.minute + completion_duration,\n",
    "                ore=state.ore + completion_duration * state.ore_robots - blueprint.obsidian_robot_ore,\n",
    "                clay=state.clay + completion_duration * state.clay_robots - blueprint.obsidian_robot_clay,\n",
    "                obsidian=state.obsidian + completion_duration * state.obsidian_robots,\n",
    "                geode=state.geode + completion_duration * state.geode_robots,\n",
    "                obsidian_robots=state.obsidian_robots + 1,\n",
    "            history=state.history + f'@{state.minute + completion_duration}:obsidian_robot '\n",
    "            )\n",
    "\n",
    "            open_states.append(obsidian_robot_state)\n",
    "        \n",
    "        # path for buying an geode robot\n",
    "        if state.obsidian_robots:\n",
    "            completion_duration = max(0, math.ceil((blueprint.geode_robot_ore - state.ore) / state.ore_robots), math.ceil((blueprint.geode_robot_obsidian - state.obsidian) / state.obsidian_robots)) + 1\n",
    "            completion_duration = duration - state.minute if state.minute + completion_duration > duration else completion_duration\n",
    "            geode_robot_state = dataclasses.replace(state,\n",
    "                minute=state.minute + completion_duration,\n",
    "                ore=state.ore + completion_duration * state.ore_robots - blueprint.geode_robot_ore,\n",
    "                clay=state.clay + completion_duration * state.clay_robots,\n",
    "                obsidian=state.obsidian + completion_duration * state.obsidian_robots - blueprint.geode_robot_obsidian,\n",
    "                geode=state.geode + completion_duration * state.geode_robots,\n",
    "                geode_robots=state.geode_robots + 1,\n",
    "                history=state.history + f'@{state.minute + completion_duration}:geode_robot '\n",
    "            )\n",
    "\n",
    "            open_states.append(geode_robot_state)\n",
    "\n",
    "    return max_state"
   ]
  },
  {
   "cell_type": "code",
   "execution_count": 104,
   "metadata": {},
   "outputs": [
    {
     "data": {
      "text/plain": [
       "1616"
      ]
     },
     "execution_count": 104,
     "metadata": {},
     "output_type": "execute_result"
    }
   ],
   "source": [
    "import re\n",
    "file_data = open('day19.data', 'r').read().splitlines()\n",
    "\n",
    "blueprints = [Blueprint(*(int(v) for v in re.findall(r'Blueprint (\\d+): Each ore robot costs (\\d+) ore. Each clay robot costs (\\d+) ore. Each obsidian robot costs (\\d+) ore and (\\d+) clay. Each geode robot costs (\\d+) ore and (\\d+) obsidian.', line)[0])) for line in file_data]\n",
    "results = [(b.index, run_blueprint(b, 24)) for b in blueprints]\n",
    "sum(r[0] * r[1].geode for r in results)"
   ]
  },
  {
   "cell_type": "code",
   "execution_count": 106,
   "metadata": {},
   "outputs": [
    {
     "data": {
      "text/plain": [
       "8990"
      ]
     },
     "execution_count": 106,
     "metadata": {},
     "output_type": "execute_result"
    }
   ],
   "source": [
    "run_blueprint(blueprints[0], 32).geode * run_blueprint(blueprints[1], 32).geode * run_blueprint(blueprints[2], 32).geode"
   ]
  }
 ],
 "metadata": {
  "kernelspec": {
   "display_name": "Python 3",
   "language": "python",
   "name": "python3"
  },
  "language_info": {
   "codemirror_mode": {
    "name": "ipython",
    "version": 3
   },
   "file_extension": ".py",
   "mimetype": "text/x-python",
   "name": "python",
   "nbconvert_exporter": "python",
   "pygments_lexer": "ipython3",
   "version": "3.8.10"
  },
  "orig_nbformat": 4,
  "vscode": {
   "interpreter": {
    "hash": "e7370f93d1d0cde622a1f8e1c04877d8463912d04d973331ad4851f04de6915a"
   }
  }
 },
 "nbformat": 4,
 "nbformat_minor": 2
}
