{
 "cells": [
  {
   "cell_type": "code",
   "execution_count": 6,
   "metadata": {},
   "outputs": [
    {
     "data": {
      "text/plain": [
       "'20=02=120-=-2110-0=1'"
      ]
     },
     "execution_count": 6,
     "metadata": {},
     "output_type": "execute_result"
    }
   ],
   "source": [
    "file_data = open('day25.data', 'r').read().splitlines()\n",
    "\n",
    "def unsnafu(line):\n",
    "    value = 0\n",
    "    for index, l in enumerate(line):\n",
    "        digit_value = int(pow(5, len(line) - index - 1))\n",
    "        if l in ('0', '1', '2'):\n",
    "            value += digit_value * int(l)\n",
    "        elif l == '-':\n",
    "            value -= digit_value\n",
    "        elif l == '=':\n",
    "            value -= 2 * digit_value\n",
    "    return value\n",
    "\n",
    "def snafu(value):\n",
    "    letters = ''\n",
    "    while value:\n",
    "        l = {0: '0', 1: '1', 2: '2', 3: '=', 4: '-'}[value % 5]\n",
    "        if l in ('-', '='):\n",
    "            value += 5\n",
    "        value = value // 5\n",
    "        letters = l + letters\n",
    "    return letters\n",
    "    \n",
    "snafu(sum(unsnafu(line) for line in file_data))"
   ]
  }
 ],
 "metadata": {
  "kernelspec": {
   "display_name": "Python 3",
   "language": "python",
   "name": "python3"
  },
  "language_info": {
   "codemirror_mode": {
    "name": "ipython",
    "version": 3
   },
   "file_extension": ".py",
   "mimetype": "text/x-python",
   "name": "python",
   "nbconvert_exporter": "python",
   "pygments_lexer": "ipython3",
   "version": "3.8.10"
  },
  "orig_nbformat": 4,
  "vscode": {
   "interpreter": {
    "hash": "916dbcbb3f70747c44a77c7bcd40155683ae19c65e1c03b4aa3499c5328201f1"
   }
  }
 },
 "nbformat": 4,
 "nbformat_minor": 2
}
