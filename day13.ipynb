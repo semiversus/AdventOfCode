{
 "cells": [
  {
   "cell_type": "code",
   "execution_count": 59,
   "metadata": {},
   "outputs": [],
   "source": [
    "file_data = open('day13.data', 'r').read()\n",
    "\n",
    "from ast import literal_eval\n",
    "\n",
    "pairs = [tuple(literal_eval(l) for l in pair_lines.split('\\n')) for pair_lines in file_data.split('\\n\\n')]"
   ]
  },
  {
   "cell_type": "code",
   "execution_count": 60,
   "metadata": {},
   "outputs": [
    {
     "data": {
      "text/plain": [
       "4809"
      ]
     },
     "execution_count": 60,
     "metadata": {},
     "output_type": "execute_result"
    }
   ],
   "source": [
    "def cmp(p1, p2):\n",
    "    if isinstance(p1, int) and isinstance(p2, int):\n",
    "        return 0 if p1 == p2 else (-1 if p1 < p2 else 1)\n",
    "        \n",
    "    if isinstance(p1, int):\n",
    "        p1 = [p1]\n",
    "    \n",
    "    if isinstance(p2, int):\n",
    "        p2 = [p2]\n",
    "\n",
    "    for e1, e2 in zip(p1, p2):\n",
    "        r = cmp(e1, e2)\n",
    "        if r == 0:\n",
    "            continue\n",
    "        return r\n",
    "    \n",
    "    return 0 if len(p1) == len(p2) else (-1 if len(p1) < len(p2) else 1)\n",
    "\n",
    "sum(i for i, (p1, p2) in enumerate(pairs, start=1) if cmp(p1, p2) < 0)"
   ]
  },
  {
   "cell_type": "code",
   "execution_count": 61,
   "metadata": {},
   "outputs": [
    {
     "data": {
      "text/plain": [
       "22600"
      ]
     },
     "execution_count": 61,
     "metadata": {},
     "output_type": "execute_result"
    }
   ],
   "source": [
    "from itertools import chain\n",
    "packets = list(chain(*pairs))\n",
    "packets.append([[2]])\n",
    "packets.append([[6]])\n",
    "\n",
    "from functools import cmp_to_key\n",
    "ordered_packets = sorted(packets, key=cmp_to_key(cmp))\n",
    "(ordered_packets.index([[2]]) + 1) * (ordered_packets.index([[6]]) + 1)"
   ]
  }
 ],
 "metadata": {
  "interpreter": {
   "hash": "36cf16204b8548560b1c020c4e8fb5b57f0e4c58016f52f2d4be01e192833930"
  },
  "kernelspec": {
   "display_name": "Python 3.9.11 64-bit",
   "language": "python",
   "name": "python3"
  },
  "language_info": {
   "codemirror_mode": {
    "name": "ipython",
    "version": 3
   },
   "file_extension": ".py",
   "mimetype": "text/x-python",
   "name": "python",
   "nbconvert_exporter": "python",
   "pygments_lexer": "ipython3",
   "version": "3.9.11"
  },
  "orig_nbformat": 4
 },
 "nbformat": 4,
 "nbformat_minor": 2
}
