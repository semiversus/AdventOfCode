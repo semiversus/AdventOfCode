{
 "cells": [
  {
   "cell_type": "code",
   "execution_count": 9,
   "metadata": {},
   "outputs": [
    {
     "data": {
      "text/plain": [
       "513"
      ]
     },
     "execution_count": 9,
     "metadata": {},
     "output_type": "execute_result"
    }
   ],
   "source": [
    "file_data = open('day04.data', 'r').read().splitlines()\n",
    "\n",
    "def contained(line):\n",
    "    (elf1_start, elf1_end), (elf2_start, elf2_end) = [[int(n) for n in p.split('-')] for p in line.split(',')]\n",
    "    return (elf1_start <= elf2_start and elf1_end >= elf2_end) or (elf2_start <= elf1_start and elf2_end >= elf1_end)\n",
    "\n",
    "sum(contained(line) for line in file_data)"
   ]
  },
  {
   "cell_type": "code",
   "execution_count": 12,
   "metadata": {},
   "outputs": [
    {
     "data": {
      "text/plain": [
       "878"
      ]
     },
     "execution_count": 12,
     "metadata": {},
     "output_type": "execute_result"
    }
   ],
   "source": [
    "def overlap(line):\n",
    "    (elf1_start, elf1_end), (elf2_start, elf2_end) = [[int(n) for n in p.split('-')] for p in line.split(',')]\n",
    "    elf1_sections, elf2_sections = set(range(elf1_start, elf1_end + 1)), set(range(elf2_start, elf2_end + 1))\n",
    "\n",
    "    return len(elf1_sections & elf2_sections) != 0\n",
    "\n",
    "sum(overlap(line) for line in file_data)\n"
   ]
  }
 ],
 "metadata": {
  "interpreter": {
   "hash": "36cf16204b8548560b1c020c4e8fb5b57f0e4c58016f52f2d4be01e192833930"
  },
  "kernelspec": {
   "display_name": "Python 3.9.9 64-bit",
   "language": "python",
   "name": "python3"
  },
  "language_info": {
   "codemirror_mode": {
    "name": "ipython",
    "version": 3
   },
   "file_extension": ".py",
   "mimetype": "text/x-python",
   "name": "python",
   "nbconvert_exporter": "python",
   "pygments_lexer": "ipython3",
   "version": "3.9.11"
  },
  "orig_nbformat": 4
 },
 "nbformat": 4,
 "nbformat_minor": 2
}
