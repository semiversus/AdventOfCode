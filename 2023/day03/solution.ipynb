{
 "cells": [
  {
   "cell_type": "markdown",
   "metadata": {},
   "source": [
    "# Advent of Code 2023 - Day 3\n",
    "[Link to this puzzle](https://adventofcode.com/2023/day/3)\n",
    "\n",
    "## Problem 1"
   ]
  },
  {
   "cell_type": "code",
   "execution_count": 7,
   "metadata": {},
   "outputs": [],
   "source": [
    "from collections import namedtuple\n",
    "import re\n",
    "\n",
    "Number = namedtuple('Number', 'value x1 x2 y')\n",
    "\n",
    "def find_numbers_and_positions(data: str) -> list[Number]:\n",
    "    numbers = []\n",
    "    for y, line in enumerate(data.splitlines()):\n",
    "        numbers += [Number(int(m.group()), m.start(), m.end() - 1, y) for m in re.finditer('\\d+', line)]\n",
    "    return numbers\n",
    "\n",
    "def sum_marked_numbers(data: str) -> int:\n",
    "    numbers = find_numbers_and_positions(data)\n",
    "    marked_numbers = set()\n",
    "    for y, line in enumerate(data.splitlines()):\n",
    "        for symbol in re.finditer(r'[^\\d.]{1}', line):\n",
    "            for number in numbers:\n",
    "                if symbol.start() >= number.x1 - 1 and symbol.start() <= number.x2 + 1 and number.y in (y - 1, y, y + 1):\n",
    "                    marked_numbers.add(number)\n",
    "                    \n",
    "    return sum(number.value for number in marked_numbers)"
   ]
  },
  {
   "cell_type": "markdown",
   "metadata": {},
   "source": [
    "### Sample input"
   ]
  },
  {
   "cell_type": "code",
   "execution_count": 8,
   "metadata": {},
   "outputs": [
    {
     "data": {
      "text/plain": [
       "4361"
      ]
     },
     "execution_count": 8,
     "metadata": {},
     "output_type": "execute_result"
    }
   ],
   "source": [
    "sample_data = \"\"\"467..114..\n",
    "...*......\n",
    "..35..633.\n",
    "......#...\n",
    "617*......\n",
    ".....+.58.\n",
    "..592.....\n",
    "......755.\n",
    "...$.*....\n",
    ".664.598..\n",
    "\"\"\"\n",
    "\n",
    "sum_marked_numbers(sample_data)"
   ]
  },
  {
   "cell_type": "markdown",
   "metadata": {},
   "source": [
    "### Puzzle input"
   ]
  },
  {
   "cell_type": "code",
   "execution_count": 9,
   "metadata": {},
   "outputs": [
    {
     "data": {
      "text/plain": [
       "540025"
      ]
     },
     "execution_count": 9,
     "metadata": {},
     "output_type": "execute_result"
    }
   ],
   "source": [
    "puzzle_data = open(\"puzzle.data\").read()\n",
    "\n",
    "sum_marked_numbers(puzzle_data)"
   ]
  },
  {
   "cell_type": "markdown",
   "metadata": {},
   "source": [
    "## Problem 2"
   ]
  },
  {
   "cell_type": "code",
   "execution_count": 10,
   "metadata": {},
   "outputs": [],
   "source": [
    "def sum_of_gear_ratios(data: str) -> int:\n",
    "    numbers = find_numbers_and_positions(data)\n",
    "    gear_ratio_sum = 0\n",
    "\n",
    "    for y, line in enumerate(data.splitlines()):\n",
    "        for symbol in re.finditer(r'[*]{1}', line):\n",
    "            marked_numbers = set()\n",
    "            for number in numbers:\n",
    "                if symbol.start() >= number.x1 - 1 and symbol.start() <= number.x2 + 1 and number.y in (y - 1, y, y + 1):\n",
    "                    marked_numbers.add(number)\n",
    "            if len(marked_numbers) == 2:\n",
    "                marked_numbers = tuple(marked_numbers)\n",
    "                gear_ratio_sum += marked_numbers[0].value * marked_numbers[1].value\n",
    "    \n",
    "    return gear_ratio_sum\n"
   ]
  },
  {
   "cell_type": "markdown",
   "metadata": {},
   "source": [
    "### Sample input"
   ]
  },
  {
   "cell_type": "code",
   "execution_count": 11,
   "metadata": {},
   "outputs": [
    {
     "ename": "TypeError",
     "evalue": "'set' object is not subscriptable",
     "output_type": "error",
     "traceback": [
      "\u001b[0;31m---------------------------------------------------------------------------\u001b[0m",
      "\u001b[0;31mTypeError\u001b[0m                                 Traceback (most recent call last)",
      "\u001b[1;32m/home/guenther/projects/AdventOfCode/2023/day03/solution.ipynb Cell 10\u001b[0m line \u001b[0;36m1\n\u001b[0;32m----> <a href='vscode-notebook-cell:/home/guenther/projects/AdventOfCode/2023/day03/solution.ipynb#X12sZmlsZQ%3D%3D?line=0'>1</a>\u001b[0m sum_of_gear_ratios(sample_data)\n",
      "\u001b[1;32m/home/guenther/projects/AdventOfCode/2023/day03/solution.ipynb Cell 10\u001b[0m line \u001b[0;36m1\n\u001b[1;32m     <a href='vscode-notebook-cell:/home/guenther/projects/AdventOfCode/2023/day03/solution.ipynb#X12sZmlsZQ%3D%3D?line=9'>10</a>\u001b[0m                 marked_numbers\u001b[39m.\u001b[39madd(number)\n\u001b[1;32m     <a href='vscode-notebook-cell:/home/guenther/projects/AdventOfCode/2023/day03/solution.ipynb#X12sZmlsZQ%3D%3D?line=10'>11</a>\u001b[0m         \u001b[39mif\u001b[39;00m \u001b[39mlen\u001b[39m(marked_numbers) \u001b[39m==\u001b[39m \u001b[39m2\u001b[39m:\n\u001b[0;32m---> <a href='vscode-notebook-cell:/home/guenther/projects/AdventOfCode/2023/day03/solution.ipynb#X12sZmlsZQ%3D%3D?line=11'>12</a>\u001b[0m             gear_ratio_sum \u001b[39m+\u001b[39m\u001b[39m=\u001b[39m marked_numbers[\u001b[39m0\u001b[39;49m]\u001b[39m.\u001b[39mvalue \u001b[39m*\u001b[39m marked_numbers[\u001b[39m1\u001b[39m]\u001b[39m.\u001b[39mvalue\n\u001b[1;32m     <a href='vscode-notebook-cell:/home/guenther/projects/AdventOfCode/2023/day03/solution.ipynb#X12sZmlsZQ%3D%3D?line=13'>14</a>\u001b[0m \u001b[39mreturn\u001b[39;00m gear_ratio_sum\n",
      "\u001b[0;31mTypeError\u001b[0m: 'set' object is not subscriptable"
     ]
    }
   ],
   "source": [
    "sum_of_gear_ratios(sample_data)"
   ]
  },
  {
   "cell_type": "markdown",
   "metadata": {},
   "source": [
    "### Puzzle input"
   ]
  },
  {
   "cell_type": "code",
   "execution_count": null,
   "metadata": {},
   "outputs": [],
   "source": []
  }
 ],
 "metadata": {
  "kernelspec": {
   "display_name": "Python 3",
   "language": "python",
   "name": "python3"
  },
  "language_info": {
   "codemirror_mode": {
    "name": "ipython",
    "version": 3
   },
   "file_extension": ".py",
   "mimetype": "text/x-python",
   "name": "python",
   "nbconvert_exporter": "python",
   "pygments_lexer": "ipython3",
   "version": "3.11.6"
  }
 },
 "nbformat": 4,
 "nbformat_minor": 2
}
