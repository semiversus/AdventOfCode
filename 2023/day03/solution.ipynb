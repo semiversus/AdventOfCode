{
 "cells": [
  {
   "cell_type": "markdown",
   "metadata": {},
   "source": [
    "# Advent of Code 2023 - Day 3\n",
    "[Link to this puzzle](https://adventofcode.com/2023/day/3)\n",
    "\n",
    "## Problem 1"
   ]
  },
  {
   "cell_type": "code",
   "execution_count": 17,
   "metadata": {},
   "outputs": [],
   "source": [
    "from collections import namedtuple\n",
    "import re\n",
    "\n",
    "Number = namedtuple('Number', 'value x1 x2 y')\n",
    "\n",
    "def find_numbers_and_positions(data: str) -> list[Number]:\n",
    "    numbers = []\n",
    "    for y, line in enumerate(data.splitlines()):\n",
    "        numbers += [Number(int(m.group()), m.start(), m.end() - 1, y) for m in re.finditer('\\d+', line)]\n",
    "    return numbers\n",
    "\n",
    "def sum_marked_numbers(data: str) -> int:\n",
    "    numbers = find_numbers_and_positions(data)\n",
    "    marked_numbers = set()\n",
    "    for y, line in enumerate(data.splitlines()):\n",
    "        for symbol in re.finditer(r'[^\\d.]{1}', line):\n",
    "            for number in numbers:\n",
    "                if symbol.start() >= number.x1 - 1 and symbol.start() <= number.x2 + 1 and number.y in (y - 1, y, y + 1):\n",
    "                    marked_numbers.add(number)\n",
    "                    \n",
    "    return sum(number.value for number in marked_numbers)"
   ]
  },
  {
   "cell_type": "markdown",
   "metadata": {},
   "source": [
    "### Sample input"
   ]
  },
  {
   "cell_type": "code",
   "execution_count": 18,
   "metadata": {},
   "outputs": [
    {
     "data": {
      "text/plain": [
       "4361"
      ]
     },
     "execution_count": 18,
     "metadata": {},
     "output_type": "execute_result"
    }
   ],
   "source": [
    "sample_data = \"\"\"467..114..\n",
    "...*......\n",
    "..35..633.\n",
    "......#...\n",
    "617*......\n",
    ".....+.58.\n",
    "..592.....\n",
    "......755.\n",
    "...$.*....\n",
    ".664.598..\n",
    "\"\"\"\n",
    "\n",
    "sum_marked_numbers(sample_data)"
   ]
  },
  {
   "cell_type": "markdown",
   "metadata": {},
   "source": [
    "### Puzzle input"
   ]
  },
  {
   "cell_type": "code",
   "execution_count": 19,
   "metadata": {},
   "outputs": [
    {
     "data": {
      "text/plain": [
       "540025"
      ]
     },
     "execution_count": 19,
     "metadata": {},
     "output_type": "execute_result"
    }
   ],
   "source": [
    "puzzle_data = open(\"puzzle.data\").read()\n",
    "\n",
    "sum_marked_numbers(puzzle_data)"
   ]
  },
  {
   "cell_type": "markdown",
   "metadata": {},
   "source": [
    "## Problem 2"
   ]
  },
  {
   "cell_type": "code",
   "execution_count": 20,
   "metadata": {},
   "outputs": [],
   "source": [
    "def sum_of_gear_ratios(data: str) -> int:\n",
    "    numbers = find_numbers_and_positions(data)\n",
    "    gear_ratio_sum = 0\n",
    "\n",
    "    for y, line in enumerate(data.splitlines()):\n",
    "        for symbol in re.finditer(r'[*]{1}', line):\n",
    "            marked_numbers = set()\n",
    "            for number in numbers:\n",
    "                if symbol.start() >= number.x1 - 1 and symbol.start() <= number.x2 + 1 and number.y in (y - 1, y, y + 1):\n",
    "                    marked_numbers.add(number)\n",
    "            if len(marked_numbers) == 2:\n",
    "                marked_numbers = tuple(marked_numbers)\n",
    "                gear_ratio_sum += marked_numbers[0].value * marked_numbers[1].value\n",
    "    \n",
    "    return gear_ratio_sum\n"
   ]
  },
  {
   "cell_type": "markdown",
   "metadata": {},
   "source": [
    "### Sample input"
   ]
  },
  {
   "cell_type": "code",
   "execution_count": 21,
   "metadata": {},
   "outputs": [
    {
     "data": {
      "text/plain": [
       "467835"
      ]
     },
     "execution_count": 21,
     "metadata": {},
     "output_type": "execute_result"
    }
   ],
   "source": [
    "sum_of_gear_ratios(sample_data)"
   ]
  },
  {
   "cell_type": "markdown",
   "metadata": {},
   "source": [
    "### Puzzle input"
   ]
  },
  {
   "cell_type": "code",
   "execution_count": 22,
   "metadata": {},
   "outputs": [
    {
     "data": {
      "text/plain": [
       "84584891"
      ]
     },
     "execution_count": 22,
     "metadata": {},
     "output_type": "execute_result"
    }
   ],
   "source": [
    "sum_of_gear_ratios(puzzle_data)"
   ]
  }
 ],
 "metadata": {
  "kernelspec": {
   "display_name": "Python 3",
   "language": "python",
   "name": "python3"
  },
  "language_info": {
   "codemirror_mode": {
    "name": "ipython",
    "version": 3
   },
   "file_extension": ".py",
   "mimetype": "text/x-python",
   "name": "python",
   "nbconvert_exporter": "python",
   "pygments_lexer": "ipython3",
   "version": "3.11.6"
  }
 },
 "nbformat": 4,
 "nbformat_minor": 2
}
