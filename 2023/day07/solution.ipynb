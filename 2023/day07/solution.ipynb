{
 "cells": [
  {
   "cell_type": "markdown",
   "metadata": {},
   "source": [
    "# Advent of Code 2023 - Day 7\n",
    "[Link to this puzzle](https://adventofcode.com/2021/day/7)\n",
    "\n",
    "## Problem 1"
   ]
  },
  {
   "cell_type": "code",
   "execution_count": 171,
   "metadata": {},
   "outputs": [],
   "source": [
    "from enum import Enum\n",
    "\n",
    "Type = Enum('Type', 'HighCard OnePair TwoPair ThreeOfAKind FulHouse FourOfAKind FiveOfAKind')\n",
    "\n",
    "def get_type(hand: str):\n",
    "    ordered_cards = sorted((c * hand.count(c) for c in set(hand)), key=len)\n",
    "    \n",
    "    if len(ordered_cards) == 2:\n",
    "        return Type.FourOfAKind if len(ordered_cards[-1]) == 4 else Type.FulHouse\n",
    "    if len(ordered_cards) == 3:\n",
    "        return Type.ThreeOfAKind if len(ordered_cards[-1]) == 3 else Type.TwoPair\n",
    "    return {1: Type.FiveOfAKind, 4: Type.OnePair, 5: Type.HighCard}[len(ordered_cards)]\n",
    "\n",
    "def compare(order: str, player):\n",
    "    hand = player[1]\n",
    "    return player[0].value * (len(order) ** len(hand)) + sum(order.index(c) * len(order) ** (len(hand) - i - 1) for i, c in enumerate(hand))\n",
    "\n",
    "def parse(data:str, type_parser = get_type):\n",
    "    list_of_hands = []\n",
    "    for line in data.splitlines():\n",
    "        hand, bid = line.split()\n",
    "        list_of_hands.append( (type_parser(hand), hand, int(bid)) )\n",
    "    return list_of_hands\n",
    "\n",
    "def solution1(data: str) -> int:\n",
    "    l = parse(data)\n",
    "    l.sort(key=lambda p: compare('23456789TJQKA', p))\n",
    "    return sum(player[2] * i for i, player in enumerate(l, 1))"
   ]
  },
  {
   "cell_type": "markdown",
   "metadata": {},
   "source": [
    "### Sample input"
   ]
  },
  {
   "cell_type": "code",
   "execution_count": 172,
   "metadata": {},
   "outputs": [
    {
     "data": {
      "text/plain": [
       "6440"
      ]
     },
     "execution_count": 172,
     "metadata": {},
     "output_type": "execute_result"
    }
   ],
   "source": [
    "sample_data = \"\"\"32T3K 765\n",
    "T55J5 684\n",
    "KK677 28\n",
    "KTJJT 220\n",
    "QQQJA 483\n",
    "\"\"\"\n",
    "solution1(sample_data)"
   ]
  },
  {
   "cell_type": "markdown",
   "metadata": {},
   "source": [
    "### Puzzle input"
   ]
  },
  {
   "cell_type": "code",
   "execution_count": 173,
   "metadata": {},
   "outputs": [
    {
     "data": {
      "text/plain": [
       "250474325"
      ]
     },
     "execution_count": 173,
     "metadata": {},
     "output_type": "execute_result"
    }
   ],
   "source": [
    "puzzle_data = open(\"puzzle.data\").read()\n",
    "solution1(puzzle_data)"
   ]
  },
  {
   "cell_type": "markdown",
   "metadata": {},
   "source": [
    "## Problem 2"
   ]
  },
  {
   "cell_type": "code",
   "execution_count": 174,
   "metadata": {},
   "outputs": [],
   "source": [
    "def get_jokerized_type(hand: str):\n",
    "    order = '23456789TJQKA'\n",
    "    ordered_cards = sorted(hand.replace('J', ''), key=lambda c: order.index(c) + len(order) * hand.count(c))\n",
    "    if hand == 'JJJJJ':\n",
    "        return Type.FiveOfAKind\n",
    "    \n",
    "    return get_type(hand.replace('J', ordered_cards[-1]))\n",
    "\n",
    "def solution2(data: str) -> int:\n",
    "    l = parse(data, type_parser=get_jokerized_type)\n",
    "    l.sort(key=lambda p: compare('J23456789TQKA', p))\n",
    "    return sum(player[2] * i for i, player in enumerate(l, 1))"
   ]
  },
  {
   "cell_type": "markdown",
   "metadata": {},
   "source": [
    "### Sample input"
   ]
  },
  {
   "cell_type": "code",
   "execution_count": 175,
   "metadata": {},
   "outputs": [
    {
     "data": {
      "text/plain": [
       "5905"
      ]
     },
     "execution_count": 175,
     "metadata": {},
     "output_type": "execute_result"
    }
   ],
   "source": [
    "solution2(sample_data)"
   ]
  },
  {
   "cell_type": "markdown",
   "metadata": {},
   "source": [
    "### Puzzle input"
   ]
  },
  {
   "cell_type": "code",
   "execution_count": 176,
   "metadata": {},
   "outputs": [
    {
     "data": {
      "text/plain": [
       "248909434"
      ]
     },
     "execution_count": 176,
     "metadata": {},
     "output_type": "execute_result"
    }
   ],
   "source": [
    "solution2(puzzle_data)"
   ]
  }
 ],
 "metadata": {
  "kernelspec": {
   "display_name": "Python 3",
   "language": "python",
   "name": "python3"
  },
  "language_info": {
   "codemirror_mode": {
    "name": "ipython",
    "version": 3
   },
   "file_extension": ".py",
   "mimetype": "text/x-python",
   "name": "python",
   "nbconvert_exporter": "python",
   "pygments_lexer": "ipython3",
   "version": "3.11.6"
  }
 },
 "nbformat": 4,
 "nbformat_minor": 2
}
