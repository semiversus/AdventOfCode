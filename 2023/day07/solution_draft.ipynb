{
 "cells": [
  {
   "cell_type": "code",
   "execution_count": 23,
   "metadata": {},
   "outputs": [
    {
     "data": {
      "text/plain": [
       "250474325"
      ]
     },
     "execution_count": 23,
     "metadata": {},
     "output_type": "execute_result"
    }
   ],
   "source": [
    "data = \"\"\"32T3K 765\n",
    "T55J5 684\n",
    "KK677 28\n",
    "KTJJT 220\n",
    "QQQJA 483\n",
    "\"\"\"\n",
    "data = open('puzzle.data').read()\n",
    "\n",
    "from enum import Enum\n",
    "\n",
    "Type = Enum('Type', 'highcard pair twopair threeofakind fullhouse fourofakind fiveofakind')\n",
    "\n",
    "def get_type(hand: str):\n",
    "    different_cards = len(set(hand))\n",
    "    if different_cards == 1:\n",
    "        return Type.fiveofakind\n",
    "    if different_cards == 2:\n",
    "        if hand.count(hand[0]) in (1, 4):\n",
    "            return Type.fourofakind\n",
    "        return Type.fullhouse\n",
    "    if different_cards == 3:\n",
    "        if hand.count(hand[0]) == 3 or hand.count(hand[1]) == 3 or hand.count(hand[2]) == 3:\n",
    "            return Type.threeofakind\n",
    "        return Type.twopair\n",
    "    if different_cards == 4:   \n",
    "        return Type.pair\n",
    "    return Type.highcard\n",
    "\n",
    "def parse(data:str):\n",
    "    list_of_hands = []\n",
    "    for line in data.splitlines():\n",
    "        hand, bid = line.split()\n",
    "        list_of_hands.append( (get_type(hand), hand, int(bid)) )\n",
    "    return list_of_hands\n",
    "\n",
    "order = '23456789TJQKA'\n",
    "\n",
    "def compare(hand1, hand2):\n",
    "    if hand1[0].value < hand2[0].value:\n",
    "        return -1\n",
    "    elif hand1[0].value > hand2[0].value:\n",
    "        return 1\n",
    "    else:\n",
    "        for card1, card2 in zip(hand1[1], hand2[1]):\n",
    "            if order.index(card1) < order.index(card2):\n",
    "                return -1\n",
    "            elif order.index(card1) > order.index(card2):\n",
    "                return 1\n",
    "        return 0\n",
    "\n",
    "import functools\n",
    "cmp = functools.cmp_to_key(compare)\n",
    "l = parse(data)\n",
    "l.sort(key=cmp)\n",
    "sum(hand[2] * i for i, hand in enumerate(l, 1))"
   ]
  },
  {
   "cell_type": "code",
   "execution_count": 24,
   "metadata": {},
   "outputs": [
    {
     "data": {
      "text/plain": [
       "248839704"
      ]
     },
     "execution_count": 24,
     "metadata": {},
     "output_type": "execute_result"
    }
   ],
   "source": [
    "order = 'J23456789TQKA'\n",
    "\n",
    "from collections import Counter\n",
    "\n",
    "def jokerize(hand):\n",
    "    if 'J' not in hand:\n",
    "        return hand\n",
    "    num_of_jokers = hand.count('J')\n",
    "    other_cards = hand.replace('J', '')\n",
    "    number_of_different_cards = len(set(other_cards))\n",
    "    sorted_cards = ''.join(sorted(other_cards, key=lambda x: order.index(x)))\n",
    "    if num_of_jokers == 5:\n",
    "        return 'AAAAA'\n",
    "    if num_of_jokers == 4:\n",
    "        return hand.replace('J', other_cards)\n",
    "    if num_of_jokers == 3:\n",
    "        if number_of_different_cards == 1:\n",
    "            return hand.replace('J', other_cards[0])\n",
    "        return hand.replace('J', 'A')\n",
    "    if num_of_jokers == 2:\n",
    "        if number_of_different_cards == 3:\n",
    "            return hand.replace('J', 'A')\n",
    "        if number_of_different_cards == 2:\n",
    "            if other_cards[0] == other_cards[1] or other_cards[0] == other_cards[2]:\n",
    "                return hand.replace('J', other_cards[0])\n",
    "            return hand.replace('J', other_cards[1])\n",
    "        return hand.replace('J', 'A')\n",
    "    if num_of_jokers == 1:\n",
    "        return hand.replace('J', sorted_cards[-1]) # FIX?\n",
    "    return hand\n",
    "\n",
    "\n",
    "def parse2(data:str):\n",
    "    list_of_hands = []\n",
    "    for line in data.splitlines():\n",
    "        hand, bid = line.split()\n",
    "        jhand = jokerize(hand)\n",
    "        list_of_hands.append( (get_type(jhand), hand, int(bid)) )\n",
    "    return list_of_hands\n",
    "\n",
    "def compare2(hand1, hand2):\n",
    "    if hand1[0].value < hand2[0].value:\n",
    "        return -1\n",
    "    elif hand1[0].value > hand2[0].value:\n",
    "        return 1\n",
    "    else:\n",
    "        for card1, card2 in zip(hand1[1], hand2[1]):\n",
    "            if order.index(card1) < order.index(card2):\n",
    "                return -1\n",
    "            elif order.index(card1) > order.index(card2):\n",
    "                return 1\n",
    "        return 0\n",
    "    \n",
    "l = parse2(data)\n",
    "cmp2 = functools.cmp_to_key(compare2)\n",
    "l.sort(key=cmp2)\n",
    "sum(hand[2] * i for i, hand in enumerate(l, 1))"
   ]
  },
  {
   "cell_type": "code",
   "execution_count": null,
   "metadata": {},
   "outputs": [],
   "source": []
  }
 ],
 "metadata": {
  "kernelspec": {
   "display_name": "Python 3",
   "language": "python",
   "name": "python3"
  },
  "language_info": {
   "codemirror_mode": {
    "name": "ipython",
    "version": 3
   },
   "file_extension": ".py",
   "mimetype": "text/x-python",
   "name": "python",
   "nbconvert_exporter": "python",
   "pygments_lexer": "ipython3",
   "version": "3.11.6"
  }
 },
 "nbformat": 4,
 "nbformat_minor": 2
}
