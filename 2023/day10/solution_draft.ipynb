{
 "cells": [
  {
   "cell_type": "code",
   "execution_count": 106,
   "metadata": {},
   "outputs": [],
   "source": [
    "data = \"\"\"FF7FSF7F7F7F7F7F---7\n",
    "L|LJ||||||||||||F--J\n",
    "FL-7LJLJ||||||LJL-77\n",
    "F--JF--7||LJLJ7F7FJ-\n",
    "L---JF-JLJ.||-FJLJJ7\n",
    "|F|F-JF---7F7-L7L|7|\n",
    "|FFJF7L7F-JF7|JL---7\n",
    "7-L-JL7||F7|L7F-7F7|\n",
    "L.L7LFJ|||||FJL7||LJ\n",
    "L7JLJL-JLJLJL--JLJ.L\n",
    "\"\"\"\n",
    "data = open('puzzle.data').read()\n",
    "\n",
    "def parse(data) -> tuple[ dict[complex, tuple[complex, complex]], complex ]:\n",
    "    maze = {}\n",
    "    for y, line in enumerate(data.splitlines()):\n",
    "        for x, c in enumerate(line):\n",
    "            pos = x + y * 1j\n",
    "            connected_pos = {\n",
    "                '|': (pos - 1j, pos + 1j),\n",
    "                '-': (pos - 1, pos + 1),\n",
    "                'L': (pos + 1, pos - 1j),\n",
    "                'J': (pos - 1, pos - 1j),\n",
    "                '7': (pos - 1, pos + 1j),\n",
    "                'F': (pos + 1, pos + 1j)\n",
    "            }\n",
    "            if c in connected_pos:\n",
    "                maze[pos] = connected_pos[c]\n",
    "            elif c == 'S':\n",
    "                maze[pos] = ('start',)\n",
    "                start = pos\n",
    "    return maze, start\n",
    "\n",
    "def explore(maze: dict[complex, tuple[complex, complex]], path: list[complex]) -> list[complex]:\n",
    "    open_list = [path]\n",
    "    for path in open_list:\n",
    "        for pos in maze[path[-1]]:\n",
    "            if pos in maze and maze[pos] == ('start',) and len(path) > 2:\n",
    "                return path + [pos]\n",
    "            if pos in path or pos not in maze:\n",
    "                continue\n",
    "            open_list.append(path + [pos])\n",
    "    return []\n",
    "\n",
    "maze, start = parse(data)\n",
    "for offset in [1, 1j, -1, -1j]:\n",
    "    if start not in maze[start + offset]:\n",
    "        continue\n",
    "    path = explore(maze, [start, start + offset])\n",
    "    if path:\n",
    "        maze[start] = (path[1], path[-2])\n",
    "        break"
   ]
  },
  {
   "cell_type": "code",
   "execution_count": 107,
   "metadata": {},
   "outputs": [
    {
     "data": {
      "text/plain": [
       "459.0"
      ]
     },
     "execution_count": 107,
     "metadata": {},
     "output_type": "execute_result"
    }
   ],
   "source": [
    "max_x = max(int(pos.real) for pos in maze)\n",
    "max_y = max(int(pos.imag) for pos in maze)\n",
    "\n",
    "inside_tile = 0\n",
    "for y in range(max_y + 1):\n",
    "    for x in range(max_x + 1):\n",
    "        pos = x + y * 1j\n",
    "        if pos in path:\n",
    "            continue\n",
    "        npos = x + y * 1j\n",
    "        crossings = 0\n",
    "        if npos == 1j:\n",
    "            pass\n",
    "        while npos.real <= max_x:\n",
    "            if npos not in maze or npos not in path:\n",
    "                npos += 1\n",
    "                continue\n",
    "            pipes = maze[npos]\n",
    "            if npos - 1j in pipes and npos + 1j in pipes:\n",
    "                crossings += 1\n",
    "            elif (npos - 1j in pipes and npos + 1 in pipes) or (npos - 1 in pipes and npos + 1j in pipes):\n",
    "                crossings += 0.5\n",
    "            elif (npos + 1j in pipes and npos + 1 in pipes) or (npos - 1 in pipes and npos - 1j in pipes):\n",
    "                crossings -= 0.5\n",
    "            npos += 1\n",
    "        inside_tile += crossings % 2\n",
    "            \n",
    "inside_tile\n"
   ]
  }
 ],
 "metadata": {
  "kernelspec": {
   "display_name": "Python 3",
   "language": "python",
   "name": "python3"
  },
  "language_info": {
   "codemirror_mode": {
    "name": "ipython",
    "version": 3
   },
   "file_extension": ".py",
   "mimetype": "text/x-python",
   "name": "python",
   "nbconvert_exporter": "python",
   "pygments_lexer": "ipython3",
   "version": "3.11.6"
  }
 },
 "nbformat": 4,
 "nbformat_minor": 2
}
