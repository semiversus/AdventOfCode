{
 "cells": [
  {
   "cell_type": "code",
   "execution_count": 23,
   "metadata": {},
   "outputs": [
    {
     "data": {
      "text/plain": [
       "9647174"
      ]
     },
     "execution_count": 23,
     "metadata": {},
     "output_type": "execute_result"
    }
   ],
   "source": [
    "data = \"\"\"...#......\n",
    ".......#..\n",
    "#.........\n",
    "..........\n",
    "......#...\n",
    ".#........\n",
    ".........#\n",
    "..........\n",
    ".......#..\n",
    "#...#.....\n",
    "\"\"\"\n",
    "data = open('puzzle.data').read()\n",
    "\n",
    "def parse(data: str) -> set[complex]:\n",
    "    image = set()\n",
    "    for y, line in enumerate(data.splitlines()):\n",
    "        for x, char in enumerate(line):\n",
    "            if char == '#':\n",
    "                 image.add(x + y * 1j)\n",
    "    return image\n",
    "\n",
    "def expand(image: set[complex], amount=1) -> set[complex]:\n",
    "    for x in range(max(int(p.real) for p in image), -1, -1):\n",
    "        if any(p for p in image if p.real == x):\n",
    "            continue\n",
    "        image = set(p + amount if p.real > x else p for p in image)\n",
    "\n",
    "    for y in range(max(int(p.imag) for p in image), -1, -1):\n",
    "        if any(p for p in image if p.imag == y):\n",
    "            continue\n",
    "        image = set(p + amount * 1j if p.imag > y else p for p in image)\n",
    "    \n",
    "    return image\n",
    "\n",
    "from itertools import combinations\n",
    "\n",
    "def shortest_paths(image: set[complex]) -> int:\n",
    "    path_length = 0\n",
    "    for a, b in combinations(image, 2):\n",
    "        path_length += abs(a.real - b.real) + abs(a.imag - b.imag)\n",
    "    return int(path_length)\n",
    "\n",
    "def dump(image: set[complex]) -> None:\n",
    "    for y in range(int(max(p.imag for p in image)) + 1):\n",
    "        for x in range(int(max(p.real for p in image)) + 1):\n",
    "            print('#' if x + y * 1j in image else '.', end='')\n",
    "        print()\n",
    "\n",
    "image = parse(data)\n",
    "image = expand(image)\n",
    "shortest_paths(image)"
   ]
  },
  {
   "cell_type": "code",
   "execution_count": 24,
   "metadata": {},
   "outputs": [
    {
     "data": {
      "text/plain": [
       "377318892554"
      ]
     },
     "execution_count": 24,
     "metadata": {},
     "output_type": "execute_result"
    }
   ],
   "source": [
    "image = parse(data)\n",
    "image = expand(image, amount=1000000-1)\n",
    "shortest_paths(image)"
   ]
  }
 ],
 "metadata": {
  "kernelspec": {
   "display_name": "Python 3",
   "language": "python",
   "name": "python3"
  },
  "language_info": {
   "codemirror_mode": {
    "name": "ipython",
    "version": 3
   },
   "file_extension": ".py",
   "mimetype": "text/x-python",
   "name": "python",
   "nbconvert_exporter": "python",
   "pygments_lexer": "ipython3",
   "version": "3.11.6"
  }
 },
 "nbformat": 4,
 "nbformat_minor": 2
}
