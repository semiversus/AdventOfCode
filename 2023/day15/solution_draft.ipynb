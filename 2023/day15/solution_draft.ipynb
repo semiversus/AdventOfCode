{
 "cells": [
  {
   "cell_type": "code",
   "execution_count": 28,
   "metadata": {},
   "outputs": [
    {
     "data": {
      "text/plain": [
       "509152"
      ]
     },
     "execution_count": 28,
     "metadata": {},
     "output_type": "execute_result"
    }
   ],
   "source": [
    "data = \"\"\"rn=1,cm-,qp=3,cm=2,qp-,pc=4,ot=9,ab=5,pc-,pc=6,ot=7\n",
    "\"\"\"\n",
    "data = open('puzzle.data').read()\n",
    "\n",
    "def parse(data: str):\n",
    "    return [s for s in data.strip().split(',')]\n",
    "\n",
    "from functools import reduce\n",
    "\n",
    "def hash(s: str):\n",
    "    return reduce(lambda a, b: (a + ord(b)) * 17 % 256, s, 0)\n",
    "\n",
    "def solve1(data: str):\n",
    "    return sum(hash(s) for s in parse(data))\n",
    "\n",
    "solve1(data)"
   ]
  },
  {
   "cell_type": "code",
   "execution_count": 29,
   "metadata": {},
   "outputs": [
    {
     "data": {
      "text/plain": [
       "244403"
      ]
     },
     "execution_count": 29,
     "metadata": {},
     "output_type": "execute_result"
    }
   ],
   "source": [
    "from collections import defaultdict\n",
    "\n",
    "def solve2(data: str):\n",
    "    boxes = defaultdict(list)\n",
    "    \n",
    "    for step in parse(data):\n",
    "        if '=' in step:\n",
    "            label, focal_length = step.split('=')\n",
    "            box_index, focal_length = hash(label), int(focal_length)\n",
    "            try:\n",
    "                index = next(i for i, v in enumerate(boxes[box_index]) if v[0] == label)\n",
    "            except StopIteration:\n",
    "                boxes[box_index].append((label, focal_length))\n",
    "            else:\n",
    "                boxes[box_index][index] = (label, focal_length)\n",
    "        else:\n",
    "            box_index, label = hash(step[:-1]), step[:-1]\n",
    "            try:\n",
    "                index = next(i for i, v in enumerate(boxes[box_index]) if v[0] == label)\n",
    "            except StopIteration:\n",
    "                pass\n",
    "            else:\n",
    "                del boxes[box_index][index]\n",
    "    \n",
    "    power = 0\n",
    "    for box_index, box in boxes.items():\n",
    "        for slot_number, (label, focal_length) in enumerate(box):\n",
    "            power += (1 + box_index) * (slot_number + 1) * focal_length\n",
    "\n",
    "    return power\n",
    "\n",
    "solve2(data)"
   ]
  }
 ],
 "metadata": {
  "kernelspec": {
   "display_name": "Python 3",
   "language": "python",
   "name": "python3"
  },
  "language_info": {
   "codemirror_mode": {
    "name": "ipython",
    "version": 3
   },
   "file_extension": ".py",
   "mimetype": "text/x-python",
   "name": "python",
   "nbconvert_exporter": "python",
   "pygments_lexer": "ipython3",
   "version": "3.11.6"
  }
 },
 "nbformat": 4,
 "nbformat_minor": 2
}
