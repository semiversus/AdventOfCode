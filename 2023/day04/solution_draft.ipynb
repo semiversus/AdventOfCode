{
 "cells": [
  {
   "cell_type": "code",
   "execution_count": 5,
   "metadata": {},
   "outputs": [
    {
     "data": {
      "text/plain": [
       "18619"
      ]
     },
     "execution_count": 5,
     "metadata": {},
     "output_type": "execute_result"
    }
   ],
   "source": [
    "data = open('puzzle.data').read().splitlines()\n",
    "\n",
    "games = {}\n",
    "points = 0\n",
    "for game_index, line in enumerate(data):\n",
    "    _, line = line.split(':')\n",
    "    winning_numbers, my_numbers = [s.strip() for s in line.split('|')]\n",
    "    winning_numbers = [int(i) for i in winning_numbers.replace('  ', ' ').split(' ')]\n",
    "    my_numbers = [int(i) for i in my_numbers.strip().replace('  ', ' ').split(' ')]\n",
    "    games[game_index + 1] = (winning_numbers, my_numbers)\n",
    "    points += int(2 ** (len(set(winning_numbers) & set(my_numbers)) - 1))\n",
    "\n",
    "points\n"
   ]
  },
  {
   "cell_type": "code",
   "execution_count": 6,
   "metadata": {},
   "outputs": [
    {
     "data": {
      "text/plain": [
       "8063216"
      ]
     },
     "execution_count": 6,
     "metadata": {},
     "output_type": "execute_result"
    }
   ],
   "source": [
    "\n",
    "def play(game_id) -> list[int]:\n",
    "    if game_id not in games:\n",
    "        return []\n",
    "    winning_numbers, my_numbers = games[game_id]\n",
    "    return list(range(game_id + 1, game_id + 1 + len(set(winning_numbers) & set(my_numbers))))\n",
    "\n",
    "from collections import Counter\n",
    "cards = list()\n",
    "playing = list(range(1, len(games) + 1))     \n",
    "while playing:\n",
    "    new_playing = []\n",
    "    for p in playing:\n",
    "        new_playing += play(p)\n",
    "    cards += playing\n",
    "    playing = list(new_playing)\n",
    "\n",
    "sum(Counter(cards).values())\n"
   ]
  }
 ],
 "metadata": {
  "kernelspec": {
   "display_name": "Python 3",
   "language": "python",
   "name": "python3"
  },
  "language_info": {
   "codemirror_mode": {
    "name": "ipython",
    "version": 3
   },
   "file_extension": ".py",
   "mimetype": "text/x-python",
   "name": "python",
   "nbconvert_exporter": "python",
   "pygments_lexer": "ipython3",
   "version": "3.11.6"
  }
 },
 "nbformat": 4,
 "nbformat_minor": 2
}
