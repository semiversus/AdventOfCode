{
 "cells": [
  {
   "cell_type": "markdown",
   "metadata": {},
   "source": [
    "# Advent of Code 2023 - Day 4\n",
    "[Link to this puzzle](https://adventofcode.com/2021/day/4)\n",
    "\n",
    "## Problem 1"
   ]
  },
  {
   "cell_type": "code",
   "execution_count": 12,
   "metadata": {},
   "outputs": [],
   "source": [
    "def parse(data: str) -> list[tuple[list[int], list[int]]]:\n",
    "    games = []\n",
    "    for line in data.splitlines():\n",
    "        winning_numbers, my_numbers = [s.strip() for s in line.split(':')[1].split('|')]\n",
    "        winning_numbers = [int(i) for i in winning_numbers.replace('  ', ' ').split(' ')]\n",
    "        my_numbers = [int(i) for i in my_numbers.strip().replace('  ', ' ').split(' ')]\n",
    "        games.append( (winning_numbers, my_numbers) )\n",
    "    return games\n",
    "\n",
    "def get_points(data: str):\n",
    "    games = parse(data)\n",
    "    return sum(int(2 ** (len(set(w) & set(m)) - 1)) for w, m in games)"
   ]
  },
  {
   "cell_type": "markdown",
   "metadata": {},
   "source": [
    "### Sample input"
   ]
  },
  {
   "cell_type": "code",
   "execution_count": 13,
   "metadata": {},
   "outputs": [
    {
     "data": {
      "text/plain": [
       "13"
      ]
     },
     "execution_count": 13,
     "metadata": {},
     "output_type": "execute_result"
    }
   ],
   "source": [
    "sample_data = \"\"\"Card 1: 41 48 83 86 17 | 83 86  6 31 17  9 48 53\n",
    "Card 2: 13 32 20 16 61 | 61 30 68 82 17 32 24 19\n",
    "Card 3:  1 21 53 59 44 | 69 82 63 72 16 21 14  1\n",
    "Card 4: 41 92 73 84 69 | 59 84 76 51 58  5 54 83\n",
    "Card 5: 87 83 26 28 32 | 88 30 70 12 93 22 82 36\n",
    "Card 6: 31 18 13 56 72 | 74 77 10 23 35 67 36 11\n",
    "\"\"\"\n",
    "\n",
    "get_points(sample_data)"
   ]
  },
  {
   "cell_type": "markdown",
   "metadata": {},
   "source": [
    "### Puzzle input"
   ]
  },
  {
   "cell_type": "code",
   "execution_count": 14,
   "metadata": {},
   "outputs": [
    {
     "data": {
      "text/plain": [
       "18619"
      ]
     },
     "execution_count": 14,
     "metadata": {},
     "output_type": "execute_result"
    }
   ],
   "source": [
    "puzzle_data = open(\"puzzle.data\").read()\n",
    "\n",
    "get_points(puzzle_data)"
   ]
  },
  {
   "cell_type": "markdown",
   "metadata": {},
   "source": [
    "## Problem 2"
   ]
  },
  {
   "cell_type": "code",
   "execution_count": 15,
   "metadata": {},
   "outputs": [],
   "source": [
    "from collections import Counter\n",
    "\n",
    "def play_one_game(game_id, games) -> list[int]:\n",
    "    if game_id > len(games):\n",
    "        return []\n",
    "    winning_numbers, my_numbers = games[game_id - 1]\n",
    "    return list(range(game_id + 1, game_id + 1 + len(set(winning_numbers) & set(my_numbers))))\n",
    "\n",
    "def play_solution2(data: str) -> list[int]:\n",
    "    games = parse(data)\n",
    "\n",
    "    cards = list()\n",
    "    cards_to_play = list(range(1, len(games) + 1))     \n",
    "\n",
    "    while cards_to_play:\n",
    "        next_cards_to_play = []\n",
    "        next_cards_to_play = sum((play_one_game(c, games) for c in cards_to_play), [])\n",
    "        cards += cards_to_play\n",
    "        cards_to_play = list(next_cards_to_play)\n",
    "\n",
    "    return sum(Counter(cards).values())"
   ]
  },
  {
   "cell_type": "markdown",
   "metadata": {},
   "source": [
    "### Sample input"
   ]
  },
  {
   "cell_type": "code",
   "execution_count": 16,
   "metadata": {},
   "outputs": [
    {
     "data": {
      "text/plain": [
       "30"
      ]
     },
     "execution_count": 16,
     "metadata": {},
     "output_type": "execute_result"
    }
   ],
   "source": [
    "play_solution2(sample_data)"
   ]
  },
  {
   "cell_type": "markdown",
   "metadata": {},
   "source": [
    "### Puzzle input"
   ]
  },
  {
   "cell_type": "code",
   "execution_count": 17,
   "metadata": {},
   "outputs": [
    {
     "ename": "KeyboardInterrupt",
     "evalue": "",
     "output_type": "error",
     "traceback": [
      "\u001b[0;31m---------------------------------------------------------------------------\u001b[0m",
      "\u001b[0;31mKeyboardInterrupt\u001b[0m                         Traceback (most recent call last)",
      "\u001b[1;32m/home/guenther/projects/AdventOfCode/2023/day04/solution.ipynb Cell 12\u001b[0m line \u001b[0;36m1\n\u001b[0;32m----> <a href='vscode-notebook-cell:/home/guenther/projects/AdventOfCode/2023/day04/solution.ipynb#X14sZmlsZQ%3D%3D?line=0'>1</a>\u001b[0m play_solution2(puzzle_data)\n",
      "\u001b[1;32m/home/guenther/projects/AdventOfCode/2023/day04/solution.ipynb Cell 12\u001b[0m line \u001b[0;36m1\n\u001b[1;32m     <a href='vscode-notebook-cell:/home/guenther/projects/AdventOfCode/2023/day04/solution.ipynb#X14sZmlsZQ%3D%3D?line=14'>15</a>\u001b[0m \u001b[39mwhile\u001b[39;00m cards_to_play:\n\u001b[1;32m     <a href='vscode-notebook-cell:/home/guenther/projects/AdventOfCode/2023/day04/solution.ipynb#X14sZmlsZQ%3D%3D?line=15'>16</a>\u001b[0m     next_cards_to_play \u001b[39m=\u001b[39m []\n\u001b[0;32m---> <a href='vscode-notebook-cell:/home/guenther/projects/AdventOfCode/2023/day04/solution.ipynb#X14sZmlsZQ%3D%3D?line=16'>17</a>\u001b[0m     next_cards_to_play \u001b[39m=\u001b[39m \u001b[39msum\u001b[39;49m((play_one_game(c, games) \u001b[39mfor\u001b[39;49;00m c \u001b[39min\u001b[39;49;00m cards_to_play), [])\n\u001b[1;32m     <a href='vscode-notebook-cell:/home/guenther/projects/AdventOfCode/2023/day04/solution.ipynb#X14sZmlsZQ%3D%3D?line=17'>18</a>\u001b[0m     cards \u001b[39m+\u001b[39m\u001b[39m=\u001b[39m cards_to_play\n\u001b[1;32m     <a href='vscode-notebook-cell:/home/guenther/projects/AdventOfCode/2023/day04/solution.ipynb#X14sZmlsZQ%3D%3D?line=18'>19</a>\u001b[0m     cards_to_play \u001b[39m=\u001b[39m \u001b[39mlist\u001b[39m(next_cards_to_play)\n",
      "\u001b[1;32m/home/guenther/projects/AdventOfCode/2023/day04/solution.ipynb Cell 12\u001b[0m line \u001b[0;36m1\n\u001b[1;32m     <a href='vscode-notebook-cell:/home/guenther/projects/AdventOfCode/2023/day04/solution.ipynb#X14sZmlsZQ%3D%3D?line=14'>15</a>\u001b[0m \u001b[39mwhile\u001b[39;00m cards_to_play:\n\u001b[1;32m     <a href='vscode-notebook-cell:/home/guenther/projects/AdventOfCode/2023/day04/solution.ipynb#X14sZmlsZQ%3D%3D?line=15'>16</a>\u001b[0m     next_cards_to_play \u001b[39m=\u001b[39m []\n\u001b[0;32m---> <a href='vscode-notebook-cell:/home/guenther/projects/AdventOfCode/2023/day04/solution.ipynb#X14sZmlsZQ%3D%3D?line=16'>17</a>\u001b[0m     next_cards_to_play \u001b[39m=\u001b[39m \u001b[39msum\u001b[39m((play_one_game(c, games) \u001b[39mfor\u001b[39;00m c \u001b[39min\u001b[39;00m cards_to_play), [])\n\u001b[1;32m     <a href='vscode-notebook-cell:/home/guenther/projects/AdventOfCode/2023/day04/solution.ipynb#X14sZmlsZQ%3D%3D?line=17'>18</a>\u001b[0m     cards \u001b[39m+\u001b[39m\u001b[39m=\u001b[39m cards_to_play\n\u001b[1;32m     <a href='vscode-notebook-cell:/home/guenther/projects/AdventOfCode/2023/day04/solution.ipynb#X14sZmlsZQ%3D%3D?line=18'>19</a>\u001b[0m     cards_to_play \u001b[39m=\u001b[39m \u001b[39mlist\u001b[39m(next_cards_to_play)\n",
      "\u001b[0;31mKeyboardInterrupt\u001b[0m: "
     ]
    }
   ],
   "source": [
    "play_solution2(puzzle_data)"
   ]
  }
 ],
 "metadata": {
  "kernelspec": {
   "display_name": "Python 3",
   "language": "python",
   "name": "python3"
  },
  "language_info": {
   "codemirror_mode": {
    "name": "ipython",
    "version": 3
   },
   "file_extension": ".py",
   "mimetype": "text/x-python",
   "name": "python",
   "nbconvert_exporter": "python",
   "pygments_lexer": "ipython3",
   "version": "3.11.6"
  }
 },
 "nbformat": 4,
 "nbformat_minor": 2
}
