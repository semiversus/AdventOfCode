{
 "cells": [
  {
   "cell_type": "code",
   "execution_count": 244,
   "metadata": {},
   "outputs": [
    {
     "data": {
      "text/plain": [
       "Entry(loss=847, pos=(140+140j), dir=-1j, path=[(1+0j), (1+2j), 2j, 5j, (1+5j), (1+8j), (2+8j), (2+11j), (3+11j), (3+13j), (2+13j), (2+14j), (1+14j), (1+17j), 17j, 20j, (1+20j), (1+21j), 21j, 24j, (1+24j), (1+26j), (2+26j), (2+29j), (1+29j), (1+31j), 31j, 34j, (1+34j), (1+35j), (2+35j), (2+37j), (3+37j), (3+40j), (2+40j), (2+43j), (1+43j), (1+45j), (2+45j), (2+47j), (3+47j), (3+49j), (2+49j), (2+50j), (1+50j), (1+53j), 53j, 55j, (1+55j), (1+58j), (2+58j), (2+61j), (3+61j), (3+64j), (4+64j), (4+67j), (5+67j), (5+70j), (3+70j), (3+73j), (2+73j), (2+76j), (1+76j), (1+79j), 79j, 82j, (1+82j), (1+84j), 84j, 87j, (1+87j), (1+90j), (2+90j), (2+93j), (3+93j), (3+96j), (4+96j), (4+99j), (5+99j), (5+101j), (6+101j), (6+104j), (8+104j), (8+106j), (9+106j), (9+107j), (10+107j), (10+110j), (11+110j), (11+112j), (12+112j), (12+115j), (13+115j), (13+118j), (15+118j), (15+121j), (16+121j), (16+124j), (17+124j), (17+126j), (19+126j), (19+128j), (22+128j), (22+129j), (23+129j), (23+132j), (26+132j), (26+133j), (29+133j), (29+134j), (32+134j), (32+135j), (33+135j), (33+134j), (36+134j), (36+135j), (39+135j), (39+136j), (42+136j), (42+137j), (43+137j), (43+139j), (46+139j), (46+140j), (47+140j), (47+139j), (50+139j), (50+140j), (53+140j), (53+139j), (54+139j), (54+140j), (57+140j), (57+139j), (58+139j), (58+140j), (61+140j), (61+139j), (64+139j), (64+138j), (66+138j), (66+139j), (69+139j), (69+138j), (72+138j), (72+139j), (75+139j), (75+140j), (78+140j), (78+139j), (80+139j), (80+138j), (83+138j), (83+139j), (86+139j), (86+140j), (88+140j), (88+139j), (91+139j), (91+140j), (94+140j), (94+139j), (96+139j), (96+138j), (99+138j), (99+137j), (102+137j), (102+135j), (104+135j), (104+134j), (105+134j), (105+133j), (108+133j), (108+134j), (111+134j), (111+133j), (114+133j), (114+132j), (116+132j), (116+133j), (118+133j), (118+134j), (121+134j), (121+133j), (123+133j), (123+132j), (124+132j), (124+133j), (127+133j), (127+132j), (129+132j), (129+133j), (130+133j), (130+135j), (132+135j), (132+136j), (134+136j), (134+137j), (135+137j), (135+138j), (136+138j), (136+139j), (138+139j), (138+140j), (140+140j)])"
      ]
     },
     "execution_count": 244,
     "metadata": {},
     "output_type": "execute_result"
    }
   ],
   "source": [
    "data = \"\"\"2413432311323\n",
    "3215453535623\n",
    "3255245654254\n",
    "3446585845452\n",
    "4546657867536\n",
    "1438598798454\n",
    "4457876987766\n",
    "3637877979653\n",
    "4654967986887\n",
    "4564679986453\n",
    "1224686865563\n",
    "2546548887735\n",
    "4322674655533\n",
    "\"\"\"\n",
    "data = open('puzzle.data').read()\n",
    "\n",
    "from helper import *\n",
    "from dataclasses import dataclass\n",
    "from heapq import heappop, heappush\n",
    "\n",
    "@dataclass\n",
    "class Entry:\n",
    "    loss: int\n",
    "    pos: complex\n",
    "    dir: complex\n",
    "    path: list[complex]\n",
    "\n",
    "    def __lt__(self, other: 'Entry'):\n",
    "        return self.loss <= other.loss\n",
    "\n",
    "def extend(grid: Grid, entry: Entry, straight_range: tuple[int, int]) -> list[Entry]:\n",
    "    open_list = []\n",
    "    if entry.pos + entry.dir * straight_range[0] not in grid:\n",
    "        return open_list\n",
    "    loss = entry.loss + sum(grid[entry.pos + entry.dir * i] for i in range(1, straight_range[0]))\n",
    "    for i in range(*straight_range):\n",
    "        next_pos = entry.pos + entry.dir * i\n",
    "        if next_pos not in grid:\n",
    "            break\n",
    "        loss += grid[next_pos]\n",
    "        for dir in [TURN_RIGHT[entry.dir], TURN_LEFT[entry.dir]]:\n",
    "            if next_pos + dir in grid:\n",
    "                open_list.append(Entry(loss, next_pos, dir, entry.path + [next_pos]))\n",
    "    return open_list\n",
    "\n",
    "\n",
    "def solve(data: str, straight_range: tuple[int, int]) -> int:\n",
    "    grid = Grid.from_str(data, parse=lambda c: int(c))\n",
    "    end_pos = complex(grid.width - 1, grid.height - 1)\n",
    "    visited = set()\n",
    "    \n",
    "    open_list = extend(grid, Entry(0, 0j, RIGHT, []), straight_range)\n",
    "\n",
    "    while open_list:\n",
    "        entry = heappop(open_list)\n",
    "\n",
    "        visited_key = (entry.pos, entry.dir)\n",
    "        if visited_key in visited:\n",
    "            continue\n",
    "        \n",
    "        visited.add(visited_key)\n",
    "        \n",
    "        if entry.pos == end_pos:\n",
    "            return entry.loss\n",
    "        \n",
    "        for entry in extend(grid, entry, straight_range):\n",
    "            heappush(open_list, entry)\n",
    "\n",
    "solve(data, straight_range=(1, 4))"
   ]
  },
  {
   "cell_type": "code",
   "execution_count": 245,
   "metadata": {},
   "outputs": [
    {
     "data": {
      "text/plain": [
       "Entry(loss=997, pos=(140+140j), dir=(-1+0j), path=[(6+0j), (6+4j), (15+4j), (15+8j), (19+8j), (19+3j), (27+3j), (27+7j), (34+7j), (34+1j), (43+1j), (43+5j), (52+5j), (52+1j), (61+1j), (61+5j), (69+5j), (69+9j), (79+9j), (79+4j), (89+4j), (89+0j), (99+0j), (99+4j), (107+4j), (107+8j), (116+8j), (116+13j), (122+13j), (122+17j), (126+17j), (126+25j), (131+25j), (131+34j), (136+34j), (136+43j), (140+43j), (140+53j), (136+53j), (136+63j), (140+63j), (140+73j), (134+73j), (134+83j), (138+83j), (138+92j), (134+92j), (134+101j), (138+101j), (138+111j), (134+111j), (134+116j), (139+116j), (139+124j), (135+124j), (135+134j), (140+134j), (140+140j)])"
      ]
     },
     "execution_count": 245,
     "metadata": {},
     "output_type": "execute_result"
    }
   ],
   "source": [
    "solve(data, (4, 11))"
   ]
  }
 ],
 "metadata": {
  "kernelspec": {
   "display_name": "Python 3",
   "language": "python",
   "name": "python3"
  },
  "language_info": {
   "codemirror_mode": {
    "name": "ipython",
    "version": 3
   },
   "file_extension": ".py",
   "mimetype": "text/x-python",
   "name": "python",
   "nbconvert_exporter": "python",
   "pygments_lexer": "ipython3",
   "version": "3.12.1"
  }
 },
 "nbformat": 4,
 "nbformat_minor": 2
}
