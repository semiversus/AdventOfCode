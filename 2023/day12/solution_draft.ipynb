{
 "cells": [
  {
   "cell_type": "code",
   "execution_count": 42,
   "metadata": {},
   "outputs": [
    {
     "name": "stdout",
     "output_type": "stream",
     "text": [
      "##????????#?#???????##????????#?#???????##????????#?#???????##????????#?#???????##????????#?#?????? 15224\n",
      "?.#??????.#????#????.#??????.#????#????.#??????.#????#????.#??????.#????#????.#??????.#????#?? 16\n",
      ".#??.??.????###??????.#??.??.????###??????.#??.??.????###??????.#??.??.????###??????.#??.??.????###????? 81\n"
     ]
    }
   ],
   "source": [
    "data = \"\"\"???.### 1,1,3\n",
    ".??..??...?##. 1,1,3\n",
    "?#?#?#?#?#?#?#? 1,3,1,6\n",
    "????.#...#... 4,1,1\n",
    "????.######..#####. 1,6,5\n",
    "?###???????? 3,2,1\n",
    "\"\"\"\n",
    "data = open('puzzle.data').read()\n",
    "\n",
    "import re\n",
    "\n",
    "def validate(springs, groups, configuration):\n",
    "    for config in configuration:\n",
    "        if '?' not in springs:\n",
    "            return False\n",
    "        springs = springs.replace('?', config, 1)\n",
    "    regex = '^[?.]*' + '[?.]+'.join(f'[#?]{{{i}}}' for i in groups) + '[?.]*$'\n",
    "    return re.match(regex, springs) is not None\n",
    "\n",
    "all_configs = 0\n",
    "for lines in data.splitlines():\n",
    "    springs, group_str = lines.split()\n",
    "    groups = [int(x) for x in group_str.split(',')]\n",
    "    \n",
    "    springs = '?'.join(springs for _ in range(5))  # unfold\n",
    "    groups = groups * 5  # unfold\n",
    "\n",
    "    open_list = ['#', '.']\n",
    "    valid_configs = 0\n",
    "    while open_list:\n",
    "        config = open_list.pop()\n",
    "        if validate(springs, groups, config):\n",
    "            if len(config) == springs.count('?'):\n",
    "                valid_configs += 1\n",
    "            open_list += [config + '#', config + '.']\n",
    "    print(springs, valid_configs)\n",
    "    all_configs += valid_configs\n",
    "    \n",
    "all_configs\n",
    "with open('result.txt', 'w') as f:\n",
    "    f.write(f'{all_configs}\\n')"
   ]
  },
  {
   "cell_type": "code",
   "execution_count": null,
   "metadata": {},
   "outputs": [],
   "source": []
  }
 ],
 "metadata": {
  "kernelspec": {
   "display_name": "Python 3",
   "language": "python",
   "name": "python3"
  },
  "language_info": {
   "codemirror_mode": {
    "name": "ipython",
    "version": 3
   },
   "file_extension": ".py",
   "mimetype": "text/x-python",
   "name": "python",
   "nbconvert_exporter": "python",
   "pygments_lexer": "ipython3",
   "version": "3.11.6"
  }
 },
 "nbformat": 4,
 "nbformat_minor": 2
}
