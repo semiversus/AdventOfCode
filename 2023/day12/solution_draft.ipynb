{
 "cells": [
  {
   "cell_type": "code",
   "execution_count": 29,
   "metadata": {},
   "outputs": [
    {
     "data": {
      "text/plain": [
       "7017"
      ]
     },
     "execution_count": 29,
     "metadata": {},
     "output_type": "execute_result"
    }
   ],
   "source": [
    "data = \"\"\"???.### 1,1,3\n",
    ".??..??...?##. 1,1,3\n",
    "?#?#?#?#?#?#?#? 1,3,1,6\n",
    "????.#...#... 4,1,1\n",
    "????.######..#####. 1,6,5\n",
    "?###???????? 3,2,1\n",
    "\"\"\"\n",
    "data = open('puzzle.data').read()\n",
    "\n",
    "import functools\n",
    "\n",
    "def parser1(line: str) -> tuple[str, list[int]]:\n",
    "    field, sizes_str = line.split(' ')\n",
    "    return field, tuple(int(i) for i in sizes_str.split(','))\n",
    "\n",
    "def parser2(line: str) -> tuple[str, list[int]]:\n",
    "    field, sizes = parser1(line)\n",
    "    return '?'.join([field] * 5), sizes * 5\n",
    "\n",
    "@functools.cache\n",
    "def explore(field: str, sizes: list[int]):\n",
    "    if not sizes:\n",
    "        return '#' not in field\n",
    "    \n",
    "    count = 0\n",
    "    for index in range(len(field) - sum(sizes) - len(sizes) + 2):\n",
    "        if all(c in (p, '?') for c, p in zip(field, '.' * index + '#' * sizes[0] + '.')):\n",
    "            count += explore(field[index + sizes[0] + 1:], sizes[1:])\n",
    "    return count\n",
    "\n",
    "def solve(data: str, parser):\n",
    "    arrangements = 0 \n",
    "    for line in data.splitlines():\n",
    "        field, sizes = parser(line)\n",
    "        arrangements += explore(field, sizes)\n",
    "    return arrangements\n",
    "\n",
    "solve(data, parser1)"
   ]
  },
  {
   "cell_type": "code",
   "execution_count": 30,
   "metadata": {},
   "outputs": [
    {
     "data": {
      "text/plain": [
       "527570479489"
      ]
     },
     "execution_count": 30,
     "metadata": {},
     "output_type": "execute_result"
    }
   ],
   "source": [
    "solve(data, parser2)"
   ]
  }
 ],
 "metadata": {
  "kernelspec": {
   "display_name": "Python 3",
   "language": "python",
   "name": "python3"
  },
  "language_info": {
   "codemirror_mode": {
    "name": "ipython",
    "version": 3
   },
   "file_extension": ".py",
   "mimetype": "text/x-python",
   "name": "python",
   "nbconvert_exporter": "python",
   "pygments_lexer": "ipython3",
   "version": "3.11.6"
  }
 },
 "nbformat": 4,
 "nbformat_minor": 2
}
