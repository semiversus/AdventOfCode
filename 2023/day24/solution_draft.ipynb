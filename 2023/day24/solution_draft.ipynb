{
 "cells": [
  {
   "cell_type": "code",
   "execution_count": 9,
   "metadata": {},
   "outputs": [
    {
     "data": {
      "text/plain": [
       "19523"
      ]
     },
     "execution_count": 9,
     "metadata": {},
     "output_type": "execute_result"
    }
   ],
   "source": [
    "data = \"\"\"19, 13, 30 @ -2,  1, -2\n",
    "18, 19, 22 @ -1, -1, -2\n",
    "20, 25, 34 @ -2, -2, -4\n",
    "12, 31, 28 @ -1, -2, -1\n",
    "20, 19, 15 @  1, -5, -3\n",
    "\"\"\"\n",
    "data = open('puzzle.data').read()\n",
    "\n",
    "import re\n",
    "from collections import namedtuple\n",
    "from itertools import combinations, islice\n",
    "\n",
    "Vector = namedtuple('Vector', 'x y z vx vy vz')\n",
    "\n",
    "def solve(data: str) -> int:\n",
    "    vectors = [Vector(*map(int, re.findall(r'[-\\d]+', line))) for line in data.splitlines()]\n",
    "\n",
    "    collisions = 0\n",
    "\n",
    "    for vector1, vector2 in combinations(vectors, 2):\n",
    "        det1 = vector1.vx * vector2.vy - vector2.vx * vector1.vy\n",
    "\n",
    "        if det1 == 0:\n",
    "            continue\n",
    "\n",
    "        t1 = ((vector2.x -vector1.x) * vector2.vy - (vector2.y - vector1.y) * vector2.vx) / det1\n",
    "        \n",
    "        det2 = vector2.vx * vector1.vy - vector1.vx * vector2.vy\n",
    "        t2 = ((vector1.x -vector2.x) * vector1.vy - (vector1.y - vector2.y) * vector1.vx) / det2\n",
    "\n",
    "        x, y = (vector1.x + t1 * vector1.vx, vector1.y + t1 * vector1.vy)\n",
    "        if t1 >= 0 and t2 >= 0 \\\n",
    "            and 200000000000000 <= x <= 400000000000000 \\\n",
    "            and 200000000000000 <= y <= 400000000000000:\n",
    "                collisions += 1\n",
    "    \n",
    "    return collisions\n",
    "\n",
    "solve(data)"
   ]
  },
  {
   "cell_type": "code",
   "execution_count": 10,
   "metadata": {},
   "outputs": [
    {
     "data": {
      "text/plain": [
       "566373506408017"
      ]
     },
     "execution_count": 10,
     "metadata": {},
     "output_type": "execute_result"
    }
   ],
   "source": [
    "import z3\n",
    "\n",
    "def solve2(data: str) -> int:\n",
    "    vectors = [Vector(*map(int, re.findall(r'[-\\d]+', line))) for line in data.splitlines()]\n",
    "    \n",
    "    x, y, z, vx, vy, vz, t1, t2, t3 = z3.Reals(\"x y z vx vy vz t1 t2 t3\")\n",
    "    solver = z3.Solver()\n",
    "\n",
    "    eq1 = x + t1 * vx == vectors[0].x + t1 * vectors[0].vx\n",
    "    eq2 = y + t1 * vy == vectors[0].y + t1 * vectors[0].vy\n",
    "    eq3 = z + t1 * vz == vectors[0].z + t1 * vectors[0].vz\n",
    "    eq4 = x + t2 * vx == vectors[1].x + t2 * vectors[1].vx\n",
    "    eq5 = y + t2 * vy == vectors[1].y + t2 * vectors[1].vy\n",
    "    eq6 = z + t2 * vz == vectors[1].z + t2 * vectors[1].vz\n",
    "    eq7 = x + t3 * vx == vectors[2].x + t3 * vectors[2].vx\n",
    "    eq8 = y + t3 * vy == vectors[2].y + t3 * vectors[2].vy\n",
    "    eq9 = z + t3 * vz == vectors[2].z + t3 * vectors[2].vz\n",
    "\n",
    "    solver.add(eq1, eq2, eq3, eq4, eq5, eq6, eq7, eq8, eq9)\n",
    "\n",
    "    if solver.check() == z3.sat:\n",
    "        model = solver.model()\n",
    "        return model[x].as_long() + model[y].as_long() + model[z].as_long()\n",
    "    \n",
    "solve2(data)\n"
   ]
  }
 ],
 "metadata": {
  "kernelspec": {
   "display_name": "Python 3",
   "language": "python",
   "name": "python3"
  },
  "language_info": {
   "codemirror_mode": {
    "name": "ipython",
    "version": 3
   },
   "file_extension": ".py",
   "mimetype": "text/x-python",
   "name": "python",
   "nbconvert_exporter": "python",
   "pygments_lexer": "ipython3",
   "version": "3.12.1"
  }
 },
 "nbformat": 4,
 "nbformat_minor": 2
}
