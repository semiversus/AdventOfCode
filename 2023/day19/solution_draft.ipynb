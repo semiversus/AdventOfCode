{
 "cells": [
  {
   "cell_type": "code",
   "execution_count": 9,
   "metadata": {},
   "outputs": [
    {
     "data": {
      "text/plain": [
       "420739"
      ]
     },
     "execution_count": 9,
     "metadata": {},
     "output_type": "execute_result"
    }
   ],
   "source": [
    "data = \"\"\"px{a<2006:qkq,m>2090:A,rfg}\n",
    "pv{a>1716:R,A}\n",
    "lnx{m>1548:A,A}\n",
    "rfg{s<537:gd,x>2440:R,A}\n",
    "qs{s>3448:A,lnx}\n",
    "qkq{x<1416:A,crn}\n",
    "crn{x>2662:A,R}\n",
    "in{s<1351:px,qqz}\n",
    "qqz{s>2770:qs,m<1801:hdj,R}\n",
    "gd{a>3333:R,R}\n",
    "hdj{m>838:A,pv}\n",
    "\n",
    "{x=787,m=2655,a=1222,s=2876}\n",
    "{x=1679,m=44,a=2067,s=496}\n",
    "{x=2036,m=264,a=79,s=2244}\n",
    "{x=2461,m=1339,a=466,s=291}\n",
    "{x=2127,m=1623,a=2188,s=1013}\n",
    "\"\"\"\n",
    "data = open('puzzle.data').read()\n",
    "\n",
    "from operator import lt, gt\n",
    "\n",
    "def solve(data):\n",
    "    workflows_str, parts_str = data.split('\\n\\n')\n",
    "    workflows = {}\n",
    "    for line in workflows_str.splitlines():\n",
    "        name, steps = line.split('{')\n",
    "        workflows[name] = []\n",
    "        steps = steps[:-1].split(',')\n",
    "        for step in steps[:-1]:\n",
    "            condition, result = step.split(':')\n",
    "            op = {'<' : lt, '>' : gt}[condition[1]]\n",
    "            def process(part, condition=condition, result=result, op=op):\n",
    "                if op(part[condition[0]], int(condition[2:])):\n",
    "                    return result\n",
    "                return False\n",
    "            workflows[name].append(process)\n",
    "        def return_result(part, steps=steps):\n",
    "            return steps[-1]\n",
    "        workflows[name].append(return_result)\n",
    "\n",
    "    points = 0\n",
    "    for part_str in parts_str.splitlines():\n",
    "        part = {}\n",
    "        for item in part_str[1:-1].split(','):\n",
    "            key, value = item.split('=')\n",
    "            part[key] = int(value)\n",
    "\n",
    "        workflow_name = 'in'\n",
    "        while True:\n",
    "            for operation in workflows[workflow_name]:\n",
    "                result = operation(part)\n",
    "                if result:\n",
    "                    break\n",
    "            if result == 'A':\n",
    "                points += sum(part.values())\n",
    "                break\n",
    "            if result == 'R':\n",
    "                break\n",
    "            workflow_name = result\n",
    "    \n",
    "    return points\n",
    "            \n",
    "solve(data)"
   ]
  },
  {
   "cell_type": "code",
   "execution_count": 10,
   "metadata": {},
   "outputs": [
    {
     "data": {
      "text/plain": [
       "130251901420382"
      ]
     },
     "execution_count": 10,
     "metadata": {},
     "output_type": "execute_result"
    }
   ],
   "source": [
    "from functools import reduce\n",
    "\n",
    "def solve2(data: str) -> int:\n",
    "    workflows_str, parts_str = data.split('\\n\\n')\n",
    "    workflows = {}\n",
    "    for line in workflows_str.splitlines():\n",
    "        name, steps = line.split('{')\n",
    "        workflows[name] = steps[:-1].split(',')\n",
    "    \n",
    "    open_list = [{l: (1, 4000) for l in 'xmas'}]\n",
    "    accepted = []\n",
    "    while open_list:\n",
    "        part = open_list.pop()\n",
    "        workflow = 'in'\n",
    "        while True:\n",
    "            for instruction in workflows[workflow][:-1]:\n",
    "                condition, next_step = instruction.split(':')\n",
    "                attribute, op, value = condition[0], condition[1], int(condition[2:])\n",
    "                range_ = part[attribute]\n",
    "                if op == '<':\n",
    "                    if range_[0] > value:\n",
    "                        continue\n",
    "                    if range_[0] < value and range_[1] > value:\n",
    "                        open_list.append({**part, attribute: (range_[0], value - 1)})\n",
    "                        part[attribute] = (value, range_[1])\n",
    "                        continue\n",
    "                    if range_[1] < value:\n",
    "                        workflow = next_step\n",
    "                        break\n",
    "                elif op == '>':\n",
    "                    if range_[1] < value:\n",
    "                        continue\n",
    "                    if range_[0] < value and range_[1] > value:\n",
    "                        open_list.append({**part, attribute: (value + 1, range_[1])})\n",
    "                        part[attribute] = (range_[0], value)\n",
    "                        continue\n",
    "                    if range_[0] > value:\n",
    "                        workflow = next_step\n",
    "                        break\n",
    "            else:\n",
    "                workflow = workflows[workflow][-1]\n",
    "            \n",
    "            if workflow == 'A':\n",
    "                accepted.append(part)\n",
    "                break\n",
    "            elif workflow == 'R':\n",
    "                break\n",
    "    \n",
    "    return sum(reduce(lambda a, b: a * (b[1] - b[0] + 1), p.values(), 1) for p in accepted)\n",
    "            \n",
    "solve2(data)"
   ]
  }
 ],
 "metadata": {
  "kernelspec": {
   "display_name": "Python 3",
   "language": "python",
   "name": "python3"
  },
  "language_info": {
   "codemirror_mode": {
    "name": "ipython",
    "version": 3
   },
   "file_extension": ".py",
   "mimetype": "text/x-python",
   "name": "python",
   "nbconvert_exporter": "python",
   "pygments_lexer": "ipython3",
   "version": "3.12.1"
  }
 },
 "nbformat": 4,
 "nbformat_minor": 2
}
