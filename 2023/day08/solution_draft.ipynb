{
 "cells": [
  {
   "cell_type": "code",
   "execution_count": 64,
   "metadata": {},
   "outputs": [
    {
     "data": {
      "text/plain": [
       "16897"
      ]
     },
     "execution_count": 64,
     "metadata": {},
     "output_type": "execute_result"
    }
   ],
   "source": [
    "data = \"\"\"LLR\n",
    "\n",
    "AAA = (BBB, BBB)\n",
    "BBB = (AAA, ZZZ)\n",
    "ZZZ = (ZZZ, ZZZ)\n",
    "\"\"\"\n",
    "data = open('puzzle.data').read()\n",
    "\n",
    "steps, _, *lines = data.splitlines()\n",
    "\n",
    "from itertools import cycle\n",
    "from re import findall\n",
    "\n",
    "network = {t[0]: t[1:] for t in (findall(r'\\w+', line) for line in lines)}\n",
    "\n",
    "num_of_steps = 0\n",
    "node = 'AAA'\n",
    "for step in cycle(steps):\n",
    "    num_of_steps += 1\n",
    "    node = network[node][0 if step == 'L' else 1]\n",
    "    if node == 'ZZZ':\n",
    "        break\n",
    "\n",
    "num_of_steps\n"
   ]
  },
  {
   "cell_type": "code",
   "execution_count": 66,
   "metadata": {},
   "outputs": [
    {
     "data": {
      "text/plain": [
       "16563603485021"
      ]
     },
     "execution_count": 66,
     "metadata": {},
     "output_type": "execute_result"
    }
   ],
   "source": [
    "nodes = [node for node in network if node.endswith('A')]\n",
    "\n",
    "ghost_steps = []\n",
    "for node in nodes:\n",
    "    num_of_steps = 0\n",
    "    for step in cycle(steps):\n",
    "        num_of_steps += 1\n",
    "        node = network[node][0 if step == 'L' else 1]\n",
    "        if node.endswith('Z'):\n",
    "            break\n",
    "    ghost_steps.append(num_of_steps)\n",
    "\n",
    "import math\n",
    "math.lcm(*ghost_steps)  # this puzzle is VERY missleading, as LCM should not work and will not work in other cases!"
   ]
  }
 ],
 "metadata": {
  "kernelspec": {
   "display_name": "Python 3",
   "language": "python",
   "name": "python3"
  },
  "language_info": {
   "codemirror_mode": {
    "name": "ipython",
    "version": 3
   },
   "file_extension": ".py",
   "mimetype": "text/x-python",
   "name": "python",
   "nbconvert_exporter": "python",
   "pygments_lexer": "ipython3",
   "version": "3.11.6"
  }
 },
 "nbformat": 4,
 "nbformat_minor": 2
}
