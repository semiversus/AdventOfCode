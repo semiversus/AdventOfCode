{
 "cells": [
  {
   "cell_type": "code",
   "execution_count": 45,
   "metadata": {},
   "outputs": [
    {
     "data": {
      "text/plain": [
       "16897"
      ]
     },
     "execution_count": 45,
     "metadata": {},
     "output_type": "execute_result"
    }
   ],
   "source": [
    "data = \"\"\"LLR\n",
    "\n",
    "AAA = (BBB, BBB)\n",
    "BBB = (AAA, ZZZ)\n",
    "ZZZ = (ZZZ, ZZZ)\n",
    "\"\"\"\n",
    "data = open('puzzle.data').read()\n",
    "\n",
    "steps, _, *lines = data.splitlines()\n",
    "\n",
    "from itertools import cycle\n",
    "from re import findall\n",
    "\n",
    "network = {t[0]: t[1:] for t in (findall(r'\\w+', line) for line in lines)}\n",
    "\n",
    "num_of_steps = 0\n",
    "node = 'AAA'\n",
    "for step in cycle(steps):\n",
    "    num_of_steps += 1\n",
    "    node = network[node][0 if step == 'L' else 1]\n",
    "    if node == 'ZZZ':\n",
    "        break\n",
    "\n",
    "num_of_steps\n"
   ]
  },
  {
   "cell_type": "code",
   "execution_count": 41,
   "metadata": {},
   "outputs": [
    {
     "ename": "KeyboardInterrupt",
     "evalue": "",
     "output_type": "error",
     "traceback": [
      "\u001b[0;31m---------------------------------------------------------------------------\u001b[0m",
      "\u001b[0;31mKeyboardInterrupt\u001b[0m                         Traceback (most recent call last)",
      "\u001b[1;32m/home/guenther/projects/AdventOfCode/2023/day08/solution_draft.ipynb Cell 2\u001b[0m line \u001b[0;36m6\n\u001b[1;32m      <a href='vscode-notebook-cell:/home/guenther/projects/AdventOfCode/2023/day08/solution_draft.ipynb#W1sZmlsZQ%3D%3D?line=3'>4</a>\u001b[0m num_of_steps \u001b[39m+\u001b[39m\u001b[39m=\u001b[39m \u001b[39m1\u001b[39m\n\u001b[1;32m      <a href='vscode-notebook-cell:/home/guenther/projects/AdventOfCode/2023/day08/solution_draft.ipynb#W1sZmlsZQ%3D%3D?line=4'>5</a>\u001b[0m next_nodes \u001b[39m=\u001b[39m [network[node][\u001b[39m0\u001b[39m \u001b[39mif\u001b[39;00m step \u001b[39m==\u001b[39m \u001b[39m'\u001b[39m\u001b[39mL\u001b[39m\u001b[39m'\u001b[39m \u001b[39melse\u001b[39;00m \u001b[39m1\u001b[39m] \u001b[39mfor\u001b[39;00m node \u001b[39min\u001b[39;00m nodes]\n\u001b[0;32m----> <a href='vscode-notebook-cell:/home/guenther/projects/AdventOfCode/2023/day08/solution_draft.ipynb#W1sZmlsZQ%3D%3D?line=5'>6</a>\u001b[0m \u001b[39mif\u001b[39;00m \u001b[39mall\u001b[39m(node\u001b[39m.\u001b[39mendswith(\u001b[39m'\u001b[39m\u001b[39mZ\u001b[39m\u001b[39m'\u001b[39m) \u001b[39mfor\u001b[39;00m node \u001b[39min\u001b[39;00m next_nodes):\n\u001b[1;32m      <a href='vscode-notebook-cell:/home/guenther/projects/AdventOfCode/2023/day08/solution_draft.ipynb#W1sZmlsZQ%3D%3D?line=6'>7</a>\u001b[0m     \u001b[39mbreak\u001b[39;00m\n\u001b[1;32m      <a href='vscode-notebook-cell:/home/guenther/projects/AdventOfCode/2023/day08/solution_draft.ipynb#W1sZmlsZQ%3D%3D?line=7'>8</a>\u001b[0m nodes \u001b[39m=\u001b[39m next_nodes\n",
      "\u001b[0;31mKeyboardInterrupt\u001b[0m: "
     ]
    }
   ],
   "source": [
    "nodes = [node for node in network if node.endswith('A')]\n",
    "num_of_steps = 0\n",
    "for step in cycle(steps):\n",
    "    num_of_steps += 1\n",
    "    next_nodes = [network[node][0 if step == 'L' else 1] for node in nodes]\n",
    "    if all(node.endswith('Z') for node in next_nodes):\n",
    "        break\n",
    "    nodes = next_nodes\n",
    "\n",
    "num_of_steps"
   ]
  },
  {
   "cell_type": "code",
   "execution_count": 49,
   "metadata": {},
   "outputs": [
    {
     "ename": "IndexError",
     "evalue": "list index out of range",
     "output_type": "error",
     "traceback": [
      "\u001b[0;31m---------------------------------------------------------------------------\u001b[0m",
      "\u001b[0;31mIndexError\u001b[0m                                Traceback (most recent call last)",
      "\u001b[1;32m/home/guenther/projects/AdventOfCode/2023/day08/solution_draft.ipynb Cell 3\u001b[0m line \u001b[0;36m9\n\u001b[1;32m      <a href='vscode-notebook-cell:/home/guenther/projects/AdventOfCode/2023/day08/solution_draft.ipynb#W3sZmlsZQ%3D%3D?line=6'>7</a>\u001b[0m loop\u001b[39m.\u001b[39mappend(node)\n\u001b[1;32m      <a href='vscode-notebook-cell:/home/guenther/projects/AdventOfCode/2023/day08/solution_draft.ipynb#W3sZmlsZQ%3D%3D?line=7'>8</a>\u001b[0m node \u001b[39m=\u001b[39m network[node][\u001b[39m0\u001b[39m \u001b[39mif\u001b[39;00m step \u001b[39m==\u001b[39m \u001b[39m'\u001b[39m\u001b[39mL\u001b[39m\u001b[39m'\u001b[39m \u001b[39melse\u001b[39;00m \u001b[39m1\u001b[39m]\n\u001b[0;32m----> <a href='vscode-notebook-cell:/home/guenther/projects/AdventOfCode/2023/day08/solution_draft.ipynb#W3sZmlsZQ%3D%3D?line=8'>9</a>\u001b[0m \u001b[39mif\u001b[39;00m node \u001b[39min\u001b[39;00m loop \u001b[39mand\u001b[39;00m loop[num_of_steps \u001b[39m-\u001b[39;49m \u001b[39mlen\u001b[39;49m(steps)] \u001b[39m==\u001b[39m node:\n\u001b[1;32m     <a href='vscode-notebook-cell:/home/guenther/projects/AdventOfCode/2023/day08/solution_draft.ipynb#W3sZmlsZQ%3D%3D?line=9'>10</a>\u001b[0m     \u001b[39mprint\u001b[39m(\u001b[39mf\u001b[39m\u001b[39m'\u001b[39m\u001b[39mLoop at \u001b[39m\u001b[39m{\u001b[39;00mnum_of_steps\u001b[39m \u001b[39m\u001b[39m/\u001b[39m\u001b[39m \u001b[39m\u001b[39mlen\u001b[39m(steps)\u001b[39m}\u001b[39;00m\u001b[39m'\u001b[39m)\n\u001b[1;32m     <a href='vscode-notebook-cell:/home/guenther/projects/AdventOfCode/2023/day08/solution_draft.ipynb#W3sZmlsZQ%3D%3D?line=10'>11</a>\u001b[0m \u001b[39mif\u001b[39;00m node\u001b[39m.\u001b[39mendswith(\u001b[39m'\u001b[39m\u001b[39mZ\u001b[39m\u001b[39m'\u001b[39m):\n",
      "\u001b[0;31mIndexError\u001b[0m: list index out of range"
     ]
    }
   ],
   "source": [
    "nodes = [node for node in network if node.endswith('A')]\n",
    "num_of_steps = 0\n",
    "for node in nodes:\n",
    "    loop = []\n",
    "    for step in cycle(steps):\n",
    "        num_of_steps += 1\n",
    "        loop.append(node)\n",
    "        node = network[node][0 if step == 'L' else 1]\n",
    "        if node in loop and num_of_steps > len(steps) and loop[num_of_steps - len(steps)] == node:\n",
    "            print(f'Loop at {num_of_steps / len(steps)}')\n",
    "        if node.endswith('Z'):\n",
    "            print(f'Z @ {num_of_steps}')\n",
    "\n",
    "num_of_steps"
   ]
  }
 ],
 "metadata": {
  "kernelspec": {
   "display_name": "Python 3",
   "language": "python",
   "name": "python3"
  },
  "language_info": {
   "codemirror_mode": {
    "name": "ipython",
    "version": 3
   },
   "file_extension": ".py",
   "mimetype": "text/x-python",
   "name": "python",
   "nbconvert_exporter": "python",
   "pygments_lexer": "ipython3",
   "version": "3.11.6"
  }
 },
 "nbformat": 4,
 "nbformat_minor": 2
}
