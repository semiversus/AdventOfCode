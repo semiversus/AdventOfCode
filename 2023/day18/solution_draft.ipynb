{
 "cells": [
  {
   "cell_type": "code",
   "execution_count": 1,
   "metadata": {},
   "outputs": [
    {
     "data": {
      "text/plain": [
       "47675"
      ]
     },
     "execution_count": 1,
     "metadata": {},
     "output_type": "execute_result"
    }
   ],
   "source": [
    "data = \"\"\"R 6 (#70c710)\n",
    "D 5 (#0dc571)\n",
    "L 2 (#5713f0)\n",
    "D 2 (#d2c081)\n",
    "R 2 (#59c680)\n",
    "D 2 (#411b91)\n",
    "L 5 (#8ceee2)\n",
    "U 2 (#caa173)\n",
    "L 1 (#1b58a2)\n",
    "U 2 (#caa171)\n",
    "R 2 (#7807d2)\n",
    "U 3 (#a77fa3)\n",
    "L 2 (#015232)\n",
    "U 2 (#7a21e3)\n",
    "\"\"\"\n",
    "data = open('puzzle.data').read()\n",
    "\n",
    "from helper import *\n",
    "from collections import namedtuple\n",
    "\n",
    "Instruction = namedtuple('Instruction', 'direction steps')\n",
    "\n",
    "def parse(data: str) -> list[Instruction]:\n",
    "    instructions = []\n",
    "    for line in data.splitlines():\n",
    "        direction, steps, _ = line.split()\n",
    "        instructions.append(Instruction({'R': RIGHT, 'U': UP, 'D': DOWN, 'L': LEFT}[direction], int(steps)))\n",
    "    return instructions\n",
    "\n",
    "def fill(grid, position):\n",
    "    open_list = [position]\n",
    "    visited = set()\n",
    "    while open_list:\n",
    "        position = open_list.pop()\n",
    "        if position in visited or position in grid.cells:\n",
    "            continue\n",
    "        assert position in grid\n",
    "        visited.add(position)\n",
    "        grid[position] = True\n",
    "        for direction in FOUR_DIRECTIONS:\n",
    "            if grid[position + direction] is None:\n",
    "                open_list.append( (position + direction) )\n",
    "\n",
    "def solve1(data:str) -> int:\n",
    "    instructions = parse(data)\n",
    "    position = 0j\n",
    "    channel = dict()\n",
    "    for instruction in instructions:\n",
    "        for _ in range(instruction.steps):\n",
    "            position += instruction.direction\n",
    "            channel[position] = True\n",
    "    offset_x, offset_y = min(p.real for p in channel), min(p.imag for p in channel)\n",
    "    grid = Grid({complex(p.real - offset_x, p.imag - offset_y): color for p, color in channel.items()})\n",
    "\n",
    "    fill(grid, complex(grid.width // 2, grid.height // 2))\n",
    "    return len(grid.cells)\n",
    "\n",
    "solve1(data)"
   ]
  },
  {
   "cell_type": "code",
   "execution_count": 2,
   "metadata": {},
   "outputs": [
    {
     "data": {
      "text/plain": [
       "37988"
      ]
     },
     "execution_count": 2,
     "metadata": {},
     "output_type": "execute_result"
    }
   ],
   "source": [
    "def parse2(data: str) -> list[Instruction]:\n",
    "    instructions = []\n",
    "    for line in data.splitlines():\n",
    "        instruction = line.split()[2][2:-1]\n",
    "        length, dir = int(instruction[:-1], 16), {'0': RIGHT, '1': DOWN, '2': LEFT, '3': UP}[instruction[-1:]]\n",
    "        instructions.append(Instruction(dir, int(length)))\n",
    "    return instructions\n",
    "\n",
    "def solve2(data: str):\n",
    "    area, x, y = 0, 0, 0\n",
    "    for dir, steps in parse(data):\n",
    "        if dir == RIGHT:\n",
    "            area -= steps * y\n",
    "        elif dir == LEFT:\n",
    "            area += steps * y\n",
    "        elif dir == DOWN:\n",
    "            y += steps - 1\n",
    "        elif dir == UP:\n",
    "            y -= steps - 1\n",
    "    return area\n",
    "\n",
    "solve2(data)"
   ]
  }
 ],
 "metadata": {
  "kernelspec": {
   "display_name": "Python 3",
   "language": "python",
   "name": "python3"
  },
  "language_info": {
   "codemirror_mode": {
    "name": "ipython",
    "version": 3
   },
   "file_extension": ".py",
   "mimetype": "text/x-python",
   "name": "python",
   "nbconvert_exporter": "python",
   "pygments_lexer": "ipython3",
   "version": "3.11.6"
  }
 },
 "nbformat": 4,
 "nbformat_minor": 2
}
