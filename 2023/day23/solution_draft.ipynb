{
 "cells": [
  {
   "cell_type": "code",
   "execution_count": 19,
   "metadata": {},
   "outputs": [
    {
     "data": {
      "text/plain": [
       "2282"
      ]
     },
     "execution_count": 19,
     "metadata": {},
     "output_type": "execute_result"
    }
   ],
   "source": [
    "data = \"\"\"#.#####################\n",
    "#.......#########...###\n",
    "#######.#########.#.###\n",
    "###.....#.>.>.###.#.###\n",
    "###v#####.#v#.###.#.###\n",
    "###.>...#.#.#.....#...#\n",
    "###v###.#.#.#########.#\n",
    "###...#.#.#.......#...#\n",
    "#####.#.#.#######.#.###\n",
    "#.....#.#.#.......#...#\n",
    "#.#####.#.#.#########v#\n",
    "#.#...#...#...###...>.#\n",
    "#.#.#v#######v###.###v#\n",
    "#...#.>.#...>.>.#.###.#\n",
    "#####v#.#.###v#.#.###.#\n",
    "#.....#...#...#.#.#...#\n",
    "#.#########.###.#.#.###\n",
    "#...###...#...#...#.###\n",
    "###.###.#.###v#####v###\n",
    "#...#...#.#.>.>.#.>.###\n",
    "#.###.###.#.###.#.#v###\n",
    "#.....###...###...#...#\n",
    "#####################.#\n",
    "\"\"\"\n",
    "data = open('puzzle.data').read()\n",
    "\n",
    "from collections import defaultdict\n",
    "from helper import *\n",
    "\n",
    "def get_directions(grid: Grid, pos: complex) -> list[complex]:\n",
    "    waypoints = []\n",
    "    for check_dir in FOUR_DIRECTIONS:\n",
    "        if pos + check_dir not in grid or grid[pos + check_dir] != '#':\n",
    "            waypoints.append(check_dir)\n",
    "    return waypoints\n",
    "\n",
    "ok_dir_map = {'.': FOUR_DIRECTIONS, '>': [RIGHT], '<': [LEFT], '^': [UP], 'v': [DOWN]}\n",
    "\n",
    "def solve(data: str, check_slopes=True):\n",
    "    grid = Grid.from_str(data)\n",
    "    waypoints: dict[complex, list[tuple[complex, int]]] = defaultdict(list)\n",
    "    \n",
    "    open_list = [(1 + 0j, DOWN)]\n",
    "    visited = set()\n",
    "    \n",
    "    while open_list:\n",
    "        start, dir = open_list.pop()\n",
    "        if (start, dir) in visited:\n",
    "            continue\n",
    "        visited.add( (start, dir) )\n",
    "        pos = start + dir\n",
    "        length = 1\n",
    "        while True:\n",
    "            if pos.imag == grid.height - 1:\n",
    "                waypoints[start].append( (pos, length) )\n",
    "                break\n",
    "            if pos not in grid or (check_slopes and dir not in ok_dir_map[grid[pos]]):\n",
    "                break\n",
    "            next_dir = get_directions(grid, pos)\n",
    "            if len(next_dir) == 1:\n",
    "                break\n",
    "            length += 1\n",
    "            if len(next_dir) > 2:\n",
    "                waypoints[start].append( (pos, length) )\n",
    "                open_list.extend([(pos, d) for d in next_dir if d != -dir])\n",
    "                break\n",
    "            dir = next_dir[0] if next_dir[0] != -dir else next_dir[1]\n",
    "            pos += dir\n",
    "\n",
    "    open_list = [((1 + 0j,), 0)]\n",
    "    end_paths = []\n",
    "    while open_list:\n",
    "        path, path_length = open_list.pop()\n",
    "        for next_pos, length in waypoints[path[-1]]:\n",
    "            if next_pos.imag == grid.height - 1:\n",
    "                end_paths.append( (path + (next_pos,), path_length + length) )\n",
    "            if next_pos in path:\n",
    "                continue\n",
    "            open_list.append((path + (next_pos,), path_length + length - 1))\n",
    "    \n",
    "    return sorted(end_paths, key=lambda n: n[1])[-1][1]\n",
    "                \n",
    "solve(data)"
   ]
  },
  {
   "cell_type": "code",
   "execution_count": 20,
   "metadata": {},
   "outputs": [
    {
     "data": {
      "text/plain": [
       "6646"
      ]
     },
     "execution_count": 20,
     "metadata": {},
     "output_type": "execute_result"
    }
   ],
   "source": [
    "solve(data, check_slopes=False)"
   ]
  }
 ],
 "metadata": {
  "kernelspec": {
   "display_name": "Python 3",
   "language": "python",
   "name": "python3"
  },
  "language_info": {
   "codemirror_mode": {
    "name": "ipython",
    "version": 3
   },
   "file_extension": ".py",
   "mimetype": "text/x-python",
   "name": "python",
   "nbconvert_exporter": "python",
   "pygments_lexer": "ipython3",
   "version": "3.12.1"
  }
 },
 "nbformat": 4,
 "nbformat_minor": 2
}
