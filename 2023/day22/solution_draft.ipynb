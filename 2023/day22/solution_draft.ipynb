{
 "cells": [
  {
   "cell_type": "code",
   "execution_count": 40,
   "metadata": {},
   "outputs": [],
   "source": [
    "data = \"\"\"1,0,1~1,2,1\n",
    "0,0,2~2,0,2\n",
    "0,2,3~2,2,3\n",
    "0,0,4~0,2,4\n",
    "2,0,5~2,2,5\n",
    "0,1,6~2,1,6\n",
    "1,1,20~1,1,21\n",
    "\"\"\"\n",
    "#data = open('puzzle.data').read()\n",
    "\n",
    "from dataclasses import dataclass, replace\n",
    "from functools import reduce\n",
    "\n",
    "@dataclass\n",
    "class Brick:\n",
    "    x1: int\n",
    "    y1: int\n",
    "    z1: int\n",
    "    x2: int\n",
    "    y2: int\n",
    "    z2: int\n",
    "\n",
    "    def __post_init__(self):\n",
    "        self.x1, self.x2 = sorted((self.x1, self.x2))\n",
    "        self.y1, self.y2 = sorted((self.y1, self.y2))\n",
    "        self.z1, self.z2 = sorted((self.z1, self.z2))\n",
    "        if self.x1 != self.x2:\n",
    "            self.cubes = set((x, self.y1, self.z1) for x in range(self.x1, self.x2+1))\n",
    "        elif self.y1 != self.y2:\n",
    "            self.cubes = set((self.x1, y, self.z1) for y in range(self.y1, self.y2+1))\n",
    "        else:\n",
    "            self.cubes = set((self.x1, self.y1, z) for z in range(self.z1, self.z2+1))\n",
    "\n",
    "    @property\n",
    "    def at_bottom(self):\n",
    "        return 0 in (self.z1, self.z2)\n",
    "\n",
    "    def fall(self):\n",
    "        self.z1 -= 1\n",
    "        self.z2 -= 1\n",
    "        self.cubes = set((x, y, z - 1) for x, y, z in self.cubes)\n",
    "    \n",
    "bricks = []\n",
    "for line in data.splitlines():\n",
    "    x1, y1, z1, x2, y2, z2 = map(int, line.replace('~', ',').split(','))\n",
    "    bricks.append(Brick(x1, y1, z1, x2, y2, z2))\n",
    "\n",
    "# let them fall\n",
    "all_cubes = reduce(lambda a, b: a | b.cubes, bricks, set())\n",
    "\n",
    "def iterate(bricks, all_cubes):\n",
    "    bricks_falling = 0\n",
    "    for brick in bricks:\n",
    "        if brick.at_bottom:\n",
    "            continue\n",
    "        falling = False\n",
    "        while True:\n",
    "            brick_one_lower = replace(brick, z1=brick.z1 - 1, z2= brick.z2 - 1)\n",
    "            test_cubes = all_cubes - brick.cubes\n",
    "            if brick_one_lower.cubes & test_cubes or brick.at_bottom:\n",
    "                break\n",
    "            brick.fall()\n",
    "            all_cubes = test_cubes | brick.cubes\n",
    "            falling = True\n",
    "        if falling:\n",
    "            bricks_falling += 1\n",
    "    return bricks, all_cubes, bricks_falling\n",
    "\n",
    "# let them fall\n",
    "while True:\n",
    "    bricks, all_cubes, bricks_falling = iterate(bricks, all_cubes)\n",
    "    if not bricks_falling:\n",
    "        break\n",
    "\n"
   ]
  },
  {
   "cell_type": "code",
   "execution_count": 41,
   "metadata": {},
   "outputs": [
    {
     "name": "stdout",
     "output_type": "stream",
     "text": [
      "5\n",
      "7\n"
     ]
    }
   ],
   "source": [
    "# test disintegration\n",
    "bricks_falling = list()\n",
    "\n",
    "for brick in bricks:\n",
    "    test_cubes = all_cubes - brick.cubes\n",
    "    test_bricks = [replace(b) for b in bricks if b != brick]\n",
    "    while True:\n",
    "        test_bricks, test_cubes, b = iterate(test_bricks, test_cubes)\n",
    "        if not b:\n",
    "            break\n",
    "    bricks_falling.append(len([b for b in test_bricks if b not in bricks]))\n",
    "\n",
    "print(len([b for b in bricks_falling if b == 0]))\n",
    "print(sum(bricks_falling))"
   ]
  }
 ],
 "metadata": {
  "kernelspec": {
   "display_name": "Python 3",
   "language": "python",
   "name": "python3"
  },
  "language_info": {
   "codemirror_mode": {
    "name": "ipython",
    "version": 3
   },
   "file_extension": ".py",
   "mimetype": "text/x-python",
   "name": "python",
   "nbconvert_exporter": "python",
   "pygments_lexer": "ipython3",
   "version": "3.11.6"
  }
 },
 "nbformat": 4,
 "nbformat_minor": 2
}
