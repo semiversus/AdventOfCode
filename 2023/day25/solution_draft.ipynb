{
 "cells": [
  {
   "cell_type": "code",
   "execution_count": 35,
   "metadata": {},
   "outputs": [
    {
     "data": {
      "text/plain": [
       "543036"
      ]
     },
     "execution_count": 35,
     "metadata": {},
     "output_type": "execute_result"
    }
   ],
   "source": [
    "data = \"\"\"jqt: rhn xhk nvd\n",
    "rsh: frs pzl lsr\n",
    "xhk: hfx\n",
    "cmg: qnr nvd lhk bvb\n",
    "rhn: xhk bvb hfx\n",
    "bvb: xhk hfx\n",
    "pzl: lsr hfx nvd\n",
    "qnr: nvd\n",
    "ntq: jqt hfx bvb xhk\n",
    "nvd: lhk\n",
    "lsr: lhk\n",
    "rzs: qnr cmg lsr rsh\n",
    "frs: qnr lhk lsr\n",
    "\"\"\"\n",
    "data = open('puzzle.data').read()\n",
    "\n",
    "import re\n",
    "from collections import defaultdict\n",
    "from random import choice\n",
    "\n",
    "def parse(data: str) -> dict[str, list[str]]:\n",
    "    graph = defaultdict(list)\n",
    "    for line in data.splitlines():\n",
    "        node, *nodes = re.findall('[\\\\w]+', line)\n",
    "        graph[node] += nodes\n",
    "        for n in nodes:\n",
    "            graph[n].append(node)\n",
    "\n",
    "    return graph\n",
    "\n",
    "def dump(graph):\n",
    "    from graphviz import Graph\n",
    "    from IPython.display import display\n",
    "\n",
    "    dot = Graph('G')\n",
    "    edges = set()\n",
    "    for node, next_nodes in graph.items():\n",
    "        for next_node in next_nodes:\n",
    "            if (next_node, node) in edges:\n",
    "                continue\n",
    "            edges.add( (node, next_node) )\n",
    "            dot.edge(node, next_node)\n",
    "\n",
    "    display(dot)\n",
    "\n",
    "def karger(graph: dict[str, list[str]]) -> list[tuple[str, str]]:\n",
    "    while True:\n",
    "        kgraph = {node: [(n, (node, n)) for n in graph[node]] for node in graph}\n",
    "        while len(kgraph) > 2:\n",
    "            n1 = choice(tuple(kgraph))\n",
    "            n2 = choice(kgraph[n1])[0]\n",
    "            combined = [(n, v) for n, v in kgraph.pop(n1) + kgraph.pop(n2) if n not in (n1, n2)]\n",
    "            for node in [n[0] for n in combined]:\n",
    "                kgraph[node] = [(n1 + n2 if n in (n1, n2) else n, v) for n, v in kgraph[node]]\n",
    "            kgraph[n1 + n2] = combined\n",
    "        if len(tuple(kgraph.values())[1]) == 3:\n",
    "            return [e[1] for e  in tuple(kgraph.values())[0]]\n",
    "\n",
    "def count_nodes(graph, node):\n",
    "    open_list = [node]\n",
    "    visited = set()\n",
    "    while open_list:\n",
    "        node = open_list.pop()\n",
    "        if node in visited:\n",
    "            continue\n",
    "        visited.add(node)\n",
    "        open_list.extend(graph[node])\n",
    "    return len(visited)\n",
    "\n",
    "def solve(data):\n",
    "    graph = parse(data)\n",
    "    min_edges = karger(graph)\n",
    "    \n",
    "    for n1, n2 in min_edges:\n",
    "        graph[n1].remove(n2)\n",
    "        graph[n2].remove(n1)\n",
    "    \n",
    "    return count_nodes(graph, min_edges[0][0]) * count_nodes(graph, min_edges[0][1])\n",
    "\n",
    "solve(data)"
   ]
  }
 ],
 "metadata": {
  "kernelspec": {
   "display_name": "Python 3",
   "language": "python",
   "name": "python3"
  },
  "language_info": {
   "codemirror_mode": {
    "name": "ipython",
    "version": 3
   },
   "file_extension": ".py",
   "mimetype": "text/x-python",
   "name": "python",
   "nbconvert_exporter": "python",
   "pygments_lexer": "ipython3",
   "version": "3.12.1"
  }
 },
 "nbformat": 4,
 "nbformat_minor": 2
}
