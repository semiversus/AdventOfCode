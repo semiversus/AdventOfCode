{
 "cells": [
  {
   "cell_type": "markdown",
   "metadata": {},
   "source": [
    "# Advent of Code 2023 - Day 1\n",
    "[Link to this puzzle](https://adventofcode.com/2023/day/1)\n",
    "\n",
    "## Problem 1"
   ]
  },
  {
   "cell_type": "code",
   "execution_count": 23,
   "metadata": {},
   "outputs": [],
   "source": [
    "import re\n",
    "\n",
    "def parse_two_digits(line: str) -> int:\n",
    "    digits = re.findall(r'\\d', line)  # get a list of all single digits\n",
    "    return int(digits[0] + digits[-1])  # concatenate first and last digit and convert to int\n",
    "\n",
    "def sum_up(data: str, parser=parse_two_digits) -> int:\n",
    "    \"\"\" split data into lines and parse each line; sum up all integers\n",
    "    :param data: string with puzzle input\n",
    "    :param parser: function used to parse each line (use parse_two_digits as default)\n",
    "    \"\"\"\n",
    "    return sum([parser(line) for line in data.splitlines()])  # "
   ]
  },
  {
   "cell_type": "markdown",
   "metadata": {},
   "source": [
    "### Sample input"
   ]
  },
  {
   "cell_type": "code",
   "execution_count": 24,
   "metadata": {},
   "outputs": [
    {
     "data": {
      "text/plain": [
       "142"
      ]
     },
     "execution_count": 24,
     "metadata": {},
     "output_type": "execute_result"
    }
   ],
   "source": [
    "sample_data = \"\"\"1abc2\n",
    "pqr3stu8vwx\n",
    "a1b2c3d4e5f\n",
    "treb7uchet\n",
    "\"\"\"\n",
    "\n",
    "sum_up(sample_data)"
   ]
  },
  {
   "cell_type": "markdown",
   "metadata": {},
   "source": [
    "### Puzzle input"
   ]
  },
  {
   "cell_type": "code",
   "execution_count": 25,
   "metadata": {},
   "outputs": [
    {
     "data": {
      "text/plain": [
       "55386"
      ]
     },
     "execution_count": 25,
     "metadata": {},
     "output_type": "execute_result"
    }
   ],
   "source": [
    "puzzle_data = open(\"puzzle.data\").read()\n",
    "\n",
    "sum_up(puzzle_data)"
   ]
  },
  {
   "cell_type": "markdown",
   "metadata": {},
   "source": [
    "## Problem 2"
   ]
  },
  {
   "cell_type": "code",
   "execution_count": 26,
   "metadata": {},
   "outputs": [],
   "source": [
    "# create dictionary with map for spelled numbers to digit: {'one': '1', 'two': '2', ...}\n",
    "SPELLED_NUMBERS_DICT = {word: str(digit + 1) for digit, word in enumerate(['one', 'two', 'three', 'four', 'five', 'six', 'seven', 'eight', 'nine'])}\n",
    "\n",
    "def parse_with_spelled_numbers(line: str) -> int:\n",
    "    \"\"\" parsing lines with converting all spelled numbers to digits. NOTICE: the translation has to happen from left to right! \"\"\"\n",
    "    translated_line = ''\n",
    "\n",
    "    for start_pos in range(len(line)):\n",
    "        for word, digit in SPELLED_NUMBERS_DICT.items():\n",
    "            if line.startswith(word, start_pos):\n",
    "                translated_line += digit\n",
    "        else:\n",
    "            translated_line += line[start_pos]\n",
    "        \n",
    "    return parse_two_digits(translated_line)"
   ]
  },
  {
   "cell_type": "markdown",
   "metadata": {},
   "source": [
    "### Sample input"
   ]
  },
  {
   "cell_type": "code",
   "execution_count": 27,
   "metadata": {},
   "outputs": [
    {
     "data": {
      "text/plain": [
       "281"
      ]
     },
     "execution_count": 27,
     "metadata": {},
     "output_type": "execute_result"
    }
   ],
   "source": [
    "sample_data_2 = \"\"\"two1nine\n",
    "eightwothree\n",
    "abcone2threexyz\n",
    "xtwone3four\n",
    "4nineeightseven2\n",
    "zoneight234\n",
    "7pqrstsixteen\n",
    "\"\"\"\n",
    "\n",
    "sum_up(sample_data_2, parse_with_spelled_numbers)"
   ]
  },
  {
   "cell_type": "markdown",
   "metadata": {},
   "source": [
    "### Puzzle input"
   ]
  },
  {
   "cell_type": "code",
   "execution_count": 28,
   "metadata": {},
   "outputs": [
    {
     "data": {
      "text/plain": [
       "54824"
      ]
     },
     "execution_count": 28,
     "metadata": {},
     "output_type": "execute_result"
    }
   ],
   "source": [
    "sum_up(puzzle_data, parse_with_spelled_numbers)"
   ]
  }
 ],
 "metadata": {
  "kernelspec": {
   "display_name": "Python 3",
   "language": "python",
   "name": "python3"
  },
  "language_info": {
   "codemirror_mode": {
    "name": "ipython",
    "version": 3
   },
   "file_extension": ".py",
   "mimetype": "text/x-python",
   "name": "python",
   "nbconvert_exporter": "python",
   "pygments_lexer": "ipython3",
   "version": "3.11.6"
  }
 },
 "nbformat": 4,
 "nbformat_minor": 2
}
