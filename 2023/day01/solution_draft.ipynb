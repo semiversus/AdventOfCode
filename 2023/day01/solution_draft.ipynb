{
 "cells": [
  {
   "cell_type": "code",
   "execution_count": 2,
   "metadata": {},
   "outputs": [
    {
     "data": {
      "text/plain": [
       "55386"
      ]
     },
     "execution_count": 2,
     "metadata": {},
     "output_type": "execute_result"
    }
   ],
   "source": [
    "file_content = open('puzzle.data', 'r').read().splitlines()\n",
    "\n",
    "import re\n",
    "numbers = []\n",
    "for line in file_content:\n",
    "    digits = re.findall(r'\\d', line)\n",
    "    numbers.append(int(digits[0] + digits[-1]))\n",
    "\n",
    "sum(numbers)\n"
   ]
  },
  {
   "cell_type": "code",
   "execution_count": 3,
   "metadata": {},
   "outputs": [],
   "source": [
    "spelled_numbers = ['one', 'two', 'three', 'four', 'five', 'six', 'seven', 'eight', 'nine']"
   ]
  },
  {
   "cell_type": "code",
   "execution_count": 4,
   "metadata": {},
   "outputs": [
    {
     "data": {
      "text/plain": [
       "54824"
      ]
     },
     "execution_count": 4,
     "metadata": {},
     "output_type": "execute_result"
    }
   ],
   "source": [
    "numbers = []\n",
    "for line in file_content:\n",
    "    new_line = ''\n",
    "    for index in range(len(line)):\n",
    "        for i, n in enumerate(spelled_numbers):\n",
    "            if line[index:].startswith(n):\n",
    "                new_line += str(i + 1)\n",
    "        else:\n",
    "            new_line += line[index]\n",
    "    digits = re.findall(r'\\d', new_line)\n",
    "    numbers.append(int(digits[0] + digits[-1]))    \n",
    "\n",
    "sum(numbers)"
   ]
  }
 ],
 "metadata": {
  "kernelspec": {
   "display_name": "Python 3",
   "language": "python",
   "name": "python3"
  },
  "language_info": {
   "codemirror_mode": {
    "name": "ipython",
    "version": 3
   },
   "file_extension": ".py",
   "mimetype": "text/x-python",
   "name": "python",
   "nbconvert_exporter": "python",
   "pygments_lexer": "ipython3",
   "version": "3.11.6"
  }
 },
 "nbformat": 4,
 "nbformat_minor": 2
}
