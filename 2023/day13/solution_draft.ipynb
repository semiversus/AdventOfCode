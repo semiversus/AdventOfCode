{
 "cells": [
  {
   "cell_type": "code",
   "execution_count": 54,
   "metadata": {},
   "outputs": [
    {
     "data": {
      "text/plain": [
       "35691"
      ]
     },
     "execution_count": 54,
     "metadata": {},
     "output_type": "execute_result"
    }
   ],
   "source": [
    "data = \"\"\"#.##..##.\n",
    "..#.##.#.\n",
    "##......#\n",
    "##......#\n",
    "..#.##.#.\n",
    "..##..##.\n",
    "#.#.##.#.\n",
    "\n",
    "#...##..#\n",
    "#....#..#\n",
    "..##..###\n",
    "#####.##.\n",
    "#####.##.\n",
    "..##..###\n",
    "#....#..#\n",
    "\"\"\"\n",
    "data = open('puzzle.data').read()\n",
    "\n",
    "points = 0\n",
    "for maze in data.split('\\n\\n'):\n",
    "    rows = maze.splitlines()\n",
    "    for y in range(1, len(rows)):\n",
    "        if rows[max(0, 2 * y - len(rows)):y] ==  rows[2 * y - 1: y - 1: -1]:\n",
    "            points += 100 * y\n",
    "\n",
    "    columns = [''.join(line[i] for line in rows) for i in range(len(rows[0])) ]\n",
    "    for x in range(1, len(columns)):\n",
    "        if columns[max(0, 2 * x - len(columns)):x] ==  columns[2 * x - 1: x - 1: -1]:\n",
    "            points += x\n",
    "\n",
    "points"
   ]
  },
  {
   "cell_type": "code",
   "execution_count": 55,
   "metadata": {},
   "outputs": [
    {
     "data": {
      "text/plain": [
       "39037"
      ]
     },
     "execution_count": 55,
     "metadata": {},
     "output_type": "execute_result"
    }
   ],
   "source": [
    "points = 0\n",
    "\n",
    "def smudge_compare(part1: str, part2: str) -> int:\n",
    "    return sum(sum(c1 != c2 for c1, c2 in zip(line1, line2)) for line1, line2 in zip(part1, part2))\n",
    "\n",
    "for maze in data.split('\\n\\n'):\n",
    "    rows = maze.splitlines()\n",
    "    smudges = 0\n",
    "    for y in range(1, len(rows)):\n",
    "        if smudge_compare(rows[max(0, 2 * y - len(rows)):y], rows[2 * y - 1: y - 1: -1]) == 1:\n",
    "            points += 100 * y\n",
    "\n",
    "    columns = [''.join(line[i] for line in rows) for i in range(len(rows[0])) ]\n",
    "    for x in range(1, len(columns)):\n",
    "        if smudge_compare(columns[max(0, 2 * x - len(columns)):x], columns[2 * x - 1: x - 1: -1]) == 1:\n",
    "            points += x\n",
    "points"
   ]
  }
 ],
 "metadata": {
  "kernelspec": {
   "display_name": "Python 3",
   "language": "python",
   "name": "python3"
  },
  "language_info": {
   "codemirror_mode": {
    "name": "ipython",
    "version": 3
   },
   "file_extension": ".py",
   "mimetype": "text/x-python",
   "name": "python",
   "nbconvert_exporter": "python",
   "pygments_lexer": "ipython3",
   "version": "3.11.6"
  }
 },
 "nbformat": 4,
 "nbformat_minor": 2
}
