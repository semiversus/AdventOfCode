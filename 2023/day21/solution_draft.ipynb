{
 "cells": [
  {
   "cell_type": "code",
   "execution_count": 5,
   "metadata": {},
   "outputs": [
    {
     "data": {
      "text/plain": [
       "3598"
      ]
     },
     "execution_count": 5,
     "metadata": {},
     "output_type": "execute_result"
    }
   ],
   "source": [
    "data = \"\"\"...........\n",
    ".....###.#.\n",
    ".###.##..#.\n",
    "..#.#...#..\n",
    "....#.#....\n",
    ".##..S####.\n",
    ".##..#...#.\n",
    ".......##..\n",
    ".##.#.####.\n",
    ".##..##.##.\n",
    "...........\n",
    "\"\"\"\n",
    "data = open('puzzle.data').read()\n",
    "\n",
    "from helper import *\n",
    "\n",
    "def iterate(grid: Grid, positions: set[complex], steps: int) -> set[complex]:\n",
    "    for _ in range(steps):\n",
    "        new_positions = set()\n",
    "        for position in positions:\n",
    "            new_positions |= set(position + dir for dir in FOUR_DIRECTIONS if position + dir in grid and grid[position + dir] == '.')\n",
    "        positions = new_positions\n",
    "    return positions\n",
    "\n",
    "def solve(data: str) -> int:\n",
    "    grid = Grid.from_str(data)\n",
    "    start = next(p for p, c in grid.cells if c == 'S')\n",
    "    grid[start] = '.'\n",
    "    positions = {start}\n",
    "    positions = iterate(grid, {start}, 64)\n",
    "    return len(positions)\n",
    "\n",
    "solve(data)\n"
   ]
  },
  {
   "cell_type": "code",
   "execution_count": 6,
   "metadata": {},
   "outputs": [
    {
     "data": {
      "text/plain": [
       "601441063166538"
      ]
     },
     "execution_count": 6,
     "metadata": {},
     "output_type": "execute_result"
    }
   ],
   "source": [
    "def module_position(position: complex, grid: Grid) -> tuple[complex, complex]:\n",
    "    \"\"\" returns position within grid and offset from the original position \"\"\"\n",
    "    x, y = position.real, position.imag\n",
    "    return (complex(x % grid.width, y % grid.height), complex(x - x % grid.width, y - y % grid.height))\n",
    "    \n",
    "def iterate2(grid: Grid, positions: set[complex], steps: int) -> set[complex]:\n",
    "    for _ in range(steps):\n",
    "        new_positions = set()\n",
    "        for position in positions:\n",
    "            for dir in FOUR_DIRECTIONS:\n",
    "                modulo_position = complex( (position.real + dir.real) % grid.width, (position.imag + dir.imag) % grid.height)\n",
    "                if grid[modulo_position] == '.':\n",
    "                    new_positions.add(position + dir)\n",
    "        positions = new_positions\n",
    "    return positions\n",
    "\n",
    "STEPS = 26501365\n",
    "\n",
    "def solve2(data: str) -> int:\n",
    "    grid = Grid.from_str(data)\n",
    "    start = next(p for p, c in grid.cells if c == 'S')\n",
    "    grid[start] = '.'\n",
    "    positions = {start}\n",
    "    size = []\n",
    "    for steps in (65, 131, 131):\n",
    "         positions = iterate2(grid, positions, steps)\n",
    "         size.append(len(positions))\n",
    "    # using taylor (https://www.math.uni-hamburg.de/teaching/export/tuhh/cm/a1/1415/vorlesungen/vl11.pdf)\n",
    "    return size[0] + (size[1] - size[0]) * (STEPS // grid.width) + ((STEPS // grid.width) * (STEPS // grid.width - 1) // 2)* (size[2] - size[1] * 2 + size[0])\n",
    "\n",
    "solve2(data)\n"
   ]
  }
 ],
 "metadata": {
  "kernelspec": {
   "display_name": "Python 3",
   "language": "python",
   "name": "python3"
  },
  "language_info": {
   "codemirror_mode": {
    "name": "ipython",
    "version": 3
   },
   "file_extension": ".py",
   "mimetype": "text/x-python",
   "name": "python",
   "nbconvert_exporter": "python",
   "pygments_lexer": "ipython3",
   "version": "3.12.1"
  }
 },
 "nbformat": 4,
 "nbformat_minor": 2
}
