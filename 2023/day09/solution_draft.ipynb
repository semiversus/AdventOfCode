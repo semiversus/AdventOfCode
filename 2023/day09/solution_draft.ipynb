{
 "cells": [
  {
   "cell_type": "code",
   "execution_count": 14,
   "metadata": {},
   "outputs": [
    {
     "data": {
      "text/plain": [
       "1647269739"
      ]
     },
     "execution_count": 14,
     "metadata": {},
     "output_type": "execute_result"
    }
   ],
   "source": [
    "data = \"\"\"0 3 6 9 12 15\n",
    "1 3 6 10 15 21\n",
    "10 13 16 21 30 45\n",
    "\"\"\"\n",
    "data = open('puzzle.data').read()\n",
    "\n",
    "lines = data.splitlines()\n",
    "\n",
    "def extrapolate(numbers: list[int]):\n",
    "    history = [numbers]\n",
    "    while True:\n",
    "        history.append([b - a for a, b in zip(history[-1], history[-1][1:])])\n",
    "        if all(n == 0 for n in history[-1]):\n",
    "            break\n",
    "    number = 0\n",
    "    for numbers in reversed(history):\n",
    "        number = numbers[-1] + number\n",
    "    return number\n",
    "\n",
    "v = 0\n",
    "for line in lines:\n",
    "    numbers = [int(number) for number in line.split()]\n",
    "    v += extrapolate(numbers)\n",
    "\n",
    "v"
   ]
  },
  {
   "cell_type": "code",
   "execution_count": 15,
   "metadata": {},
   "outputs": [
    {
     "data": {
      "text/plain": [
       "864"
      ]
     },
     "execution_count": 15,
     "metadata": {},
     "output_type": "execute_result"
    }
   ],
   "source": [
    "v = 0\n",
    "for line in lines:\n",
    "    numbers = [int(number) for number in line.split()]\n",
    "    v += extrapolate(numbers[::-1])\n",
    "v"
   ]
  }
 ],
 "metadata": {
  "kernelspec": {
   "display_name": "Python 3",
   "language": "python",
   "name": "python3"
  },
  "language_info": {
   "codemirror_mode": {
    "name": "ipython",
    "version": 3
   },
   "file_extension": ".py",
   "mimetype": "text/x-python",
   "name": "python",
   "nbconvert_exporter": "python",
   "pygments_lexer": "ipython3",
   "version": "3.11.6"
  }
 },
 "nbformat": 4,
 "nbformat_minor": 2
}
