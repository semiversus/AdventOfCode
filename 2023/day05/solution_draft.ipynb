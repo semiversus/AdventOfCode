{
 "cells": [
  {
   "cell_type": "code",
   "execution_count": 12,
   "metadata": {},
   "outputs": [
    {
     "data": {
      "text/plain": [
       "1181555926"
      ]
     },
     "execution_count": 12,
     "metadata": {},
     "output_type": "execute_result"
    }
   ],
   "source": [
    "data = \"\"\"seeds: 79 14 55 13\n",
    "\n",
    "seed-to-soil map:\n",
    "50 98 2\n",
    "52 50 48\n",
    "\n",
    "soil-to-fertilizer map:\n",
    "0 15 37\n",
    "37 52 2\n",
    "39 0 15\n",
    "\n",
    "fertilizer-to-water map:\n",
    "49 53 8\n",
    "0 11 42\n",
    "42 0 7\n",
    "57 7 4\n",
    "\n",
    "water-to-light map:\n",
    "88 18 7\n",
    "18 25 70\n",
    "\n",
    "light-to-temperature map:\n",
    "45 77 23\n",
    "81 45 19\n",
    "68 64 13\n",
    "\n",
    "temperature-to-humidity map:\n",
    "0 69 1\n",
    "1 0 69\n",
    "\n",
    "humidity-to-location map:\n",
    "60 56 37\n",
    "56 93 4\n",
    "\"\"\".splitlines()\n",
    "data = open('puzzle.data').read().splitlines()\n",
    "\n",
    "seeds = [int(i) for i in data[0].split(':')[1].strip().split(' ')]\n",
    "\n",
    "# parse maps\n",
    "from collections import namedtuple\n",
    "Entry = namedtuple('Entry', 'destination source range')\n",
    "maps = [[]]\n",
    "for line in data[2:]:\n",
    "    if ':' in line:\n",
    "        continue\n",
    "    if line == '':\n",
    "        maps.append([])\n",
    "        continue\n",
    "    maps[-1].append(Entry(*(int(i) for i in line.split(' '))))\n",
    "\n",
    "# map seeds\n",
    "location_min = float('inf')\n",
    "for seed in seeds:\n",
    "    location = seed\n",
    "    for map_ in maps:\n",
    "        for entry in map_:\n",
    "            if entry.source <= location <= entry.source + entry.range:\n",
    "                location = location + entry.destination - entry.source\n",
    "                break\n",
    "    if location < location_min:\n",
    "        location_min = location\n",
    "        seed_min = seed\n",
    "\n",
    "location_min"
   ]
  },
  {
   "cell_type": "code",
   "execution_count": 14,
   "metadata": {},
   "outputs": [
    {
     "name": "stdout",
     "output_type": "stream",
     "text": [
      "[(364807853, 773420015), (302918330, 323126580), (1499552892, 1699844733), (3284226943, 3300256986), (2593569946, 2939332279), (3692780593, 3709996323), (1207118682, 1397101761), (2231594291, 2303800265), (3817565407, 4260627004), (2313976854, 2517906221)]\n",
      "[(498335903, 586838161), (453310112, 773420015), (436446380, 456654630), (3654918290, 3855210131), (1762512178, 1778542221), (2593569946, 2633818372), (1112103608, 1417617514), (754106964, 771322694), (1207118682, 1392195670), (3547561069, 3552467159), (871763817, 943969791), (3347745653, 3547561068), (4017380823, 4260627004), (2313976854, 2348990119), (3235691256, 3242241596), (2355540461, 2517906221)]\n",
      "[(990797653, 1079299911), (945771862, 1119489868), (627028119, 773420015), (928908130, 949116380), (3428537463, 3529068163), (3755448991, 3855210131), (841475992, 857506035), (2566704935, 2606953361), (1112103608, 1350997452), (1594141388, 1660761449), (126928322, 144144052), (1207118682, 1350997452), (1594141388, 1635339605), (3321180242, 3326086332), (871763817, 918224945), (1119489869, 1145234714), (3121364826, 3321180241), (2070560187, 2106938719), (4053759356, 4260627004), (2313976854, 2336743686), (2309878676, 2322125108), (2235443212, 2241993552), (2328675450, 2491041210)]\n",
      "[(1000886445, 1089388703), (955860654, 1129578660), (637116911, 783508807), (938996922, 959205172), (3428537463, 3445513486), (486042686, 514481679), (3473952481, 3529068163), (3755448991, 3855210131), (851564784, 867594827), (2569715616, 2609964042), (1122192400, 1361086244), (1604230180, 1670850241), (1860744258, 1877959988), (1217207474, 1361086244), (1604230180, 1645428397), (3324190923, 3329097013), (881852609, 928313737), (1129578661, 1155323506), (3124375507, 3324190922), (251844534, 288223066), (4053759356, 4260627004), (2316987535, 2339754367), (2312889357, 2325135789), (416727559, 423277899), (2331686131, 2494051891)]\n",
      "[(1000886445, 1072550928), (3317726838, 3334564612), (955860654, 1072550928), (3317726838, 3339583569), (1094407661, 1129578660), (637116911, 676201363), (497536930, 604844373), (760332488, 780540738), (3812568321, 3829544344), (3341085802, 3369524795), (3857983339, 3913099021), (3755448991, 3816963789), (257581844, 295828185), (672900350, 688930393), (2614712390, 2654960816), (1122192400, 1279660740), (0, 81425503), (1604230180, 1636971608), (374362558, 408241190), (1982376032, 1999591762), (1217207474, 1279660740), (0, 81425503), (1604230180, 1636971608), (374362558, 382819346), (3708221781, 3713127871), (703188175, 749649303), (132296596, 158041441), (3124375507, 3147213621), (3531244480, 3708221780), (3037078464, 3065323606), (280089677, 288223066), (4053759356, 4260627004), (2361984309, 2384751141), (2357886131, 2370132563), (2248037903, 2254588243), (2376682905, 2539048665)]\n",
      "[(3062941328, 3134605811), (1876775607, 1893613381), (3017915537, 3134605811), (1876775607, 1898632338), (3156462544, 3191633543), (2975805139, 3010903725), (672215498, 676201363), (2836225158, 2943532601), (2391794385, 2412002635), (1548241042, 1565217065), (1900134571, 1928573564), (1593656060, 1648771742), (1491121712, 1552636510), (822152297, 860398638), (2304362247, 2320392290), (2778934904, 2819183330), (3184247283, 3341715623), (0, 81425503), (3666285063, 3699026491), (938933011, 972811643), (4044430915, 4061646645), (3279262357, 3341715623), (0, 81425503), (3666285063, 3699026491), (938933011, 947389799), (2267270550, 2272176640), (2334650072, 2381111200), (696867049, 722611894), (591570947, 614409061), (2090293249, 2267270549), (504273904, 532519046), (844660130, 852793519), (1055917594, 1262785242), (1426197430, 1448964262), (1422099252, 1434345684), (1312251024, 1318801364), (1440896026, 1480301346), (2416088226, 2539048665)]\n"
     ]
    }
   ],
   "source": [
    "ranges = [(a, a + b - 1) for a, b in zip(seeds[::2], seeds[1::2])]\n",
    "\n",
    "for map_ in maps:\n",
    "    new_ranges = []\n",
    "    print(ranges)\n",
    "    for range_ in ranges:\n",
    "        for entry in map_:\n",
    "            if range_[1] < entry.source or range_[0] > entry.source + entry.range - 1:\n",
    "                continue\n",
    "            if entry.source <= range_[0] < entry.source + entry.range and not entry.source <= range_[1] < entry.source + entry.range:\n",
    "                new_ranges.append( (range_[0] + entry.destination - entry.source, entry.destination + entry.range - 1) )\n",
    "                new_ranges.append( (entry.source + entry.range, range_[1]) )\n",
    "            elif not entry.source <= range_[0] < entry.source + entry.range and entry.source <= range_[1] < entry.source + entry.range:\n",
    "                new_ranges.append( (range_[0], entry.source - 1) )\n",
    "                new_ranges.append( (entry.destination , range_[1] + entry.destination - entry.source) )\n",
    "            elif entry.source <= range_[0] < entry.source + entry.range and entry.source <= range_[1] < entry.source + entry.range:\n",
    "                new_ranges.append( (range_[0] + entry.destination - entry.source, range_[1] + entry.destination - entry.source) )\n",
    "            else:\n",
    "                new_ranges.append( (range_[0], entry.source - 1) )\n",
    "                new_ranges.append( (entry.destination, entry.destination + entry.range - 1) )\n",
    "                new_ranges.append( (entry.source + entry.range, range_[1]) )\n",
    "            break\n",
    "        else:\n",
    "            new_ranges.append ( range_ )\n",
    "    ranges = new_ranges\n",
    "\n",
    "min(i[0] for i in ranges)"
   ]
  }
 ],
 "metadata": {
  "kernelspec": {
   "display_name": "Python 3",
   "language": "python",
   "name": "python3"
  },
  "language_info": {
   "codemirror_mode": {
    "name": "ipython",
    "version": 3
   },
   "file_extension": ".py",
   "mimetype": "text/x-python",
   "name": "python",
   "nbconvert_exporter": "python",
   "pygments_lexer": "ipython3",
   "version": "3.11.6"
  }
 },
 "nbformat": 4,
 "nbformat_minor": 2
}
