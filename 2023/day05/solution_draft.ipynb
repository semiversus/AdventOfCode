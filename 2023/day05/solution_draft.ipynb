{
 "cells": [
  {
   "cell_type": "code",
   "execution_count": 13,
   "metadata": {},
   "outputs": [
    {
     "data": {
      "text/plain": [
       "35"
      ]
     },
     "execution_count": 13,
     "metadata": {},
     "output_type": "execute_result"
    }
   ],
   "source": [
    "data = \"\"\"seeds: 79 14 55 13\n",
    "\n",
    "seed-to-soil map:\n",
    "50 98 2\n",
    "52 50 48\n",
    "\n",
    "soil-to-fertilizer map:\n",
    "0 15 37\n",
    "37 52 2\n",
    "39 0 15\n",
    "\n",
    "fertilizer-to-water map:\n",
    "49 53 8\n",
    "0 11 42\n",
    "42 0 7\n",
    "57 7 4\n",
    "\n",
    "water-to-light map:\n",
    "88 18 7\n",
    "18 25 70\n",
    "\n",
    "light-to-temperature map:\n",
    "45 77 23\n",
    "81 45 19\n",
    "68 64 13\n",
    "\n",
    "temperature-to-humidity map:\n",
    "0 69 1\n",
    "1 0 69\n",
    "\n",
    "humidity-to-location map:\n",
    "60 56 37\n",
    "56 93 4\n",
    "\"\"\".splitlines()\n",
    "# data = open('puzzle.data').read().splitlines()\n",
    "\n",
    "seeds = [int(i) for i in data[0].split(':')[1].strip().split(' ')]\n",
    "\n",
    "# parse maps\n",
    "from collections import namedtuple\n",
    "Entry = namedtuple('Entry', 'destination source range')\n",
    "maps = [[]]\n",
    "for line in data[2:]:\n",
    "    if ':' in line:\n",
    "        continue\n",
    "    if line == '':\n",
    "        maps.append([])\n",
    "        continue\n",
    "    maps[-1].append(Entry(*(int(i) for i in line.split(' '))))\n",
    "\n",
    "# map seeds\n",
    "location_min = float('inf')\n",
    "for seed in seeds:\n",
    "    location = seed\n",
    "    for map_ in maps:\n",
    "        for entry in map_:\n",
    "            if entry.source <= location <= entry.source + entry.range:\n",
    "                location = location + entry.destination - entry.source\n",
    "                break\n",
    "    if location < location_min:\n",
    "        location_min = location\n",
    "        seed_min = seed\n",
    "\n",
    "location_min"
   ]
  },
  {
   "cell_type": "code",
   "execution_count": 14,
   "metadata": {},
   "outputs": [
    {
     "data": {
      "text/plain": [
       "46"
      ]
     },
     "execution_count": 14,
     "metadata": {},
     "output_type": "execute_result"
    }
   ],
   "source": [
    "seed_ranges = [(a, a + b) for a, b in zip(seeds[::2], seeds[1::2])]\n",
    "\n",
    "location_ranges = []\n",
    "for seed_range in seed_ranges:\n",
    "    range_list = [seed_range]\n",
    "    for map_ in maps:\n",
    "        new_ranges = []\n",
    "        for range_ in range_list:\n",
    "            for entry in map_:\n",
    "                if range_[1] < entry.source or range_[0] > entry.source + entry.range:\n",
    "                    continue\n",
    "                elif entry.source <= range_[0] <= entry.source + entry.range and not entry.source <= range_[1] <= entry.source + entry.range:\n",
    "                    new_ranges.append( (range_[0] + entry.destination - entry.source, entry.destination + entry.range) )\n",
    "                    new_ranges.append( (entry.source + entry.range, range_[1]) )\n",
    "                elif not entry.source <= range_[0] <= entry.source + entry.range and entry.source <= range_[1] <= entry.source + entry.range:\n",
    "                    new_ranges.append( (range_[0], entry.destination) )\n",
    "                    new_ranges.append( (entry.destination , range_[1] + entry.destination - entry.source) )\n",
    "                elif entry.source <= range_[0] <= entry.source + entry.range and entry.source <= range_[1] <= entry.source + entry.range:\n",
    "                    new_ranges.append( (range_[0] + entry.destination - entry.source, range_[1] + entry.destination - entry.source) )\n",
    "                else:\n",
    "                    new_ranges.append( (range_[0] + entry.destination - entry.source, entry.destination + entry.range) )\n",
    "                    new_ranges.append( (entry.destination, entry.destination + entry.range) )\n",
    "                    new_ranges.append( (entry.destination , range_[1] + entry.destination - entry.source) )\n",
    "                break\n",
    "            else:\n",
    "                new_ranges.append ( range_ )\n",
    "        range_list = new_ranges\n",
    "    location_ranges.append(range_list)\n",
    "\n",
    "min(min(i[0] for i in ranges) for ranges in location_ranges)\n",
    "\n",
    "        \n",
    "\n"
   ]
  }
 ],
 "metadata": {
  "kernelspec": {
   "display_name": "Python 3",
   "language": "python",
   "name": "python3"
  },
  "language_info": {
   "codemirror_mode": {
    "name": "ipython",
    "version": 3
   },
   "file_extension": ".py",
   "mimetype": "text/x-python",
   "name": "python",
   "nbconvert_exporter": "python",
   "pygments_lexer": "ipython3",
   "version": "3.11.6"
  }
 },
 "nbformat": 4,
 "nbformat_minor": 2
}
