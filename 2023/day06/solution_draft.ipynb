{
 "cells": [
  {
   "cell_type": "code",
   "execution_count": 7,
   "metadata": {},
   "outputs": [
    {
     "data": {
      "text/plain": [
       "34934171"
      ]
     },
     "execution_count": 7,
     "metadata": {},
     "output_type": "execute_result"
    }
   ],
   "source": [
    "data = \"\"\"Time:      7  15   30\n",
    "Distance:  9  40  200\n",
    "\"\"\".splitlines()\n",
    "#data = open('puzzle.data').read().splitlines()\n",
    "\n",
    "races = [(7, 9), (15, 40), (30, 200)]\n",
    "races = [(54, 446), (81, 1292), (70, 1035), (88, 1007)]\n",
    "races = [(71530, 940200)]\n",
    "races = [(54817088, 446129210351007)]\n",
    "\n",
    "wins = []\n",
    "for time, distance in races:\n",
    "    win_race = 0\n",
    "    for duration in range(time):\n",
    "        result = (time - duration) * duration\n",
    "        if result > distance:\n",
    "            win_race += 1\n",
    "    wins.append(win_race)\n",
    "\n",
    "from functools import reduce\n",
    "\n",
    "wins\n",
    "reduce(lambda a, b: a * b, wins, 1)\n"
   ]
  }
 ],
 "metadata": {
  "kernelspec": {
   "display_name": "Python 3",
   "language": "python",
   "name": "python3"
  },
  "language_info": {
   "codemirror_mode": {
    "name": "ipython",
    "version": 3
   },
   "file_extension": ".py",
   "mimetype": "text/x-python",
   "name": "python",
   "nbconvert_exporter": "python",
   "pygments_lexer": "ipython3",
   "version": "3.11.6"
  }
 },
 "nbformat": 4,
 "nbformat_minor": 2
}
