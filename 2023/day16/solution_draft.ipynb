{
 "cells": [
  {
   "cell_type": "code",
   "execution_count": 19,
   "metadata": {},
   "outputs": [
    {
     "data": {
      "text/plain": [
       "8249"
      ]
     },
     "execution_count": 19,
     "metadata": {},
     "output_type": "execute_result"
    }
   ],
   "source": [
    "data = \"\"\".|...\\....\n",
    "|.-.\\.....\n",
    ".....|-...\n",
    "........|.\n",
    "..........\n",
    ".........\\\\\n",
    "..../.\\\\\\\\..\n",
    ".-.-/..|..\n",
    ".|....-|.\\\\\n",
    "..//.|....\n",
    "\"\"\"\n",
    "\n",
    "data = open('puzzle.data').read()\n",
    "\n",
    "\n",
    "def parse(data: str):\n",
    "    contraption = dict()\n",
    "    for y, line in enumerate(data.splitlines()):\n",
    "        for x, c in enumerate(line):\n",
    "            contraption[complex(x,y)] = c\n",
    "    return contraption\n",
    "\n",
    "def explore(contraption, size, position, direction, visited) -> set:\n",
    "    energized = set()\n",
    "    max_x, max_y = size\n",
    "\n",
    "    while 0 <= position.real <= max_x and 0 <= position.imag <= max_y and (position, direction) not in visited:\n",
    "        visited.add((position, direction))\n",
    "        energized.add(position)\n",
    "        if contraption[position] == '/':\n",
    "            direction = {1: complex(0, -1), complex(0, -1): 1, -1: 1j, 1j: -1}[direction]\n",
    "        elif contraption[position] == '\\\\':\n",
    "            direction = {1: 1j, complex(0, -1): -1, -1: complex(0, -1), 1j: 1}[direction]\n",
    "        elif contraption[position] == '|' and direction not in (1j, complex(0, -1)):\n",
    "            energized |= explore(contraption, size, position + 1j, 1j, visited)\n",
    "            energized |= explore(contraption, size, position - 1j, complex(0, -1), visited)\n",
    "            return energized\n",
    "        elif contraption[position] == '-' and direction not in (1, -1):\n",
    "            energized |= explore(contraption, size, position + 1, 1, visited)\n",
    "            energized |= explore(contraption, size, position - 1, -1, visited)\n",
    "            return energized\n",
    "        position += direction\n",
    "    return energized\n",
    "\n",
    "def dump(energized):\n",
    "    max_x = max([p.real for p in energized])\n",
    "    max_y = max([p.imag for p in energized])\n",
    "    for y in range(int(max_y)+1):\n",
    "        for x in range(int(max_x)+1):\n",
    "            print('#' if complex(x,y) in energized else '.', end='')\n",
    "        print()\n",
    "\n",
    "def dump_contraption(contraption):\n",
    "    max_x = max([p.real for p in contraption])\n",
    "    max_y = max([p.imag for p in contraption])\n",
    "    for y in range(int(max_y)):\n",
    "        for x in range(int(max_x)):\n",
    "            print(contraption[complex(x, y)], end='')\n",
    "        print()\n",
    "\n",
    "def solve1(data: str) -> int:\n",
    "    contraption = parse(data)\n",
    "    size =  (max(p.real for p in contraption.keys()), max(p.imag for p in contraption.keys()))\n",
    "    energized = explore(contraption, size, complex(0,0), direction=1, visited=set())\n",
    "    return len(energized)\n",
    "\n",
    "solve1(data)"
   ]
  },
  {
   "cell_type": "code",
   "execution_count": 20,
   "metadata": {},
   "outputs": [
    {
     "data": {
      "text/plain": [
       "8444"
      ]
     },
     "execution_count": 20,
     "metadata": {},
     "output_type": "execute_result"
    }
   ],
   "source": [
    "def solve2(data: str) -> int:\n",
    "    contraption = parse(data)\n",
    "    max_x = max([p.real for p in contraption])\n",
    "    max_y = max([p.imag for p in contraption])\n",
    "    energized_list = []\n",
    "    for x in range(0, int(max_x) + 1):\n",
    "        energized_list.append(len(explore(contraption, (max_x, max_y), complex(x, 0), direction=1j, visited=set())))\n",
    "        energized_list.append(len(explore(contraption, (max_x, max_y), complex(x, max_y), direction=complex(0, -1), visited=set())))\n",
    "    for y in range(0, int(max_y) + 1):\n",
    "        energized_list.append(len(explore(contraption, (max_x, max_y), complex(0, y), direction=1, visited=set())))\n",
    "        energized_list.append(len(explore(contraption, (max_x, max_y), complex(max_x, y), direction=-1, visited=set())))\n",
    "    return max(energized_list)\n",
    "\n",
    "solve2(data)"
   ]
  }
 ],
 "metadata": {
  "kernelspec": {
   "display_name": "Python 3",
   "language": "python",
   "name": "python3"
  },
  "language_info": {
   "codemirror_mode": {
    "name": "ipython",
    "version": 3
   },
   "file_extension": ".py",
   "mimetype": "text/x-python",
   "name": "python",
   "nbconvert_exporter": "python",
   "pygments_lexer": "ipython3",
   "version": "3.11.6"
  }
 },
 "nbformat": 4,
 "nbformat_minor": 2
}
