{
 "cells": [
  {
   "cell_type": "markdown",
   "metadata": {},
   "source": [
    "# Advent of Code 2023 - Day 2\n",
    "[Link to this puzzle](https://adventofcode.com/2023/day/2)\n",
    "\n",
    "## Problem 1"
   ]
  },
  {
   "cell_type": "code",
   "execution_count": 13,
   "metadata": {},
   "outputs": [],
   "source": [
    "ALLOWED_MAX_DICT = {'red': 12, 'green': 13, 'blue': 14}\n",
    "\n",
    "def parse_set(set_str: str) -> dict[str, int]:\n",
    "    cubes = [cube.strip().split(' ') for cube in set_str.split(',')]\n",
    "    return {color: int(number) for number, color in cubes}\n",
    "\n",
    "def is_valid_game(cube_sets: list[dict[str, int]]) -> bool:\n",
    "    for cube_set in cube_sets:\n",
    "        for color, number in cube_set.items():\n",
    "            if int(number) > ALLOWED_MAX_DICT[color]:\n",
    "                return False\n",
    "    return True\n",
    "\n",
    "def parse_game(line: str) -> tuple[int, list[tuple[str, int]]]:\n",
    "    game_str, sets_str = line.split(':')\n",
    "    game_id = int(game_str.split(' ')[1])\n",
    "    return game_id, [parse_set(s.strip()) for s in sets_str.split(';')]\n",
    "\n",
    "def sum_of_valid_game_ids(data: str) -> int:\n",
    "    games = [parse_game(line) for line in data.splitlines()]\n",
    "    return sum(game_id for game_id, cube_sets in games if is_valid_game(cube_sets))"
   ]
  },
  {
   "cell_type": "markdown",
   "metadata": {},
   "source": [
    "### Sample input"
   ]
  },
  {
   "cell_type": "code",
   "execution_count": 14,
   "metadata": {},
   "outputs": [
    {
     "data": {
      "text/plain": [
       "8"
      ]
     },
     "execution_count": 14,
     "metadata": {},
     "output_type": "execute_result"
    }
   ],
   "source": [
    "sample_data = \"\"\"Game 1: 3 blue, 4 red; 1 red, 2 green, 6 blue; 2 green\n",
    "Game 2: 1 blue, 2 green; 3 green, 4 blue, 1 red; 1 green, 1 blue\n",
    "Game 3: 8 green, 6 blue, 20 red; 5 blue, 4 red, 13 green; 5 green, 1 red\n",
    "Game 4: 1 green, 3 red, 6 blue; 3 green, 6 red; 3 green, 15 blue, 14 red\n",
    "Game 5: 6 red, 1 blue, 3 green; 2 blue, 1 red, 2 green\n",
    "\"\"\"\n",
    "\n",
    "sum_of_valid_game_ids(sample_data)\n"
   ]
  },
  {
   "cell_type": "markdown",
   "metadata": {},
   "source": [
    "### Puzzle input"
   ]
  },
  {
   "cell_type": "code",
   "execution_count": 15,
   "metadata": {},
   "outputs": [
    {
     "data": {
      "text/plain": [
       "2776"
      ]
     },
     "execution_count": 15,
     "metadata": {},
     "output_type": "execute_result"
    }
   ],
   "source": [
    "puzzle_data = open(\"puzzle.data\").read()\n",
    "\n",
    "sum_of_valid_game_ids(puzzle_data)"
   ]
  },
  {
   "cell_type": "markdown",
   "metadata": {},
   "source": [
    "## Problem 2"
   ]
  },
  {
   "cell_type": "code",
   "execution_count": 16,
   "metadata": {},
   "outputs": [],
   "source": [
    "def calc_power(cube_sets) -> int:\n",
    "    required_minimum_dict = {'red': 0, 'green': 0, 'blue': 0}\n",
    "    for cube_set in cube_sets:\n",
    "        for color, number in cube_set.items():\n",
    "            if number > required_minimum_dict[color]:\n",
    "                required_minimum_dict[color] = number\n",
    "\n",
    "    return required_minimum_dict['red'] * required_minimum_dict['green'] * required_minimum_dict['blue']\n",
    "\n",
    "def sum_of_power(data: str) -> int:\n",
    "    games = [parse_game(line) for line in data.splitlines()]\n",
    "    return sum(calc_power(cube_sets) for _, cube_sets in games)"
   ]
  },
  {
   "cell_type": "markdown",
   "metadata": {},
   "source": [
    "### Sample input"
   ]
  },
  {
   "cell_type": "code",
   "execution_count": 17,
   "metadata": {},
   "outputs": [
    {
     "data": {
      "text/plain": [
       "2286"
      ]
     },
     "execution_count": 17,
     "metadata": {},
     "output_type": "execute_result"
    }
   ],
   "source": [
    "sum_of_power(sample_data)"
   ]
  },
  {
   "cell_type": "markdown",
   "metadata": {},
   "source": [
    "### Puzzle input"
   ]
  },
  {
   "cell_type": "code",
   "execution_count": 18,
   "metadata": {},
   "outputs": [
    {
     "data": {
      "text/plain": [
       "68638"
      ]
     },
     "execution_count": 18,
     "metadata": {},
     "output_type": "execute_result"
    }
   ],
   "source": [
    "sum_of_power(puzzle_data)"
   ]
  }
 ],
 "metadata": {
  "kernelspec": {
   "display_name": "Python 3",
   "language": "python",
   "name": "python3"
  },
  "language_info": {
   "codemirror_mode": {
    "name": "ipython",
    "version": 3
   },
   "file_extension": ".py",
   "mimetype": "text/x-python",
   "name": "python",
   "nbconvert_exporter": "python",
   "pygments_lexer": "ipython3",
   "version": "3.11.6"
  }
 },
 "nbformat": 4,
 "nbformat_minor": 2
}
