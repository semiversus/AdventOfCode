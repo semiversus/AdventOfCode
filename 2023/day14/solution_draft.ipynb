{
 "cells": [
  {
   "cell_type": "code",
   "execution_count": 3,
   "metadata": {},
   "outputs": [
    {
     "data": {
      "text/plain": [
       "109654"
      ]
     },
     "execution_count": 3,
     "metadata": {},
     "output_type": "execute_result"
    }
   ],
   "source": [
    "data = \"\"\"O....#....\n",
    "O.OO#....#\n",
    ".....##...\n",
    "OO.#O....O\n",
    ".O.....O#.\n",
    "O.#..O.#.#\n",
    "..O..#O..O\n",
    ".......O..\n",
    "#....###..\n",
    "#OO..#....\n",
    "\"\"\"\n",
    "data = open('puzzle.data').read()\n",
    "\n",
    "def parse(data: str) -> tuple[set[complex], set[complex]]:\n",
    "    rounds, cubes = set(), set()\n",
    "    for y, line in enumerate(data.splitlines()):\n",
    "        for x, c in enumerate(line):\n",
    "            if c == '#':\n",
    "                cubes.add(complex(x, y))\n",
    "            elif c == 'O':\n",
    "                rounds.add(complex(x, y))\n",
    "    return tuple(rounds), tuple(cubes)\n",
    "\n",
    "def tilt_north(rounds, cubes):\n",
    "    new_set = set()\n",
    "    for rock in sorted(rounds, key=lambda p: p.imag):\n",
    "        y = 0\n",
    "        for y in range(int(rock.imag), -1, -1):\n",
    "            if complex(rock.real, y) in new_set or complex(rock.real, y) in cubes:\n",
    "                new_set.add(complex(rock.real, y + 1))\n",
    "                break\n",
    "        else:\n",
    "            new_set.add(complex(rock.real, 0))\n",
    "    return new_set\n",
    "\n",
    "def solve1(data: str):\n",
    "    rounds, cubes = parse(data)\n",
    "    rounds = tilt_north(rounds, cubes)\n",
    "    rows = max(p.imag for p in rounds | set(cubes))\n",
    "    load = [rows - p.imag + 1 for p in rounds]\n",
    "    return int(sum(load))\n",
    "\n",
    "solve1(data)"
   ]
  },
  {
   "cell_type": "code",
   "execution_count": 4,
   "metadata": {},
   "outputs": [
    {
     "data": {
      "text/plain": [
       "94876"
      ]
     },
     "execution_count": 4,
     "metadata": {},
     "output_type": "execute_result"
    }
   ],
   "source": [
    "def tilt_south(rounds, cubes):\n",
    "    new_set = set()\n",
    "    rows = max(p.imag for p in rounds | set(cubes))\n",
    "    for rock in sorted(rounds, key=lambda p: p.imag, reverse=True):\n",
    "        y = rows\n",
    "        for y in range(int(rock.imag), int(rows + 1)):\n",
    "            if complex(rock.real, y) in new_set or complex(rock.real, y) in cubes:\n",
    "                new_set.add(complex(rock.real, y - 1))\n",
    "                break\n",
    "        else:\n",
    "            new_set.add(complex(rock.real, rows))\n",
    "    return new_set\n",
    "\n",
    "def tilt_west(rounds, cubes):\n",
    "    new_set = set()\n",
    "    for rock in sorted(rounds, key=lambda p: p.real):\n",
    "        x = 0\n",
    "        for x in range(int(rock.real), -1, -1):\n",
    "            if complex(x, rock.imag) in new_set or complex(x, rock.imag) in cubes:\n",
    "                new_set.add(complex(x + 1, rock.imag))\n",
    "                break\n",
    "        else:\n",
    "            new_set.add(complex(0, rock.imag))\n",
    "    return new_set\n",
    "\n",
    "def tilt_east(rounds, cubes):\n",
    "    new_set = set()\n",
    "    columns = max(p.real for p in rounds | set(cubes))\n",
    "    for rock in sorted(rounds, key=lambda p: p.real, reverse=True):\n",
    "        x = columns\n",
    "        for x in range(int(rock.real), int(columns + 1)):\n",
    "            if complex(x, rock.imag) in new_set or complex(x, rock.imag) in cubes:\n",
    "                new_set.add(complex(x - 1, rock.imag))\n",
    "                break\n",
    "        else:\n",
    "            new_set.add(complex(columns, rock.imag))\n",
    "    return new_set\n",
    "\n",
    "from functools import cache\n",
    "\n",
    "def dump(rounds, cubes):\n",
    "    rounds, cubes = set(rounds), set(cubes)\n",
    "    for y in range(int(max(p.imag for p in rounds | cubes) + 1)):\n",
    "        for x in range(int(max(p.real for p in rounds | cubes) + 1)):\n",
    "            if complex(x, y) in cubes:\n",
    "                print('#', end='')\n",
    "            elif complex(x, y) in rounds:\n",
    "                print('O', end='')\n",
    "            else:\n",
    "                print('.', end='')\n",
    "        print()\n",
    "    print('\\n')\n",
    "\n",
    "@cache\n",
    "def cycle(rounds, cubes):\n",
    "    rounds = tilt_north(rounds, cubes)\n",
    "    rounds = tilt_west(rounds, cubes)\n",
    "    rounds = tilt_south(rounds, cubes)\n",
    "    return tuple(tilt_east(rounds, cubes))\n",
    "\n",
    "@cache\n",
    "def batch(rounds, cubes, cycles: int):\n",
    "    for _ in range(cycles):\n",
    "        rounds = cycle(rounds, cubes)\n",
    "    return tuple(rounds)\n",
    "\n",
    "def solve2(data: str):\n",
    "    rounds, cubes = parse(data)\n",
    "    \n",
    "    for _ in range(1_000_000):\n",
    "        rounds = batch(rounds, cubes, 1000)\n",
    "    rows = max(p.imag for p in rounds + cubes)\n",
    "    load = [rows - p.imag + 1 for p in rounds]\n",
    "    return int(sum(load))\n",
    "\n",
    "solve2(data)"
   ]
  }
 ],
 "metadata": {
  "kernelspec": {
   "display_name": "Python 3",
   "language": "python",
   "name": "python3"
  },
  "language_info": {
   "codemirror_mode": {
    "name": "ipython",
    "version": 3
   },
   "file_extension": ".py",
   "mimetype": "text/x-python",
   "name": "python",
   "nbconvert_exporter": "python",
   "pygments_lexer": "ipython3",
   "version": "3.11.6"
  }
 },
 "nbformat": 4,
 "nbformat_minor": 2
}
