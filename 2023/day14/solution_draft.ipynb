{
 "cells": [
  {
   "cell_type": "code",
   "execution_count": 50,
   "metadata": {},
   "outputs": [
    {
     "data": {
      "text/plain": [
       "109654"
      ]
     },
     "execution_count": 50,
     "metadata": {},
     "output_type": "execute_result"
    }
   ],
   "source": [
    "data = \"\"\"O....#....\n",
    "O.OO#....#\n",
    ".....##...\n",
    "OO.#O....O\n",
    ".O.....O#.\n",
    "O.#..O.#.#\n",
    "..O..#O..O\n",
    ".......O..\n",
    "#....###..\n",
    "#OO..#....\n",
    "\"\"\"\n",
    "data = open('puzzle.data').read()\n",
    "\n",
    "def parse(data: str) -> tuple[set[complex], set[complex]]:\n",
    "    rounds, cubes = set(), set()\n",
    "    for y, line in enumerate(data.splitlines()):\n",
    "        for x, c in enumerate(line):\n",
    "            if c == '#':\n",
    "                cubes.add(complex(x, y))\n",
    "            elif c == 'O':\n",
    "                rounds.add(complex(x, y))\n",
    "    return tuple(rounds), tuple(cubes)\n",
    "\n",
    "def tilt(rounds, cubes):\n",
    "    new_set = set()\n",
    "    for rock in sorted(rounds, key=lambda p: p.imag):\n",
    "        y = 0\n",
    "        for y in range(int(rock.imag), -1, -1):\n",
    "            if complex(rock.real, y) in new_set or complex(rock.real, y) in cubes:\n",
    "                new_set.add(complex(rock.real, y + 1))\n",
    "                break\n",
    "        else:\n",
    "            new_set.add(complex(rock.real, 0))\n",
    "    return new_set\n",
    "\n",
    "def calc_load(rounds, cubes) -> int:\n",
    "    rows = max(p.imag for p in rounds | set(cubes))\n",
    "    load = [rows - p.imag + 1 for p in rounds]\n",
    "    return int(sum(load))\n",
    "\n",
    "def solve1(data: str):\n",
    "    rounds, cubes = parse(data)\n",
    "    rounds = tilt(rounds, cubes)\n",
    "    return calc_load(rounds, cubes)\n",
    "\n",
    "solve1(data)"
   ]
  },
  {
   "cell_type": "code",
   "execution_count": 51,
   "metadata": {},
   "outputs": [
    {
     "name": "stdout",
     "output_type": "stream",
     "text": [
      "Found cycle starting at 84 with size of 27\n"
     ]
    },
    {
     "data": {
      "text/plain": [
       "94876"
      ]
     },
     "execution_count": 51,
     "metadata": {},
     "output_type": "execute_result"
    }
   ],
   "source": [
    "def rotate(rounds, cubes):\n",
    "    columns = int(max(p.real for p in rounds | cubes))\n",
    "    rounds = set(complex(columns - p.imag, p.real) for p in rounds)\n",
    "    cubes = set(complex(columns - p.imag, p.real) for p in cubes)\n",
    "    return rounds, cubes\n",
    "\n",
    "def dump(rounds, cubes):\n",
    "    rounds, cubes = set(rounds), set(cubes)\n",
    "    for y in range(int(max(p.imag for p in rounds | cubes) + 1)):\n",
    "        for x in range(int(max(p.real for p in rounds | cubes) + 1)):\n",
    "            if complex(x, y) in cubes:\n",
    "                print('#', end='')\n",
    "            elif complex(x, y) in rounds:\n",
    "                print('O', end='')\n",
    "            else:\n",
    "                print('.', end='')\n",
    "        print()\n",
    "    print('\\n')\n",
    "\n",
    "def cycle(rounds, cubes):\n",
    "    for _ in range(4):\n",
    "        rounds = tilt(rounds, cubes)\n",
    "        rounds, cubes = rotate(rounds, cubes)\n",
    "    return tuple(rounds)\n",
    "\n",
    "def solve2(data: str):\n",
    "    CYCLES = 1_000_000_000\n",
    "    states = dict()\n",
    "\n",
    "    rounds, cubes = parse(data)\n",
    "    for i in range(CYCLES):\n",
    "        rounds = cycle(set(rounds), set(cubes))\n",
    "        if rounds in states:\n",
    "            start = states[rounds]\n",
    "            break\n",
    "        states[rounds] = i\n",
    "\n",
    "    print(f'Found cycle starting at {start} with size of {i - start}')\n",
    "    \n",
    "    for i in range((CYCLES - start) % (i - start) - 1):\n",
    "        rounds = cycle(set(rounds), set(cubes))  \n",
    "\n",
    "    rows = max(p.imag for p in rounds + cubes)\n",
    "    load = [rows - p.imag + 1 for p in rounds]\n",
    "    return int(sum(load))\n",
    "\n",
    "solve2(data)"
   ]
  }
 ],
 "metadata": {
  "kernelspec": {
   "display_name": "Python 3",
   "language": "python",
   "name": "python3"
  },
  "language_info": {
   "codemirror_mode": {
    "name": "ipython",
    "version": 3
   },
   "file_extension": ".py",
   "mimetype": "text/x-python",
   "name": "python",
   "nbconvert_exporter": "python",
   "pygments_lexer": "ipython3",
   "version": "3.11.6"
  }
 },
 "nbformat": 4,
 "nbformat_minor": 2
}
