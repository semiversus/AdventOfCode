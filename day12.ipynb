{
 "cells": [
  {
   "cell_type": "code",
   "execution_count": 3,
   "metadata": {},
   "outputs": [
    {
     "data": {
      "text/plain": [
       "437"
      ]
     },
     "execution_count": 3,
     "metadata": {},
     "output_type": "execute_result"
    }
   ],
   "source": [
    "import string\n",
    "\n",
    "file_data = open('day12.data', 'r').read().splitlines()\n",
    "\n",
    "\n",
    "def find(file_data, letter):\n",
    "    for y, line in enumerate(file_data):\n",
    "        if letter in line:\n",
    "            return line.index(letter), y\n",
    "\n",
    "start_pos = find(file_data, 'S')\n",
    "end_pos = find(file_data, 'E')\n",
    "\n",
    "file_data[start_pos[1]] = file_data[start_pos[1]].replace('S', 'a')\n",
    "file_data[end_pos[1]] = file_data[end_pos[1]].replace('E', 'z')\n",
    "\n",
    "heights = [[string.ascii_lowercase.index(v) for v in line] for line in file_data]\n",
    "\n",
    "\n",
    "move_func_dict = {\n",
    "    '<': lambda p:(p[0] - 1, p[1]),\n",
    "    '>': lambda p:(p[0] + 1, p[1]),\n",
    "    '.': lambda p:(p[0], p[1] - 1),\n",
    "    'v': lambda p:(p[0], p[1] + 1)\n",
    "}\n",
    "\n",
    "\n",
    "def extend(way, pos):\n",
    "    height = heights[pos[1]][pos[0]]\n",
    "    movements =''\n",
    "\n",
    "    movements += '<' if pos[0] > 0 and heights[pos[1]][pos[0] - 1] <= height + 1 and way[-1:] != '>' else ''\n",
    "    movements += '>' if pos[0] < len(heights[0]) - 1 and heights[pos[1]][pos[0] + 1] <= height + 1 and way[-1:] != '<' else ''\n",
    "    movements += '.' if pos[1] > 0 and heights[pos[1] - 1][pos[0]] <= height + 1 and way[-1:] != 'v' else ''\n",
    "    movements += 'v' if pos[1] < len(heights) - 1 and heights[pos[1] + 1][pos[0]] <= height + 1 and way[-1:] != '.' else ''\n",
    "\n",
    "    return [way + m for m in movements]\n",
    "\n",
    "\n",
    "def get_end_pos(way, start_pos):\n",
    "    pos = start_pos\n",
    "    \n",
    "    for m in way:\n",
    "        pos = move_func_dict[m](pos)\n",
    "    \n",
    "    return pos\n",
    "\n",
    "\n",
    "def calc(start_pos, end_pos):        \n",
    "    best_way = dict()\n",
    "    open_list = extend('', start_pos)\n",
    "\n",
    "    while open_list:\n",
    "        way = open_list.pop(0)\n",
    "        way_end_pos = get_end_pos(way, start_pos)\n",
    "        \n",
    "        if way_end_pos in best_way:\n",
    "            continue\n",
    "        \n",
    "        if way_end_pos == end_pos:\n",
    "            return way\n",
    "\n",
    "        best_way[way_end_pos] = way\n",
    "        open_list.extend(extend(way, way_end_pos))\n",
    "    \n",
    "    return None\n",
    "\n",
    "len(calc(start_pos, end_pos))\n",
    "    "
   ]
  },
  {
   "cell_type": "code",
   "execution_count": 6,
   "metadata": {},
   "outputs": [
    {
     "data": {
      "text/plain": [
       "'>>>>>>>>>>>>>>>>>>>>>>>>>>>>>>>>>vv>v>>>>>>>>>>>>>>>>>.....>>>.>>>>>>>>....>>>.>>>>>>>>>>.>>>>.>>>>>>>>>>>>>>>>>>>vv>>vvvvv>>>>>>>>>>>>>v>>>>>>v>>>>>>>v>v>v>v>vv>v>vv>vv>>>v>>>vv>>>>....<<<<<<<<.<.<..<.<..<.<.<.<........>.>.>>..>...>..>.>>>>>>>>v>>>>>>>>v>vvvvvvvvvvvvvvvvvv<<v<<<<<<v<v<v<<<<<<.<...<.<.<.<......>.>.>.>...>..>>>>>>>v>>>>>>>vvvvvvvvvvvvv<v<v<<<<<v<v<<<<<..<..<.<.....>>.>...>.>>>>v>>>>>vvvvvvvvv<<<<<vv<<<.....>.<<'"
      ]
     },
     "execution_count": 6,
     "metadata": {},
     "output_type": "execute_result"
    }
   ],
   "source": [
    "ways = []\n",
    "\n",
    "for y in range(len(heights)):\n",
    "    for x in range(len(heights[0])):\n",
    "        if heights[y][x] == 0:\n",
    "            way = calc((x, y), end_pos)\n",
    "            \n",
    "            if way is None:\n",
    "                continue\n",
    "\n",
    "            ways.append(way)\n",
    "\n",
    "len(sorted(ways, key=lambda w:len(w))[0])"
   ]
  }
 ],
 "metadata": {
  "interpreter": {
   "hash": "36cf16204b8548560b1c020c4e8fb5b57f0e4c58016f52f2d4be01e192833930"
  },
  "kernelspec": {
   "display_name": "Python 3.9.11 64-bit",
   "language": "python",
   "name": "python3"
  },
  "language_info": {
   "codemirror_mode": {
    "name": "ipython",
    "version": 3
   },
   "file_extension": ".py",
   "mimetype": "text/x-python",
   "name": "python",
   "nbconvert_exporter": "python",
   "pygments_lexer": "ipython3",
   "version": "3.9.11"
  },
  "orig_nbformat": 4
 },
 "nbformat": 4,
 "nbformat_minor": 2
}
