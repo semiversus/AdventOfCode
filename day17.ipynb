{
 "cells": [
  {
   "cell_type": "code",
   "execution_count": 27,
   "metadata": {},
   "outputs": [],
   "source": [
    "from itertools import cycle, islice\n",
    "from collections import defaultdict\n",
    "from dataclasses import dataclass\n",
    "\n",
    "rocks = cycle([\n",
    "    ((0, 1, 2, 3),),\n",
    "    ((1,), (0, 1, 2), (1,)),\n",
    "    ((0, 1, 2), (2,), (2,)),\n",
    "    ((0,), (0,), (0,), (0,)),\n",
    "    ((0, 1), (0, 1)) \n",
    "])\n",
    "\n",
    "jets = cycle(open('day17.data', 'r').read())\n",
    "\n",
    "\n",
    "@dataclass\n",
    "class Position:\n",
    "    x: int\n",
    "    y: int\n",
    "\n",
    "\n",
    "def check(x: int, y: int, rock, rows):\n",
    "    for line_y, rock_line in enumerate(rock):\n",
    "        rock_row = {p + x for p in rock_line}\n",
    "        if -1 in rock_row or 7 in rock_row:\n",
    "            return False\n",
    "        if y + line_y not in rows:\n",
    "            continue\n",
    "        if rows[y + line_y] & rock_row:\n",
    "            return False\n",
    "    \n",
    "    return True\n",
    "\n",
    "\n",
    "def simulate(iterations):\n",
    "    rows = defaultdict(set)\n",
    "    rows[-1] |= set(range(7))  # add a dummy row at the bottom\n",
    "\n",
    "    for iteration_index, rock in enumerate(islice(rocks, iterations)):            \n",
    "        pos = Position(2, max(rows) + 4)\n",
    "\n",
    "        while pos.y >= 0:\n",
    "            x = pos.x - 1 if next(jets) == '<' else pos.x + 1\n",
    "            if check(x, pos.y, rock, rows):\n",
    "                pos.x = x\n",
    "\n",
    "            y = pos.y - 1\n",
    "            if not check(pos.x, y, rock, rows):\n",
    "                break\n",
    "            \n",
    "            pos.y = y\n",
    "        \n",
    "        for line_y, rock_line in enumerate(rock):\n",
    "            rows[pos.y + line_y] |= {p + pos.x for p in rock_line}\n",
    "            if len(rows[pos.y + line_y]) == 7:\n",
    "                for r in tuple(r for r in rows if r < pos.y + line_y):\n",
    "                    rows.pop(r)\n",
    "    \n",
    "    return max(rows) + 1"
   ]
  },
  {
   "cell_type": "code",
   "execution_count": 28,
   "metadata": {},
   "outputs": [
    {
     "data": {
      "text/plain": [
       "3191"
      ]
     },
     "execution_count": 28,
     "metadata": {},
     "output_type": "execute_result"
    }
   ],
   "source": [
    "simulate(2022)"
   ]
  },
  {
   "cell_type": "code",
   "execution_count": null,
   "metadata": {},
   "outputs": [],
   "source": []
  }
 ],
 "metadata": {
  "kernelspec": {
   "display_name": "Python 3",
   "language": "python",
   "name": "python3"
  },
  "language_info": {
   "codemirror_mode": {
    "name": "ipython",
    "version": 3
   },
   "file_extension": ".py",
   "mimetype": "text/x-python",
   "name": "python",
   "nbconvert_exporter": "python",
   "pygments_lexer": "ipython3",
   "version": "3.8.10"
  },
  "orig_nbformat": 4,
  "vscode": {
   "interpreter": {
    "hash": "916dbcbb3f70747c44a77c7bcd40155683ae19c65e1c03b4aa3499c5328201f1"
   }
  }
 },
 "nbformat": 4,
 "nbformat_minor": 2
}
