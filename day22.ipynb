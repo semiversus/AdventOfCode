{
 "cells": [
  {
   "cell_type": "code",
   "execution_count": 110,
   "metadata": {},
   "outputs": [],
   "source": [
    "import re\n",
    "from dataclasses import dataclass\n",
    "\n",
    "@dataclass\n",
    "class Position:\n",
    "    x: int\n",
    "    y: int\n",
    "\n",
    "def move(maze, pos, facing):\n",
    "    new_x, new_y = pos.x, pos.y\n",
    "\n",
    "    while True:\n",
    "        if facing == 0:\n",
    "            new_x = (new_x + 1) % len(maze[pos.y])\n",
    "        elif facing == 1:\n",
    "            new_y = (new_y + 1) % len(maze)\n",
    "        elif facing == 2:\n",
    "            new_x = (new_x - 1) % len(maze[pos.y])\n",
    "        elif facing == 3:\n",
    "            new_y = (new_y - 1) % len(maze)\n",
    "            \n",
    "        if new_x >= len(maze[new_y]):\n",
    "            continue\n",
    "        if maze[new_y][new_x] == '.':\n",
    "            return Position(new_x, new_y)\n",
    "            \n",
    "        if maze[new_y][new_x] == '#':\n",
    "            return pos\n",
    "\n",
    "def solve(maze, instructions):\n",
    "    facing = 0\n",
    "    pos = Position(maze[0].index('.'), 0)\n",
    "\n",
    "    while instructions:\n",
    "        steps_match = re.search(r'\\d+', instructions)\n",
    "        instructions = instructions[steps_match.end():]\n",
    "        for _ in range(int(steps_match.group())):\n",
    "            pos = move(maze, pos, facing)\n",
    "        if not instructions:\n",
    "            return pos, facing\n",
    "        turn, instructions = instructions[0], instructions[1:]\n",
    "        facing = (facing + 1) % 4 if turn == 'R' else (facing - 1) % 4"
   ]
  },
  {
   "cell_type": "code",
   "execution_count": 111,
   "metadata": {},
   "outputs": [
    {
     "data": {
      "text/plain": [
       "30552"
      ]
     },
     "execution_count": 111,
     "metadata": {},
     "output_type": "execute_result"
    }
   ],
   "source": [
    "file_data = open('day22.data', 'r').read().splitlines()\n",
    "maze, instructions = [list(l) for l in file_data[:-2]], file_data[-1]\n",
    "pos, facing = solve(maze, instructions)\n",
    "1000 * (pos.y + 1) + 4 * (pos.x + 1) + facing"
   ]
  },
  {
   "cell_type": "code",
   "execution_count": 112,
   "metadata": {},
   "outputs": [],
   "source": [
    "file_data = open('day22.data', 'r').read().splitlines()\n",
    "\n",
    "maze, instructions = [list(l) for l in file_data[:-2]], file_data[-1]\n",
    "\n",
    "warps = dict()\n",
    "\n",
    "for i in range(50):\n",
    "    warps[(-1, 150 + i)] = (50 + i, -1, -1)  # edge A\n",
    "    warps[(-1, 100 + i)] = (49, 49 - i, 2)  # edge B\n",
    "    warps[(i, 99)] = (49, 50 + i, 1)  # edge C\n",
    "    warps[(100 + i, -1)] = (i, 200, 0)  # edge D\n",
    "    warps[(50 + i, 150)] = (50, 150 + i, 1)  # edge E\n",
    "    warps[(100 + i, 50)] = (100, 50 + i, 1)  # edge F\n",
    "    warps[(100, 100 + i)] = (150, 49 - i, 2)  # edge G\n",
    "\n",
    "warps.update({v[:2]: (*k, -v[2]) for k, v in warps.items()})\n",
    "\n",
    "def move(maze, pos, facing):\n",
    "    new_x, new_y, new_facing = pos.x, pos.y, facing\n",
    "\n",
    "    while True:\n",
    "        if new_facing == 0:\n",
    "            new_x = new_x + 1\n",
    "        elif new_facing == 1:\n",
    "            new_y = new_y + 1\n",
    "        elif new_facing == 2:\n",
    "            new_x = new_x - 1\n",
    "        elif new_facing == 3:\n",
    "            new_y = new_y - 1\n",
    "\n",
    "        if (new_x, new_y) in warps:\n",
    "            new_x, new_y, turn = warps[(new_x, new_y)]\n",
    "            new_facing = (new_facing + turn) % 4\n",
    "            continue\n",
    "\n",
    "        if maze[new_y][new_x] == '.':\n",
    "            return Position(new_x, new_y), new_facing\n",
    "            \n",
    "        if maze[new_y][new_x] == '#':\n",
    "            return pos, facing\n",
    "\n",
    "def solve(maze, instructions):\n",
    "    facing = 0\n",
    "    pos = Position(maze[0].index('.'), 0)\n",
    "\n",
    "    while instructions:\n",
    "        steps_match = re.search(r'\\d+', instructions)\n",
    "        instructions = instructions[steps_match.end():]\n",
    "        steps = int(steps_match.group())\n",
    "        for _ in range(steps):\n",
    "            pos, facing = move(maze, pos, facing)\n",
    "        if not instructions:\n",
    "            return pos, facing\n",
    "        turn, instructions = instructions[0], instructions[1:]\n",
    "        facing = (facing + 1) % 4 if turn == 'R' else (facing - 1) % 4"
   ]
  },
  {
   "cell_type": "code",
   "execution_count": 113,
   "metadata": {},
   "outputs": [
    {
     "data": {
      "text/plain": [
       "184106"
      ]
     },
     "execution_count": 113,
     "metadata": {},
     "output_type": "execute_result"
    }
   ],
   "source": [
    "file_data = open('day22.data', 'r').read().splitlines()\n",
    "maze, instructions = [list(l) for l in file_data[:-2]], file_data[-1]\n",
    "pos, facing = solve(maze, instructions)\n",
    "1000 * (pos.y + 1) + 4 * (pos.x + 1) + facing"
   ]
  }
 ],
 "metadata": {
  "kernelspec": {
   "display_name": "Python 3",
   "language": "python",
   "name": "python3"
  },
  "language_info": {
   "codemirror_mode": {
    "name": "ipython",
    "version": 3
   },
   "file_extension": ".py",
   "mimetype": "text/x-python",
   "name": "python",
   "nbconvert_exporter": "python",
   "pygments_lexer": "ipython3",
   "version": "3.8.10"
  },
  "orig_nbformat": 4,
  "vscode": {
   "interpreter": {
    "hash": "916dbcbb3f70747c44a77c7bcd40155683ae19c65e1c03b4aa3499c5328201f1"
   }
  }
 },
 "nbformat": 4,
 "nbformat_minor": 2
}
