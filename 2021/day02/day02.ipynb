{
 "cells": [
  {
   "cell_type": "code",
   "execution_count": 1,
   "metadata": {},
   "outputs": [
    {
     "data": {
      "text/plain": [
       "2117664"
      ]
     },
     "execution_count": 1,
     "metadata": {},
     "output_type": "execute_result"
    }
   ],
   "source": [
    "file_content = open('day02.data', 'r').readlines()\n",
    "x, y = 0, 0\n",
    "for line in file_content:\n",
    "    cmd, value = line.split(' ')\n",
    "    value = int(value)\n",
    "    if cmd == 'forward':\n",
    "        x += value\n",
    "    elif cmd == 'down':\n",
    "        y += value\n",
    "    elif cmd == 'up':\n",
    "        y -= value\n",
    "x * y"
   ]
  },
  {
   "cell_type": "code",
   "execution_count": 3,
   "metadata": {},
   "outputs": [
    {
     "data": {
      "text/plain": [
       "2073416724"
      ]
     },
     "execution_count": 3,
     "metadata": {},
     "output_type": "execute_result"
    }
   ],
   "source": [
    "x, y, aim = 0, 0, 0\n",
    "for line in file_content:\n",
    "    cmd, value = line.split(' ')\n",
    "    value = int(value)\n",
    "    if cmd == 'forward':\n",
    "        x += value\n",
    "        y += aim * value\n",
    "    elif cmd == 'down':\n",
    "        aim += value\n",
    "    elif cmd == 'up':\n",
    "        aim -= value\n",
    "x * y"
   ]
  }
 ],
 "metadata": {
  "kernelspec": {
   "display_name": "Python 3",
   "language": "python",
   "name": "python3"
  },
  "language_info": {
   "codemirror_mode": {
    "name": "ipython",
    "version": 3
   },
   "file_extension": ".py",
   "mimetype": "text/x-python",
   "name": "python",
   "nbconvert_exporter": "python",
   "pygments_lexer": "ipython3",
   "version": "3.11.6"
  }
 },
 "nbformat": 4,
 "nbformat_minor": 2
}
