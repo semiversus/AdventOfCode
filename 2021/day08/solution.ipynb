{
 "cells": [
  {
   "cell_type": "markdown",
   "metadata": {},
   "source": [
    "# Advent of Code 2021 - Day 8\n",
    "[Link to this puzzle](https://adventofcode.com/2021/day/8)\n",
    "\n",
    "## Problem 1"
   ]
  },
  {
   "cell_type": "code",
   "execution_count": 61,
   "metadata": {},
   "outputs": [],
   "source": [
    "def find_1478(data: str) -> int:\n",
    "    known_digits = 0\n",
    "    for line in data.splitlines():\n",
    "        line = line.split('|')[1].strip()\n",
    "        digits = line.split(' ')\n",
    "        for digit in digits:\n",
    "            if len(digit) in (2, 3, 4, 7):\n",
    "                known_digits += 1\n",
    "    return known_digits"
   ]
  },
  {
   "cell_type": "markdown",
   "metadata": {},
   "source": [
    "### Sample input"
   ]
  },
  {
   "cell_type": "code",
   "execution_count": 62,
   "metadata": {},
   "outputs": [
    {
     "data": {
      "text/plain": [
       "26"
      ]
     },
     "execution_count": 62,
     "metadata": {},
     "output_type": "execute_result"
    }
   ],
   "source": [
    "sample_data = \"\"\"be cfbegad cbdgef fgaecd cgeb fdcge agebfd fecdb fabcd edb | fdgacbe cefdb cefbgd gcbe\n",
    "edbfga begcd cbg gc gcadebf fbgde acbgfd abcde gfcbed gfec | fcgedb cgb dgebacf gc\n",
    "fgaebd cg bdaec gdafb agbcfd gdcbef bgcad gfac gcb cdgabef | cg cg fdcagb cbg\n",
    "fbegcd cbd adcefb dageb afcb bc aefdc ecdab fgdeca fcdbega | efabcd cedba gadfec cb\n",
    "aecbfdg fbg gf bafeg dbefa fcge gcbea fcaegb dgceab fcbdga | gecf egdcabf bgf bfgea\n",
    "fgeab ca afcebg bdacfeg cfaedg gcfdb baec bfadeg bafgc acf | gebdcfa ecba ca fadegcb\n",
    "dbcfg fgd bdegcaf fgec aegbdf ecdfab fbedc dacgb gdcebf gf | cefg dcbef fcge gbcadfe\n",
    "bdfegc cbegaf gecbf dfcage bdacg ed bedf ced adcbefg gebcd | ed bcgafe cdgba cbgef\n",
    "egadfb cdbfeg cegd fecab cgb gbdefca cg fgcdab egfdb bfceg | gbdfcae bgc cg cgb\n",
    "gcafb gcf dcaebfg ecagb gf abcdeg gaef cafbge fdbac fegbdc | fgae cfgab fg bagce\n",
    "\"\"\"\n",
    "\n",
    "find_1478(sample_data)"
   ]
  },
  {
   "cell_type": "markdown",
   "metadata": {},
   "source": [
    "### Puzzle input"
   ]
  },
  {
   "cell_type": "code",
   "execution_count": 63,
   "metadata": {},
   "outputs": [
    {
     "data": {
      "text/plain": [
       "278"
      ]
     },
     "execution_count": 63,
     "metadata": {},
     "output_type": "execute_result"
    }
   ],
   "source": [
    "puzzle_data = open(\"puzzle.data\").read()\n",
    "\n",
    "find_1478(puzzle_data)"
   ]
  },
  {
   "cell_type": "markdown",
   "metadata": {},
   "source": [
    "## Problem 2"
   ]
  },
  {
   "cell_type": "code",
   "execution_count": 64,
   "metadata": {},
   "outputs": [],
   "source": [
    "def translate_line(line: str) -> int:\n",
    "    part1, part2 = [s.strip() for s in line.split('|')]\n",
    "\n",
    "    undecoded_signals = set(tuple(sorted(set(s))) for s in part1.split(' '))\n",
    "\n",
    "    decoder = dict()\n",
    "    decoder[1] = next(filter(lambda s: len(s) == 2, undecoded_signals))\n",
    "    decoder[4] = next(filter(lambda s: len(s) == 4, undecoded_signals))\n",
    "    decoder[7] = next(filter(lambda s: len(s) == 3, undecoded_signals))\n",
    "    decoder[8] = next(filter(lambda s: len(s) == 7, undecoded_signals))\n",
    "    decoder[3] = next(filter(lambda s: len(set(s) - set(decoder[1])) == 3 and len(s) == 5, undecoded_signals))\n",
    "    decoder[9] = next(filter(lambda s: set(s) & set(decoder[4]) == set(decoder[4]) and len(s) == 6, undecoded_signals))\n",
    "    \n",
    "    undecoded_signals -= set(decoder.values())\n",
    "    decoder[5] = next(filter(lambda s: len(set(s) & set(decoder[4])) == 3 and len(s) == 5, undecoded_signals))\n",
    "    \n",
    "    undecoded_signals -= set(decoder.values())\n",
    "    decoder[2] = next(filter(lambda s: len(s) == 5, undecoded_signals))\n",
    "    decoder[6] = next(filter(lambda s: set(s) & set(decoder[5]) == set(decoder[5]), undecoded_signals))\n",
    "    \n",
    "    undecoded_signals -= set(decoder.values())\n",
    "    decoder[0] = next(filter(lambda s: len(s) == 6, undecoded_signals))\n",
    "    \n",
    "    encoder = {v: str(k) for k, v in decoder.items()}\n",
    "    return int(''.join(encoder[tuple(sorted(set(s)))] for s in part2.split(' ')))\n",
    "\n",
    "def sum_of_numbers(data: str) -> int:\n",
    "    return sum(translate_line(line) for line in data.splitlines())"
   ]
  },
  {
   "cell_type": "markdown",
   "metadata": {},
   "source": [
    "### Sample input"
   ]
  },
  {
   "cell_type": "code",
   "execution_count": 65,
   "metadata": {},
   "outputs": [
    {
     "data": {
      "text/plain": [
       "61229"
      ]
     },
     "execution_count": 65,
     "metadata": {},
     "output_type": "execute_result"
    }
   ],
   "source": [
    "sum_of_numbers(sample_data)"
   ]
  },
  {
   "cell_type": "markdown",
   "metadata": {},
   "source": [
    "### Puzzle input"
   ]
  },
  {
   "cell_type": "code",
   "execution_count": 66,
   "metadata": {},
   "outputs": [
    {
     "data": {
      "text/plain": [
       "986179"
      ]
     },
     "execution_count": 66,
     "metadata": {},
     "output_type": "execute_result"
    }
   ],
   "source": [
    "sum_of_numbers(puzzle_data)"
   ]
  }
 ],
 "metadata": {
  "kernelspec": {
   "display_name": "Python 3",
   "language": "python",
   "name": "python3"
  },
  "language_info": {
   "codemirror_mode": {
    "name": "ipython",
    "version": 3
   },
   "file_extension": ".py",
   "mimetype": "text/x-python",
   "name": "python",
   "nbconvert_exporter": "python",
   "pygments_lexer": "ipython3",
   "version": "3.11.6"
  }
 },
 "nbformat": 4,
 "nbformat_minor": 2
}
