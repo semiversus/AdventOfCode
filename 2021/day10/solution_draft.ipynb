{
 "cells": [
  {
   "cell_type": "code",
   "execution_count": 20,
   "metadata": {},
   "outputs": [
    {
     "data": {
      "text/plain": [
       "323613"
      ]
     },
     "execution_count": 20,
     "metadata": {},
     "output_type": "execute_result"
    }
   ],
   "source": [
    "data = open('puzzle.data').read().splitlines()\n",
    "\n",
    "points = 0\n",
    "for line in data:\n",
    "    stack = []\n",
    "    for c in line:\n",
    "        if c in '([{<':\n",
    "            stack.append(c)\n",
    "        elif stack.pop() != {')' : '(', ']': '[', '}': '{', '>': '<'}[c]:\n",
    "            points += {')': 3, ']': 57, '}': 1197, '>': 25137}[c]\n",
    "\n",
    "points"
   ]
  },
  {
   "cell_type": "code",
   "execution_count": 21,
   "metadata": {},
   "outputs": [
    {
     "data": {
      "text/plain": [
       "3103006161"
      ]
     },
     "execution_count": 21,
     "metadata": {},
     "output_type": "execute_result"
    }
   ],
   "source": [
    "points_list = []\n",
    "for line in data:\n",
    "    stack = []\n",
    "    for c in line:\n",
    "        if c in '([{<':\n",
    "            stack.append(c)\n",
    "        elif stack.pop() != {')' : '(', ']': '[', '}': '{', '>': '<'}[c]:\n",
    "            break\n",
    "    else:\n",
    "        points = 0\n",
    "        for c in stack[::-1]:\n",
    "            points = points * 5 + {'(': 1, '[': 2, '{': 3, '<': 4}[c]\n",
    "        points_list.append(points)\n",
    "points_list.sort()\n",
    "points_list[len(points_list)//2]"
   ]
  },
  {
   "cell_type": "code",
   "execution_count": null,
   "metadata": {},
   "outputs": [],
   "source": []
  }
 ],
 "metadata": {
  "kernelspec": {
   "display_name": "Python 3",
   "language": "python",
   "name": "python3"
  },
  "language_info": {
   "codemirror_mode": {
    "name": "ipython",
    "version": 3
   },
   "file_extension": ".py",
   "mimetype": "text/x-python",
   "name": "python",
   "nbconvert_exporter": "python",
   "pygments_lexer": "ipython3",
   "version": "3.11.6"
  }
 },
 "nbformat": 4,
 "nbformat_minor": 2
}
