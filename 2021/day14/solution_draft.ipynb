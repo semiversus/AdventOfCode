{
 "cells": [
  {
   "cell_type": "code",
   "execution_count": 47,
   "metadata": {},
   "outputs": [
    {
     "data": {
      "text/plain": [
       "2010"
      ]
     },
     "execution_count": 47,
     "metadata": {},
     "output_type": "execute_result"
    }
   ],
   "source": [
    "data = \"\"\"NNCB\n",
    "\n",
    "CH -> B\n",
    "HH -> N\n",
    "CB -> H\n",
    "NH -> C\n",
    "HB -> C\n",
    "HC -> B\n",
    "HN -> C\n",
    "NN -> C\n",
    "BH -> H\n",
    "NC -> B\n",
    "NB -> B\n",
    "BN -> B\n",
    "BB -> N\n",
    "BC -> B\n",
    "CC -> N\n",
    "CN -> C\n",
    "\"\"\"\n",
    "data = open('puzzle.data').read()\n",
    "\n",
    "import re\n",
    "\n",
    "def parse(data: str) -> tuple[str, dict[str, str]]:\n",
    "    template, pair_lines = data.split('\\n\\n')\n",
    "    pairs = dict(re.findall(r'\\w+', line) for line in pair_lines.splitlines())\n",
    "    return template, pairs\n",
    "\n",
    "def iterate(polymer: str, pairs: dict[str, str]):\n",
    "    result = ''\n",
    "    for a, b in zip(polymer, polymer[1:]):\n",
    "        result += a + pairs[a + b]\n",
    "    return result + b\n",
    "\n",
    "polymer, pairs = parse(data)\n",
    "new_polymer = polymer\n",
    "for _ in range(10):\n",
    "    new_polymer = iterate(new_polymer, pairs)\n",
    "\n",
    "from collections import Counter\n",
    "sorted_count = Counter(new_polymer).most_common()\n",
    "sorted_count[0][1] - sorted_count[-1][1]\n"
   ]
  },
  {
   "cell_type": "code",
   "execution_count": 48,
   "metadata": {},
   "outputs": [
    {
     "data": {
      "text/plain": [
       "2437698971143"
      ]
     },
     "execution_count": 48,
     "metadata": {},
     "output_type": "execute_result"
    }
   ],
   "source": [
    "cache = {}\n",
    "\n",
    "def explore(letter_pair: str, depth: int) -> Counter:\n",
    "    if (letter_pair, depth) in cache:\n",
    "        return cache[(letter_pair, depth)]\n",
    "    if depth == 0:\n",
    "        return Counter(letter_pair[0])\n",
    "    c = explore(letter_pair[0] + pairs[letter_pair], depth - 1) + explore(pairs[letter_pair] + letter_pair[1], depth - 1) \n",
    "    cache[(letter_pair, depth)] = c\n",
    "    return c\n",
    "\n",
    "c = Counter()\n",
    "\n",
    "for a, b in zip(polymer, polymer[1:]):\n",
    "    c += explore(a + b, 40)\n",
    "c[b] += 1\n",
    "sorted_count = c.most_common()\n",
    "sorted_count[0][1] - sorted_count[-1][1]"
   ]
  }
 ],
 "metadata": {
  "kernelspec": {
   "display_name": "Python 3",
   "language": "python",
   "name": "python3"
  },
  "language_info": {
   "codemirror_mode": {
    "name": "ipython",
    "version": 3
   },
   "file_extension": ".py",
   "mimetype": "text/x-python",
   "name": "python",
   "nbconvert_exporter": "python",
   "pygments_lexer": "ipython3",
   "version": "3.11.6"
  }
 },
 "nbformat": 4,
 "nbformat_minor": 2
}
