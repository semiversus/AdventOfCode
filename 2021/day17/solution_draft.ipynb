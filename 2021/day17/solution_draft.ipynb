{
 "cells": [
  {
   "cell_type": "code",
   "execution_count": 16,
   "metadata": {},
   "outputs": [
    {
     "data": {
      "text/plain": [
       "(2278, 75)"
      ]
     },
     "execution_count": 16,
     "metadata": {},
     "output_type": "execute_result"
    }
   ],
   "source": [
    "data = \"\"\"target area: x=20..30, y=-10..-5\n",
    "\"\"\"\n",
    "data = open('puzzle.data').read()\n",
    "import re\n",
    "import itertools\n",
    "\n",
    "def solve(data: str) -> int:\n",
    "    x1, x2, y1, y2 = (int(i) for i in re.findall(r'[-\\d]+', data))\n",
    "\n",
    "    x_v, y_v  = 0, 0\n",
    "    y_total_max = 0\n",
    "    hits = 0\n",
    "\n",
    "    for x_v_start in itertools.count():\n",
    "        without_hit = 0\n",
    "        for y_v_start in itertools.count(y1, 1):\n",
    "            x_v, y_v = x_v_start, y_v_start\n",
    "            x, y = 0, 0\n",
    "            y_max = 0\n",
    "            hit = False\n",
    "            while True:\n",
    "                x = x + x_v\n",
    "                x_v = (x_v - 1 if x_v > 0 else x_v + 1) if x_v != 0 else 0\n",
    "                y = y + y_v\n",
    "                y_v -= 1\n",
    "                y_max = max(y_max, y)\n",
    "                if y < y1 or x > x2 or (x_v == 0 and x < x1):\n",
    "                    break\n",
    "                if x1 <= x <= x2 and y1 <= y <= y2:\n",
    "                    hit = True\n",
    "            if y_v > 0:\n",
    "                break\n",
    "            if hit:\n",
    "                hits += 1\n",
    "                y_total_max = max(y_total_max, y_max)\n",
    "            else:\n",
    "                without_hit += 1\n",
    "                if without_hit > 2000:\n",
    "                    break\n",
    "        if x_v_start > x2:\n",
    "            break\n",
    "    return y_total_max, hits\n",
    "\n",
    "solve(data)"
   ]
  }
 ],
 "metadata": {
  "kernelspec": {
   "display_name": "Python 3",
   "language": "python",
   "name": "python3"
  },
  "language_info": {
   "codemirror_mode": {
    "name": "ipython",
    "version": 3
   },
   "file_extension": ".py",
   "mimetype": "text/x-python",
   "name": "python",
   "nbconvert_exporter": "python",
   "pygments_lexer": "ipython3",
   "version": "3.12.1"
  }
 },
 "nbformat": 4,
 "nbformat_minor": 2
}
