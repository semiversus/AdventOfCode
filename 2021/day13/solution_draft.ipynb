{
 "cells": [
  {
   "cell_type": "code",
   "execution_count": 25,
   "metadata": {},
   "outputs": [
    {
     "name": "stdout",
     "output_type": "stream",
     "text": [
      ".##..###....##.###..####.###..#..#.#...\n",
      "#..#.#..#....#.#..#.#....#..#.#..#.#...\n",
      "#....#..#....#.###..###..#..#.#..#.#...\n",
      "#....###.....#.#..#.#....###..#..#.#...\n",
      "#..#.#....#..#.#..#.#....#.#..#..#.#...\n",
      ".##..#.....##..###..####.#..#..##..####\n",
      "\n"
     ]
    },
    {
     "data": {
      "text/plain": [
       "95"
      ]
     },
     "execution_count": 25,
     "metadata": {},
     "output_type": "execute_result"
    }
   ],
   "source": [
    "data = \"\"\"6,10\n",
    "0,14\n",
    "9,10\n",
    "0,3\n",
    "10,4\n",
    "4,11\n",
    "6,0\n",
    "6,12\n",
    "4,1\n",
    "0,13\n",
    "10,12\n",
    "3,4\n",
    "3,0\n",
    "8,4\n",
    "1,10\n",
    "2,14\n",
    "8,10\n",
    "9,0\n",
    "\n",
    "fold along y=7\n",
    "fold along x=5\n",
    "\"\"\"\n",
    "data = open('puzzle.data').read()\n",
    "\n",
    "def dump(points):\n",
    "    for y in range(int(max(p.imag for p in points)) + 1):\n",
    "        for x in range(int(max(p.real for p in points)) + 1):\n",
    "            print('#' if x + y * 1j in points else '.', end='')\n",
    "        print()\n",
    "    print()\n",
    "\n",
    "points, folds = data.split('\\n\\n')\n",
    "points = set(int(x) + int(y) * 1j for x, y in (point.split(',') for point in points.splitlines()))\n",
    "import re\n",
    "\n",
    "for line in folds.splitlines():\n",
    "    axis, value = re.match('fold along (.)=(\\d+)', line).groups()\n",
    "    value = int(value)\n",
    "    if axis == 'x':\n",
    "        points = set((value - abs(p.real - value)) + p.imag * 1j for p in points)\n",
    "    else:\n",
    "        points = set(p.real + (value - abs(p.imag - value)) * 1j for p in points)\n",
    "\n",
    "dump(points)\n",
    "len(points)\n"
   ]
  }
 ],
 "metadata": {
  "kernelspec": {
   "display_name": "Python 3",
   "language": "python",
   "name": "python3"
  },
  "language_info": {
   "codemirror_mode": {
    "name": "ipython",
    "version": 3
   },
   "file_extension": ".py",
   "mimetype": "text/x-python",
   "name": "python",
   "nbconvert_exporter": "python",
   "pygments_lexer": "ipython3",
   "version": "3.11.6"
  }
 },
 "nbformat": 4,
 "nbformat_minor": 2
}
