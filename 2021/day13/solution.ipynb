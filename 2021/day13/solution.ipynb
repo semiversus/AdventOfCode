{
 "cells": [
  {
   "cell_type": "markdown",
   "metadata": {},
   "source": [
    "# Advent of Code 2021 - Day 13\n",
    "[Link to this puzzle](https://adventofcode.com/2021/day/13)\n",
    "\n",
    "## Problem 1"
   ]
  },
  {
   "cell_type": "code",
   "execution_count": 25,
   "metadata": {},
   "outputs": [],
   "source": [
    "import re\n",
    "\n",
    "def parse(data: str) -> tuple[set[complex], list[tuple[str, int]]]:\n",
    "    points, folds = data.split('\\n\\n')\n",
    "    points = set(int(x) + int(y) * 1j for x, y in (point.split(',') for point in points.splitlines()))\n",
    "    folds = [(axis, int(value)) for axis, value in (re.match('fold along (.)=(\\d+)', line).groups() for line in folds.splitlines())]\n",
    "    return points, folds\n",
    "\n",
    "def fold(points: set[complex], axis: str, value: int) -> set[complex]:\n",
    "    if axis == 'x':\n",
    "        return set((value - abs(p.real - value)) + p.imag * 1j for p in points)\n",
    "    else:\n",
    "        return set(p.real + (value - abs(p.imag - value)) * 1j for p in points)"
   ]
  },
  {
   "cell_type": "markdown",
   "metadata": {},
   "source": [
    "### Sample input"
   ]
  },
  {
   "cell_type": "code",
   "execution_count": 26,
   "metadata": {},
   "outputs": [
    {
     "data": {
      "text/plain": [
       "17"
      ]
     },
     "execution_count": 26,
     "metadata": {},
     "output_type": "execute_result"
    }
   ],
   "source": [
    "sample_data = \"\"\"6,10\n",
    "0,14\n",
    "9,10\n",
    "0,3\n",
    "10,4\n",
    "4,11\n",
    "6,0\n",
    "6,12\n",
    "4,1\n",
    "0,13\n",
    "10,12\n",
    "3,4\n",
    "3,0\n",
    "8,4\n",
    "1,10\n",
    "2,14\n",
    "8,10\n",
    "9,0\n",
    "\n",
    "fold along y=7\n",
    "fold along x=5\n",
    "\"\"\"\n",
    "points, folds = parse(sample_data)\n",
    "len(fold(points, *folds[0]))"
   ]
  },
  {
   "cell_type": "markdown",
   "metadata": {},
   "source": [
    "### Puzzle input"
   ]
  },
  {
   "cell_type": "code",
   "execution_count": 27,
   "metadata": {},
   "outputs": [
    {
     "data": {
      "text/plain": [
       "724"
      ]
     },
     "execution_count": 27,
     "metadata": {},
     "output_type": "execute_result"
    }
   ],
   "source": [
    "puzzle_data = open(\"puzzle.data\").read()\n",
    "points, folds = parse(puzzle_data)\n",
    "len(fold(points, *folds[0]))\n"
   ]
  },
  {
   "cell_type": "markdown",
   "metadata": {},
   "source": [
    "## Problem 2"
   ]
  },
  {
   "cell_type": "code",
   "execution_count": 28,
   "metadata": {},
   "outputs": [],
   "source": [
    "def dump(points):\n",
    "    for y in range(int(max(p.imag for p in points)) + 1):\n",
    "        for x in range(int(max(p.real for p in points)) + 1):\n",
    "            print('#' if x + y * 1j in points else '.', end='')\n",
    "        print()\n",
    "    print()\n"
   ]
  },
  {
   "cell_type": "markdown",
   "metadata": {},
   "source": [
    "### Sample input"
   ]
  },
  {
   "cell_type": "code",
   "execution_count": 29,
   "metadata": {},
   "outputs": [
    {
     "name": "stdout",
     "output_type": "stream",
     "text": [
      "#####\n",
      "#...#\n",
      "#...#\n",
      "#...#\n",
      "#####\n",
      "\n"
     ]
    }
   ],
   "source": [
    "points, folds = parse(sample_data)\n",
    "for fold_ in folds:\n",
    "    points = fold(points, *fold_)\n",
    "dump(points)"
   ]
  },
  {
   "cell_type": "markdown",
   "metadata": {},
   "source": [
    "### Puzzle input"
   ]
  },
  {
   "cell_type": "code",
   "execution_count": 30,
   "metadata": {},
   "outputs": [
    {
     "name": "stdout",
     "output_type": "stream",
     "text": [
      ".##..###....##.###..####.###..#..#.#...\n",
      "#..#.#..#....#.#..#.#....#..#.#..#.#...\n",
      "#....#..#....#.###..###..#..#.#..#.#...\n",
      "#....###.....#.#..#.#....###..#..#.#...\n",
      "#..#.#....#..#.#..#.#....#.#..#..#.#...\n",
      ".##..#.....##..###..####.#..#..##..####\n",
      "\n"
     ]
    }
   ],
   "source": [
    "points, folds = parse(puzzle_data)\n",
    "for fold_ in folds:\n",
    "    points = fold(points, *fold_)\n",
    "dump(points)"
   ]
  }
 ],
 "metadata": {
  "kernelspec": {
   "display_name": "Python 3",
   "language": "python",
   "name": "python3"
  },
  "language_info": {
   "codemirror_mode": {
    "name": "ipython",
    "version": 3
   },
   "file_extension": ".py",
   "mimetype": "text/x-python",
   "name": "python",
   "nbconvert_exporter": "python",
   "pygments_lexer": "ipython3",
   "version": "3.11.6"
  }
 },
 "nbformat": 4,
 "nbformat_minor": 2
}
