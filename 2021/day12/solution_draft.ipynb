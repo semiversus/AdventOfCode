{
 "cells": [
  {
   "cell_type": "code",
   "execution_count": 75,
   "metadata": {},
   "outputs": [
    {
     "data": {
      "text/plain": [
       "3563"
      ]
     },
     "execution_count": 75,
     "metadata": {},
     "output_type": "execute_result"
    }
   ],
   "source": [
    "data = \"\"\"start-A\n",
    "start-b\n",
    "A-c\n",
    "A-b\n",
    "b-d\n",
    "A-end\n",
    "b-end\n",
    "\"\"\"\n",
    "data = open('puzzle.data').read()\n",
    "\n",
    "from collections import defaultdict\n",
    "\n",
    "def parse_maze(data: str) -> dict[str, set[str]]:\n",
    "    maze = defaultdict(set)\n",
    "    for line in data.splitlines():\n",
    "        a, b = line.split('-')\n",
    "        maze[a].add(b)\n",
    "        maze[b].add(a)\n",
    "    return maze\n",
    "\n",
    "def iterate(maze: dict[str, set[str]], path: list[str]) -> list[list[str]]:\n",
    "    if path[-1] == 'end':\n",
    "        return [path]\n",
    "    paths = []\n",
    "    for next_pos in maze[path[-1]]:\n",
    "        if next_pos.islower() and next_pos in path:\n",
    "            continue\n",
    "        paths += iterate(maze, path + [next_pos])\n",
    "    return paths\n",
    "\n",
    "len(iterate(parse_maze(data), ['start']))"
   ]
  },
  {
   "cell_type": "code",
   "execution_count": 76,
   "metadata": {},
   "outputs": [
    {
     "data": {
      "text/plain": [
       "105453"
      ]
     },
     "execution_count": 76,
     "metadata": {},
     "output_type": "execute_result"
    }
   ],
   "source": [
    "def iterate2(maze: dict[str, set[str]], path: list[str]) -> list[list[str]]:\n",
    "    if path[-1] == 'end':\n",
    "        return [path]\n",
    "    paths = []\n",
    "    small_caves_double_visit = any(path.count(p) == 2 for p in path if p.islower() and p != 'start')\n",
    "    for next_pos in maze[path[-1]]:\n",
    "        if next_pos == 'start':\n",
    "            continue\n",
    "        if next_pos.islower() and next_pos in path and small_caves_double_visit:\n",
    "            continue\n",
    "        if next_pos.islower() and path.count(next_pos) >= 2 and not small_caves_double_visit:\n",
    "            continue\n",
    "        paths += iterate2(maze, path + [next_pos])\n",
    "    return paths\n",
    "\n",
    "len(iterate2(parse_maze(data), ['start']))"
   ]
  }
 ],
 "metadata": {
  "kernelspec": {
   "display_name": "Python 3",
   "language": "python",
   "name": "python3"
  },
  "language_info": {
   "codemirror_mode": {
    "name": "ipython",
    "version": 3
   },
   "file_extension": ".py",
   "mimetype": "text/x-python",
   "name": "python",
   "nbconvert_exporter": "python",
   "pygments_lexer": "ipython3",
   "version": "3.11.6"
  }
 },
 "nbformat": 4,
 "nbformat_minor": 2
}
