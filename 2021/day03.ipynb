{
 "cells": [
  {
   "cell_type": "code",
   "execution_count": 46,
   "metadata": {},
   "outputs": [
    {
     "data": {
      "text/plain": [
       "2743844"
      ]
     },
     "execution_count": 46,
     "metadata": {},
     "output_type": "execute_result"
    }
   ],
   "source": [
    "file_content = open('day03.data', 'r').read().splitlines()\n",
    "\n",
    "def count_bits(lines):\n",
    "    count = [0] * len(lines[0])\n",
    "    for line in lines:\n",
    "        for i in range(len(line)):\n",
    "            if line[i] == '1':\n",
    "                count[i] += 1\n",
    "    return count\n",
    "count = count_bits(file_content)\n",
    "v = int(''.join('1' if count[i] > len(file_content) / 2 else '0' for i in range(len(count))), 2)\n",
    "\n",
    "(~v & (2 ** len(count) - 1)) * v"
   ]
  },
  {
   "cell_type": "code",
   "execution_count": 48,
   "metadata": {},
   "outputs": [
    {
     "data": {
      "text/plain": [
       "'10110'"
      ]
     },
     "execution_count": 48,
     "metadata": {},
     "output_type": "execute_result"
    }
   ],
   "source": [
    "file_content = \"\"\"00100\n",
    "11110\n",
    "10110\n",
    "10111\n",
    "10101\n",
    "01111\n",
    "00111\n",
    "11100\n",
    "10000\n",
    "11001\n",
    "00010\n",
    "01010\"\"\".splitlines()\n",
    "\n",
    "def filter(lines, cmp):\n",
    "    for i in range(len(lines[0])):\n",
    "        count = count_bits(lines)\n",
    "        lines = [line for line in lines if line[i] == ('1' if cmp(count[i], len(lines) / 2) else '0')]\n",
    "        if len(lines) == 1:\n",
    "            return lines[0]\n",
    "        \n",
    "oxygen = int(filter(file_content.copy(), cmp=lambda a, b: a > b), 2)\n",
    "co2 = int(filter(file_content.copy(), cmp=lambda a, b: a < b), 2)\n",
    "filter(file_content.copy(), cmp=lambda a, b: a > b)"
   ]
  }
 ],
 "metadata": {
  "kernelspec": {
   "display_name": "Python 3",
   "language": "python",
   "name": "python3"
  },
  "language_info": {
   "codemirror_mode": {
    "name": "ipython",
    "version": 3
   },
   "file_extension": ".py",
   "mimetype": "text/x-python",
   "name": "python",
   "nbconvert_exporter": "python",
   "pygments_lexer": "ipython3",
   "version": "3.11.6"
  }
 },
 "nbformat": 4,
 "nbformat_minor": 2
}
