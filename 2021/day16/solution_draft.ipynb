{
 "cells": [
  {
   "cell_type": "code",
   "execution_count": 36,
   "metadata": {},
   "outputs": [
    {
     "data": {
      "text/plain": [
       "925"
      ]
     },
     "execution_count": 36,
     "metadata": {},
     "output_type": "execute_result"
    }
   ],
   "source": [
    "data = \"\"\"9C0141080250320F1802104A08\n",
    "\"\"\"\n",
    "data = open('puzzle.data').read()\n",
    "\n",
    "from operator import gt, lt, eq\n",
    "\n",
    "def prod(values):\n",
    "    p = 1\n",
    "    for value in values:\n",
    "        p *= value\n",
    "    return p\n",
    "\n",
    "class Packet:\n",
    "    def __init__(self, bit_str: str):\n",
    "        self.version = int(bit_str[:3], 2)\n",
    "        self.type = int(bit_str[3:6], 2)\n",
    "        self.subpackets = []\n",
    "\n",
    "        if self.type == 4:\n",
    "            index = 6\n",
    "            value = 0\n",
    "            while True:\n",
    "                value = (value << 4) + int(bit_str[index + 1: index + 5], 2)\n",
    "                if bit_str[index] == '0':\n",
    "                    break\n",
    "                index += 5\n",
    "            self.value = value\n",
    "            self.length = index + 5\n",
    "            return\n",
    "        \n",
    "        if bit_str[6] == '0':\n",
    "            length = int(bit_str[7:22], 2)\n",
    "            index = 22\n",
    "            while length:\n",
    "                subpacket = Packet(bit_str[index:])\n",
    "                length -= subpacket.length\n",
    "                index += subpacket.length\n",
    "                self.subpackets.append(subpacket)\n",
    "        else:\n",
    "            length = int(bit_str[7:18], 2)\n",
    "            index = 18\n",
    "            for _ in range(length):\n",
    "                subpacket = Packet(bit_str[index:])\n",
    "                index += subpacket.length\n",
    "                self.subpackets.append(subpacket)\n",
    "     \n",
    "        self.length = index\n",
    "\n",
    "    @classmethod\n",
    "    def from_hex_str(cls, hex_str: str):\n",
    "        hex_str = hex_str.strip()\n",
    "        return cls(format(int(hex_str, 16), '0>%db' % (len(hex_str) * 4)))\n",
    "\n",
    "    def op(self):\n",
    "        if self.type == 4:\n",
    "            return self.value\n",
    "        \n",
    "        op_dict = {0: sum, 1: prod, 2: min, 3: max, 5: gt, 6: lt, 7: eq}\n",
    "        values = [p.op() for p in self.subpackets]\n",
    "        if self.type < 4:\n",
    "            return op_dict[self.type](values)\n",
    "        else:\n",
    "            return int(op_dict[self.type](*values))\n",
    "\n",
    "def sum_of_versions(packet: Packet):\n",
    "    if packet.subpackets:\n",
    "        return packet.version + sum(sum_of_versions(p) for p in packet.subpackets)\n",
    "    return packet.version\n",
    "\n",
    "packet = Packet.from_hex_str(data)\n",
    "sum_of_versions(packet)"
   ]
  },
  {
   "cell_type": "code",
   "execution_count": 37,
   "metadata": {},
   "outputs": [
    {
     "data": {
      "text/plain": [
       "342997120375"
      ]
     },
     "execution_count": 37,
     "metadata": {},
     "output_type": "execute_result"
    }
   ],
   "source": [
    "packet.op()"
   ]
  }
 ],
 "metadata": {
  "kernelspec": {
   "display_name": "Python 3",
   "language": "python",
   "name": "python3"
  },
  "language_info": {
   "codemirror_mode": {
    "name": "ipython",
    "version": 3
   },
   "file_extension": ".py",
   "mimetype": "text/x-python",
   "name": "python",
   "nbconvert_exporter": "python",
   "pygments_lexer": "ipython3",
   "version": "3.12.1"
  }
 },
 "nbformat": 4,
 "nbformat_minor": 2
}
