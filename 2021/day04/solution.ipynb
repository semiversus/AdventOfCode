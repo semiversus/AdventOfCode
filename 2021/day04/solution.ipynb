{
 "cells": [
  {
   "cell_type": "markdown",
   "metadata": {},
   "source": [
    "# Advent of Code 2021 - Day 4\n",
    "[Link to this puzzle](https://adventofcode.com/2021/day4)\n",
    "\n",
    "## Problem 1"
   ]
  },
  {
   "cell_type": "code",
   "execution_count": 7,
   "metadata": {},
   "outputs": [],
   "source": [
    "import re\n",
    "\n",
    "def build_slices(numbers_on_sheet: tuple[int]) -> list[set[int]]:\n",
    "        \"\"\" turn the list of 25 numbers into 10 sets (5 rows and 5 columns) \"\"\"\n",
    "        return [set(numbers_on_sheet[i:i+5]) for i in range(0, 25, 5)] + [set(numbers_on_sheet[i::5]) for i in range(5)]\n",
    "\n",
    "def parse_data(data:str) -> tuple[list[int], list[list[set[int]]]]:\n",
    "    \"\"\" turn puzzle data into a tuple with [numbers, list_of_sheets]\n",
    "            numbers: list of integers (numbers to be called)\n",
    "            list_of_sheets: a sheet consists of 10 sets representing 5 rows and 5 columns\n",
    "        \"\"\"\n",
    "    lines = data.splitlines()\n",
    "    numbers = [int(i) for i in lines[0].split(',')]  # get all the numbers from first line\n",
    "    batched_lines = [' '.join(lines[i:i+5]) for i in range(2, len(lines), 6)]  # bingo sheets (each with list of all numbers)\n",
    "    batched_lines_int = [tuple(int(i) for i in re.findall('\\d+', line)) for line in batched_lines]    \n",
    "    return numbers, [build_slices(n) for n in batched_lines_int]\n",
    "\n",
    "def get_score_of_first_winner(data: str):\n",
    "      numbers, list_of_sheets = parse_data(data)\n",
    "      for number in numbers:\n",
    "        for sheet in list_of_sheets:\n",
    "            for slice in sheet:\n",
    "                slice.discard(number)\n",
    "                if not slice:\n",
    "                     return number * sum(sum(slice) for slice in sheet[:5])"
   ]
  },
  {
   "cell_type": "markdown",
   "metadata": {},
   "source": [
    "### Sample input"
   ]
  },
  {
   "cell_type": "code",
   "execution_count": 8,
   "metadata": {},
   "outputs": [
    {
     "data": {
      "text/plain": [
       "4512"
      ]
     },
     "execution_count": 8,
     "metadata": {},
     "output_type": "execute_result"
    }
   ],
   "source": [
    "sample_data = \"\"\"7,4,9,5,11,17,23,2,0,14,21,24,10,16,13,6,15,25,12,22,18,20,8,19,3,26,1\n",
    "\n",
    "22 13 17 11  0\n",
    " 8  2 23  4 24\n",
    "21  9 14 16  7\n",
    " 6 10  3 18  5\n",
    " 1 12 20 15 19\n",
    "\n",
    " 3 15  0  2 22\n",
    " 9 18 13 17  5\n",
    "19  8  7 25 23\n",
    "20 11 10 24  4\n",
    "14 21 16 12  6\n",
    "\n",
    "14 21 17 24  4\n",
    "10 16 15  9 19\n",
    "18  8 23 26 20\n",
    "22 11 13  6  5\n",
    " 2  0 12  3  7\n",
    " \"\"\"\n",
    "\n",
    "get_score_of_first_winner(sample_data)"
   ]
  },
  {
   "cell_type": "markdown",
   "metadata": {},
   "source": [
    "### Puzzle input"
   ]
  },
  {
   "cell_type": "code",
   "execution_count": 9,
   "metadata": {},
   "outputs": [
    {
     "data": {
      "text/plain": [
       "14093"
      ]
     },
     "execution_count": 9,
     "metadata": {},
     "output_type": "execute_result"
    }
   ],
   "source": [
    "puzzle_data = open(\"puzzle.data\").read()\n",
    "\n",
    "get_score_of_first_winner(puzzle_data)"
   ]
  },
  {
   "cell_type": "markdown",
   "metadata": {},
   "source": [
    "## Problem 2"
   ]
  },
  {
   "cell_type": "code",
   "execution_count": 10,
   "metadata": {},
   "outputs": [],
   "source": [
    "def get_score_of_last_winner(data: str):\n",
    "      numbers, list_of_sheets = parse_data(data)\n",
    "      sheets_won = set(range(len(list_of_sheets)))\n",
    "      for number in numbers:\n",
    "        for sheet_index, sheet in enumerate(list_of_sheets):\n",
    "            for slice in sheet:\n",
    "                slice.discard(number)\n",
    "                if not slice:\n",
    "                    sheets_won.discard(sheet_index)\n",
    "                    if not sheets_won:\n",
    "                        return number * sum(sum(slice) for slice in sheet[:5])"
   ]
  },
  {
   "cell_type": "markdown",
   "metadata": {},
   "source": [
    "### Sample input"
   ]
  },
  {
   "cell_type": "code",
   "execution_count": 11,
   "metadata": {},
   "outputs": [
    {
     "data": {
      "text/plain": [
       "1924"
      ]
     },
     "execution_count": 11,
     "metadata": {},
     "output_type": "execute_result"
    }
   ],
   "source": [
    "get_score_of_last_winner(sample_data)"
   ]
  },
  {
   "cell_type": "markdown",
   "metadata": {},
   "source": [
    "### Puzzle input"
   ]
  },
  {
   "cell_type": "code",
   "execution_count": 12,
   "metadata": {},
   "outputs": [
    {
     "data": {
      "text/plain": [
       "17388"
      ]
     },
     "execution_count": 12,
     "metadata": {},
     "output_type": "execute_result"
    }
   ],
   "source": [
    "get_score_of_last_winner(puzzle_data)"
   ]
  }
 ],
 "metadata": {
  "kernelspec": {
   "display_name": "Python 3",
   "language": "python",
   "name": "python3"
  },
  "language_info": {
   "codemirror_mode": {
    "name": "ipython",
    "version": 3
   },
   "file_extension": ".py",
   "mimetype": "text/x-python",
   "name": "python",
   "nbconvert_exporter": "python",
   "pygments_lexer": "ipython3",
   "version": "3.11.6"
  }
 },
 "nbformat": 4,
 "nbformat_minor": 2
}
