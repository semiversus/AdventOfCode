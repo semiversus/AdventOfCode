{
 "cells": [
  {
   "cell_type": "code",
   "execution_count": 25,
   "metadata": {},
   "outputs": [
    {
     "ename": "AssertionError",
     "evalue": "17, 14093",
     "output_type": "error",
     "traceback": [
      "\u001b[0;31m---------------------------------------------------------------------------\u001b[0m",
      "\u001b[0;31mAssertionError\u001b[0m                            Traceback (most recent call last)",
      "\u001b[1;32m/home/guenther/projects/AoC2022/2021/day04/solution_draft.ipynb Cell 1\u001b[0m line \u001b[0;36m<cell line: 33>\u001b[0;34m()\u001b[0m\n\u001b[1;32m     <a href='vscode-notebook-cell:/home/guenther/projects/AoC2022/2021/day04/solution_draft.ipynb#W0sZmlsZQ%3D%3D?line=34'>35</a>\u001b[0m \u001b[39mfor\u001b[39;00m \u001b[39mslice\u001b[39m \u001b[39min\u001b[39;00m slices:\n\u001b[1;32m     <a href='vscode-notebook-cell:/home/guenther/projects/AoC2022/2021/day04/solution_draft.ipynb#W0sZmlsZQ%3D%3D?line=35'>36</a>\u001b[0m     \u001b[39mslice\u001b[39m\u001b[39m.\u001b[39mdiscard(number)\n\u001b[0;32m---> <a href='vscode-notebook-cell:/home/guenther/projects/AoC2022/2021/day04/solution_draft.ipynb#W0sZmlsZQ%3D%3D?line=36'>37</a>\u001b[0m     \u001b[39massert\u001b[39;00m \u001b[39mslice\u001b[39m, \u001b[39mf\u001b[39m\u001b[39m'\u001b[39m\u001b[39m{\u001b[39;00mnumber\u001b[39m}\u001b[39;00m\u001b[39m, \u001b[39m\u001b[39m{\u001b[39;00mnumber \u001b[39m*\u001b[39m \u001b[39msum\u001b[39m(\u001b[39msum\u001b[39m(\u001b[39mslice\u001b[39m) \u001b[39mfor\u001b[39;00m \u001b[39mslice\u001b[39m \u001b[39min\u001b[39;00m slices[:\u001b[39m5\u001b[39m])\u001b[39m}\u001b[39;00m\u001b[39m'\u001b[39m\n",
      "\u001b[0;31mAssertionError\u001b[0m: 17, 14093"
     ]
    }
   ],
   "source": [
    "puzzle_data = open('puzzle.data').read().splitlines()\n",
    "\n",
    "puzzle_data2 = \"\"\"7,4,9,5,11,17,23,2,0,14,21,24,10,16,13,6,15,25,12,22,18,20,8,19,3,26,1\n",
    "\n",
    "22 13 17 11  0\n",
    " 8  2 23  4 24\n",
    "21  9 14 16  7\n",
    " 6 10  3 18  5\n",
    " 1 12 20 15 19\n",
    "\n",
    " 3 15  0  2 22\n",
    " 9 18 13 17  5\n",
    "19  8  7 25 23\n",
    "20 11 10 24  4\n",
    "14 21 16 12  6\n",
    "\n",
    "14 21 17 24  4\n",
    "10 16 15  9 19\n",
    "18  8 23 26 20\n",
    "22 11 13  6  5\n",
    " 2  0 12  3  7\n",
    "\"\"\".splitlines()\n",
    "\n",
    "import re\n",
    "numbers = [int(i) for i in puzzle_data[0].split(',')]\n",
    "batched_lines = [' '.join(puzzle_data[i:i+5]) for i in range(2, len(puzzle_data), 6)]\n",
    "tables = [tuple(int(i) for i in re.findall('\\d+', line)) for line in batched_lines]\n",
    "def build_slices(table):\n",
    "    return [set(table[i:i+5]) for i in range(0, 25, 5)] + [set(table[i::5]) for i in range(5)]\n",
    "\n",
    "tables_slices = [build_slices(t) for t in tables]\n",
    "\n",
    "for number in numbers:\n",
    "    for slices in tables_slices:\n",
    "        for slice in slices:\n",
    "            slice.discard(number)\n",
    "            assert slice, f'{number}, {number * sum(sum(slice) for slice in slices[:5])}'"
   ]
  },
  {
   "cell_type": "code",
   "execution_count": 26,
   "metadata": {},
   "outputs": [
    {
     "ename": "AssertionError",
     "evalue": "36, 17388",
     "output_type": "error",
     "traceback": [
      "\u001b[0;31m---------------------------------------------------------------------------\u001b[0m",
      "\u001b[0;31mAssertionError\u001b[0m                            Traceback (most recent call last)",
      "\u001b[1;32m/home/guenther/projects/AoC2022/2021/day04/solution_draft.ipynb Cell 2\u001b[0m line \u001b[0;36m<cell line: 5>\u001b[0;34m()\u001b[0m\n\u001b[1;32m      <a href='vscode-notebook-cell:/home/guenther/projects/AoC2022/2021/day04/solution_draft.ipynb#W1sZmlsZQ%3D%3D?line=8'>9</a>\u001b[0m \u001b[39mif\u001b[39;00m \u001b[39mnot\u001b[39;00m \u001b[39mslice\u001b[39m:\n\u001b[1;32m     <a href='vscode-notebook-cell:/home/guenther/projects/AoC2022/2021/day04/solution_draft.ipynb#W1sZmlsZQ%3D%3D?line=9'>10</a>\u001b[0m     table_won\u001b[39m.\u001b[39mdiscard(i)\n\u001b[0;32m---> <a href='vscode-notebook-cell:/home/guenther/projects/AoC2022/2021/day04/solution_draft.ipynb#W1sZmlsZQ%3D%3D?line=10'>11</a>\u001b[0m     \u001b[39massert\u001b[39;00m table_won, \u001b[39mf\u001b[39m\u001b[39m'\u001b[39m\u001b[39m{\u001b[39;00mnumber\u001b[39m}\u001b[39;00m\u001b[39m, \u001b[39m\u001b[39m{\u001b[39;00mnumber \u001b[39m*\u001b[39m \u001b[39msum\u001b[39m(\u001b[39msum\u001b[39m(\u001b[39mslice\u001b[39m) \u001b[39mfor\u001b[39;00m \u001b[39mslice\u001b[39m \u001b[39min\u001b[39;00m slices[:\u001b[39m5\u001b[39m])\u001b[39m}\u001b[39;00m\u001b[39m'\u001b[39m\n",
      "\u001b[0;31mAssertionError\u001b[0m: 36, 17388"
     ]
    }
   ],
   "source": [
    "tables_slices = [build_slices(t) for t in tables]\n",
    "\n",
    "table_won = set(range(len(tables_slices)))\n",
    "\n",
    "for number in numbers:\n",
    "    for i, slices in enumerate(tables_slices):\n",
    "        for slice in slices:\n",
    "            slice.discard(number)\n",
    "            if not slice:\n",
    "                table_won.discard(i)\n",
    "                assert table_won, f'{number}, {number * sum(sum(slice) for slice in slices[:5])}'"
   ]
  }
 ],
 "metadata": {
  "kernelspec": {
   "display_name": "Python 3",
   "language": "python",
   "name": "python3"
  },
  "language_info": {
   "codemirror_mode": {
    "name": "ipython",
    "version": 3
   },
   "file_extension": ".py",
   "mimetype": "text/x-python",
   "name": "python",
   "nbconvert_exporter": "python",
   "pygments_lexer": "ipython3",
   "version": "3.8.10"
  }
 },
 "nbformat": 4,
 "nbformat_minor": 2
}
