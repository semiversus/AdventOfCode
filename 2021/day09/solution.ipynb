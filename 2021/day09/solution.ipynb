{
 "cells": [
  {
   "cell_type": "markdown",
   "metadata": {},
   "source": [
    "# Advent of Code 2021 - Day 9\n",
    "[Link to this puzzle](https://adventofcode.com/2021/day/9)\n",
    "\n",
    "## Problem 1"
   ]
  },
  {
   "cell_type": "code",
   "execution_count": 52,
   "metadata": {},
   "outputs": [],
   "source": [
    "from collections import defaultdict\n",
    "\n",
    "def generate_map(data: str) -> dict[complex, int]:\n",
    "    height_map = defaultdict(lambda: 9)\n",
    "    for y, line in enumerate(data.splitlines()):\n",
    "        for x, height in enumerate(line):\n",
    "            height_map[x + y * 1j] = int(height)\n",
    "    return height_map\n",
    "\n",
    "def find_minimas(height_map):\n",
    "    minimas = []\n",
    "    for pos, height in tuple(height_map.items()):\n",
    "        if height_map[pos + 1] > height and height_map[pos - 1] > height and height_map[pos + 1j] > height and height_map[pos - 1j] > height:\n",
    "            minimas.append(pos)\n",
    "    return minimas\n",
    "\n",
    "def calc_risk_level(data: str):\n",
    "    height_map = generate_map(data)\n",
    "    minimas = find_minimas(height_map)\n",
    "    \n",
    "    return sum(height_map[p] + 1 for p in minimas)"
   ]
  },
  {
   "cell_type": "markdown",
   "metadata": {},
   "source": [
    "### Sample input"
   ]
  },
  {
   "cell_type": "code",
   "execution_count": 53,
   "metadata": {},
   "outputs": [
    {
     "data": {
      "text/plain": [
       "15"
      ]
     },
     "execution_count": 53,
     "metadata": {},
     "output_type": "execute_result"
    }
   ],
   "source": [
    "sample_data = \"\"\"2199943210\n",
    "3987894921\n",
    "9856789892\n",
    "8767896789\n",
    "9899965678\n",
    "\"\"\"\n",
    "\n",
    "calc_risk_level(sample_data)"
   ]
  },
  {
   "cell_type": "markdown",
   "metadata": {},
   "source": [
    "### Puzzle input"
   ]
  },
  {
   "cell_type": "code",
   "execution_count": 54,
   "metadata": {},
   "outputs": [
    {
     "data": {
      "text/plain": [
       "570"
      ]
     },
     "execution_count": 54,
     "metadata": {},
     "output_type": "execute_result"
    }
   ],
   "source": [
    "puzzle_data = open(\"puzzle.data\").read()\n",
    "\n",
    "calc_risk_level(puzzle_data)"
   ]
  },
  {
   "cell_type": "markdown",
   "metadata": {},
   "source": [
    "## Problem 2"
   ]
  },
  {
   "cell_type": "code",
   "execution_count": 55,
   "metadata": {},
   "outputs": [],
   "source": [
    "from functools import reduce\n",
    "\n",
    "def extend_basin(pos: complex, height_map: dict[complex, int], basin: set[complex]):\n",
    "    if pos not in height_map or height_map[pos] == 9 or pos in basin:\n",
    "        return basin\n",
    "    basin.add(pos)\n",
    "    for offset in (1, -1, 1j, -1j):\n",
    "        basin.update(extend_basin(pos + offset, height_map, basin))\n",
    "    return basin\n",
    "\n",
    "def find_basins(data: str):\n",
    "    height_map = generate_map(data)\n",
    "    \n",
    "    basins = set()\n",
    "    for minima in find_minimas(height_map):\n",
    "        basin = extend_basin(minima, height_map, set(()))\n",
    "        basins.add(tuple(basin))\n",
    "    return basins\n",
    "\n",
    "def calc_problem2(data: str) -> int:\n",
    "    three_largest_basins = sorted(len(b) for b in find_basins(data))[-3:]\n",
    "    return reduce(lambda a, b: a * b, three_largest_basins, 1)"
   ]
  },
  {
   "cell_type": "markdown",
   "metadata": {},
   "source": [
    "### Sample input"
   ]
  },
  {
   "cell_type": "code",
   "execution_count": 56,
   "metadata": {},
   "outputs": [
    {
     "data": {
      "text/plain": [
       "1134"
      ]
     },
     "execution_count": 56,
     "metadata": {},
     "output_type": "execute_result"
    }
   ],
   "source": [
    "calc_problem2(sample_data)"
   ]
  },
  {
   "cell_type": "markdown",
   "metadata": {},
   "source": [
    "### Puzzle input"
   ]
  },
  {
   "cell_type": "code",
   "execution_count": 57,
   "metadata": {},
   "outputs": [
    {
     "data": {
      "text/plain": [
       "899392"
      ]
     },
     "execution_count": 57,
     "metadata": {},
     "output_type": "execute_result"
    }
   ],
   "source": [
    "calc_problem2(puzzle_data)"
   ]
  }
 ],
 "metadata": {
  "kernelspec": {
   "display_name": "Python 3",
   "language": "python",
   "name": "python3"
  },
  "language_info": {
   "codemirror_mode": {
    "name": "ipython",
    "version": 3
   },
   "file_extension": ".py",
   "mimetype": "text/x-python",
   "name": "python",
   "nbconvert_exporter": "python",
   "pygments_lexer": "ipython3",
   "version": "3.12.0"
  }
 },
 "nbformat": 4,
 "nbformat_minor": 2
}
