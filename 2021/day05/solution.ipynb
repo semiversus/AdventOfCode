{
 "cells": [
  {
   "cell_type": "markdown",
   "metadata": {},
   "source": [
    "# Advent of Code 2021 - Day 5\n",
    "[Link to this puzzle](https://adventofcode.com/2021/day5)\n",
    "\n",
    "## Problem 1"
   ]
  },
  {
   "cell_type": "code",
   "execution_count": 14,
   "metadata": {},
   "outputs": [],
   "source": [
    "import re\n",
    "from collections import defaultdict\n",
    "\n",
    "def parse_data(data: str) -> list[tuple[int, int, int, int]]:\n",
    "    return [(int(i) for i in re.findall('\\d+', line)) for line in data.splitlines()]\n",
    "\n",
    "def mark_board_othogonal(data: str):\n",
    "    board = defaultdict(int)\n",
    "    for x1, y1, x2, y2 in parse_data(data):\n",
    "        if x1 == x2:\n",
    "            for y in range(min(y1, y2), max(y1, y2) + 1):\n",
    "                board[x1 + y * 1j] += 1\n",
    "        elif y1 == y2:\n",
    "            for x in range(min(x1, x2), max(x1, x2) + 1):\n",
    "                board[x + y1 * 1j] += 1\n",
    "    return board"
   ]
  },
  {
   "cell_type": "markdown",
   "metadata": {},
   "source": [
    "### Sample input"
   ]
  },
  {
   "cell_type": "code",
   "execution_count": 15,
   "metadata": {},
   "outputs": [
    {
     "data": {
      "text/plain": [
       "5"
      ]
     },
     "execution_count": 15,
     "metadata": {},
     "output_type": "execute_result"
    }
   ],
   "source": [
    "sample_data = \"\"\"0,9 -> 5,9\n",
    "8,0 -> 0,8\n",
    "9,4 -> 3,4\n",
    "2,2 -> 2,1\n",
    "7,0 -> 7,4\n",
    "6,4 -> 2,0\n",
    "0,9 -> 2,9\n",
    "3,4 -> 1,4\n",
    "0,0 -> 8,8\n",
    "5,5 -> 8,2\n",
    "\"\"\"\n",
    "\n",
    "sum(v >= 2 for v in mark_board_othogonal(sample_data).values())"
   ]
  },
  {
   "cell_type": "markdown",
   "metadata": {},
   "source": [
    "### Puzzle input"
   ]
  },
  {
   "cell_type": "code",
   "execution_count": 16,
   "metadata": {},
   "outputs": [
    {
     "data": {
      "text/plain": [
       "4728"
      ]
     },
     "execution_count": 16,
     "metadata": {},
     "output_type": "execute_result"
    }
   ],
   "source": [
    "puzzle_data = open(\"puzzle.data\").read()\n",
    "\n",
    "sum(v >= 2 for v in mark_board_othogonal(puzzle_data).values())"
   ]
  },
  {
   "cell_type": "markdown",
   "metadata": {},
   "source": [
    "## Problem 2"
   ]
  },
  {
   "cell_type": "code",
   "execution_count": 17,
   "metadata": {},
   "outputs": [],
   "source": [
    "def mark_board(data: str):\n",
    "    board = defaultdict(int)\n",
    "    for x1, y1, x2, y2 in parse_data(data):\n",
    "        if x2 < x1:\n",
    "            x1, y1, x2, y2 = x2, y2, x1, y1\n",
    "        if x1 == x2:\n",
    "            for y in range(min(y1, y2), max(y1, y2) + 1):\n",
    "                board[x1 + y * 1j] += 1\n",
    "        elif y1 == y2:\n",
    "            for x in range(x1, x2 + 1):\n",
    "                board[x + y1 * 1j] += 1\n",
    "        else:\n",
    "            offset = +1 if y1 < y2 else -1\n",
    "            for x, y in zip(range(x1, x2 + 1), range(y1, y2 + offset, offset)):\n",
    "                board[x + y * 1j] += 1\n",
    "            \n",
    "    return board"
   ]
  },
  {
   "cell_type": "markdown",
   "metadata": {},
   "source": [
    "### Sample input"
   ]
  },
  {
   "cell_type": "code",
   "execution_count": 18,
   "metadata": {},
   "outputs": [
    {
     "data": {
      "text/plain": [
       "12"
      ]
     },
     "execution_count": 18,
     "metadata": {},
     "output_type": "execute_result"
    }
   ],
   "source": [
    "sum(v >= 2 for v in mark_board(sample_data).values())"
   ]
  },
  {
   "cell_type": "markdown",
   "metadata": {},
   "source": [
    "### Puzzle input"
   ]
  },
  {
   "cell_type": "code",
   "execution_count": null,
   "metadata": {},
   "outputs": [],
   "source": [
    "sum(v >= 2 for v in mark_board(puzzle_data).values())"
   ]
  }
 ],
 "metadata": {
  "kernelspec": {
   "display_name": "Python 3",
   "language": "python",
   "name": "python3"
  },
  "language_info": {
   "codemirror_mode": {
    "name": "ipython",
    "version": 3
   },
   "file_extension": ".py",
   "mimetype": "text/x-python",
   "name": "python",
   "nbconvert_exporter": "python",
   "pygments_lexer": "ipython3",
   "version": "3.11.6"
  }
 },
 "nbformat": 4,
 "nbformat_minor": 2
}
