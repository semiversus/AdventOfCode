{
 "cells": [
  {
   "cell_type": "code",
   "execution_count": 23,
   "metadata": {},
   "outputs": [
    {
     "name": "stdout",
     "output_type": "stream",
     "text": [
      "1200211116\n",
      "1239811111\n",
      "1116581111\n",
      "1775581111\n",
      "1754651111\n",
      "5545861111\n",
      "8457082111\n",
      "6790003122\n",
      "5569003240\n",
      "5557332200\n"
     ]
    },
    {
     "data": {
      "text/plain": [
       "1673"
      ]
     },
     "execution_count": 23,
     "metadata": {},
     "output_type": "execute_result"
    }
   ],
   "source": [
    "data = \"\"\"5483143223\n",
    "2745854711\n",
    "5264556173\n",
    "6141336146\n",
    "6357385478\n",
    "4167524645\n",
    "2176841721\n",
    "6882881134\n",
    "4846848554\n",
    "5283751526\n",
    "\"\"\"\n",
    "data = open('puzzle.data').read()\n",
    "\n",
    "def parse_map(data: str) -> dict[complex, int]:\n",
    "    map = {}\n",
    "    for y, line in enumerate(data.splitlines()):\n",
    "        for x, level in enumerate(line):\n",
    "            map[x + y * 1j] = int(level)\n",
    "    return map\n",
    "\n",
    "def flash(map: dict[complex, int], pos: complex) -> dict[complex, int]:\n",
    "    map[pos] = None\n",
    "    for offset in [-1 - 1j, -1j, 1 - 1j, -1, 1, -1 + 1j, 1j, 1 + 1j]:\n",
    "        if pos + offset not in map or map[pos + offset] is None:\n",
    "            continue\n",
    "        map[pos + offset] += 1\n",
    "        if map[pos + offset] > 9:\n",
    "            flash(map, pos + offset)\n",
    "    return map\n",
    "        \n",
    "def iterate(map: dict[complex, int]) -> tuple[dict[complex, int], int]:\n",
    "    for pos, level in map.items():\n",
    "        if level is None:\n",
    "            continue\n",
    "        if level >= 9:\n",
    "            flash(map, pos)\n",
    "        else:\n",
    "            map[pos] = level + 1\n",
    "    flashes = sum(1 for pos, level in map.items() if level is None)\n",
    "    return {pos: (0 if level is None else level) for pos, level in map.items()}, flashes\n",
    "\n",
    "def dump(map):\n",
    "    y = 0\n",
    "    while y * 1j in map:\n",
    "        x = 0\n",
    "        while x in map:\n",
    "            print(f'{map[x + y * 1j]}', end='')\n",
    "            x += 1\n",
    "        y += 1\n",
    "        print()\n",
    "\n",
    "map = parse_map(data)\n",
    "flashes = 0\n",
    "for _ in range(100):\n",
    "    map, flash_per_iteration = iterate(map)\n",
    "    flashes += flash_per_iteration\n",
    "dump(map)\n",
    "flashes"
   ]
  },
  {
   "cell_type": "code",
   "execution_count": 24,
   "metadata": {},
   "outputs": [
    {
     "data": {
      "text/plain": [
       "279"
      ]
     },
     "execution_count": 24,
     "metadata": {},
     "output_type": "execute_result"
    }
   ],
   "source": [
    "map = parse_map(data)\n",
    "iteration = 0\n",
    "while any(level != 0 for level in map.values()):\n",
    "    map, _ = iterate(map)\n",
    "    iteration += 1\n",
    "iteration"
   ]
  }
 ],
 "metadata": {
  "kernelspec": {
   "display_name": "Python 3",
   "language": "python",
   "name": "python3"
  },
  "language_info": {
   "codemirror_mode": {
    "name": "ipython",
    "version": 3
   },
   "file_extension": ".py",
   "mimetype": "text/x-python",
   "name": "python",
   "nbconvert_exporter": "python",
   "pygments_lexer": "ipython3",
   "version": "3.11.6"
  }
 },
 "nbformat": 4,
 "nbformat_minor": 2
}
