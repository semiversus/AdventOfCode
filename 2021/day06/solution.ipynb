{
 "cells": [
  {
   "cell_type": "markdown",
   "metadata": {},
   "source": [
    "# Advent of Code 2021 - Day 6\n",
    "[Link to this puzzle](https://adventofcode.com/2021/day6)\n",
    "\n",
    "## Problem 1"
   ]
  },
  {
   "cell_type": "code",
   "execution_count": 29,
   "metadata": {},
   "outputs": [],
   "source": [
    "def iterate(timers: list[int]) -> list[int]:\n",
    "    \"\"\" take the list of timers and iterate it for one day \"\"\"\n",
    "    timers = [t - 1 for t in timers]\n",
    "    new_lanterns = timers.count(-1)\n",
    "    return [6 if t < 0 else t for t in timers] + [8] * new_lanterns\n",
    "\n",
    "def simulate(data: str, days: int) -> list[int]:\n",
    "    \"\"\" simulate the timers over a number of days \"\"\"\n",
    "    timers = [int(i) for i in data.split(',')]\n",
    "\n",
    "    for day in range(days):\n",
    "        timers = iterate(timers)\n",
    "    \n",
    "    return timers"
   ]
  },
  {
   "cell_type": "markdown",
   "metadata": {},
   "source": [
    "### Sample input"
   ]
  },
  {
   "cell_type": "code",
   "execution_count": 30,
   "metadata": {},
   "outputs": [
    {
     "data": {
      "text/plain": [
       "5934"
      ]
     },
     "execution_count": 30,
     "metadata": {},
     "output_type": "execute_result"
    }
   ],
   "source": [
    "sample_data = \"3,4,3,1,2\"\n",
    "\n",
    "len(simulate(sample_data, 80))"
   ]
  },
  {
   "cell_type": "markdown",
   "metadata": {},
   "source": [
    "### Puzzle input"
   ]
  },
  {
   "cell_type": "code",
   "execution_count": 31,
   "metadata": {},
   "outputs": [
    {
     "data": {
      "text/plain": [
       "372984"
      ]
     },
     "execution_count": 31,
     "metadata": {},
     "output_type": "execute_result"
    }
   ],
   "source": [
    "puzzle_data = open(\"puzzle.data\").read()\n",
    "\n",
    "len(simulate(puzzle_data, 80))"
   ]
  },
  {
   "cell_type": "markdown",
   "metadata": {},
   "source": [
    "## Problem 2\n",
    "\n",
    "Basically the same as the first problem, but exponential growth comes with problems... So here is a more efficient solution."
   ]
  },
  {
   "cell_type": "code",
   "execution_count": 32,
   "metadata": {},
   "outputs": [],
   "source": [
    "def spawns(timer: int, days: int, spawns_lookup: dict) -> int:\n",
    "    \"\"\" recursivly calculate the number of spawned fished over a given number of days\n",
    "        using a cache to speed up calculation\n",
    "    \"\"\"\n",
    "    if timer > days:\n",
    "        return 1\n",
    "    if (timer, days) not in spawns_lookup:\n",
    "        number = spawns(7, days - timer, spawns_lookup) + spawns(9, days - timer, spawns_lookup)\n",
    "        spawns_lookup[(timer, days)] = number\n",
    "    else:\n",
    "        number = spawns_lookup[(timer, days)]\n",
    "\n",
    "    return number\n",
    "\n",
    "def calculate(data: str, days: int) -> int:\n",
    "    timers = [int(i) for i in data.split(',')]\n",
    "    spawns_lookup = dict()\n",
    "\n",
    "    timers = [int(i) for i in data.split(',')]\n",
    "    return sum(spawns(timer, days - 1, spawns_lookup) for timer in timers)"
   ]
  },
  {
   "cell_type": "markdown",
   "metadata": {},
   "source": [
    "### Sample input"
   ]
  },
  {
   "cell_type": "code",
   "execution_count": 33,
   "metadata": {},
   "outputs": [
    {
     "data": {
      "text/plain": [
       "26984457539"
      ]
     },
     "execution_count": 33,
     "metadata": {},
     "output_type": "execute_result"
    }
   ],
   "source": [
    "calculate(sample_data, 256)"
   ]
  },
  {
   "cell_type": "markdown",
   "metadata": {},
   "source": [
    "### Puzzle input"
   ]
  },
  {
   "cell_type": "code",
   "execution_count": 34,
   "metadata": {},
   "outputs": [
    {
     "data": {
      "text/plain": [
       "1681503251694"
      ]
     },
     "execution_count": 34,
     "metadata": {},
     "output_type": "execute_result"
    }
   ],
   "source": [
    "calculate(puzzle_data, 256)"
   ]
  }
 ],
 "metadata": {
  "kernelspec": {
   "display_name": "Python 3",
   "language": "python",
   "name": "python3"
  },
  "language_info": {
   "codemirror_mode": {
    "name": "ipython",
    "version": 3
   },
   "file_extension": ".py",
   "mimetype": "text/x-python",
   "name": "python",
   "nbconvert_exporter": "python",
   "pygments_lexer": "ipython3",
   "version": "3.11.6"
  }
 },
 "nbformat": 4,
 "nbformat_minor": 2
}
