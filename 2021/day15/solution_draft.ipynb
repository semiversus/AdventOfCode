{
 "cells": [
  {
   "cell_type": "code",
   "execution_count": 47,
   "metadata": {},
   "outputs": [
    {
     "data": {
      "text/plain": [
       "702"
      ]
     },
     "execution_count": 47,
     "metadata": {},
     "output_type": "execute_result"
    }
   ],
   "source": [
    "data = \"\"\"1163751742\n",
    "1381373672\n",
    "2136511328\n",
    "3694931569\n",
    "7463417111\n",
    "1319128137\n",
    "1359912421\n",
    "3125421639\n",
    "1293138521\n",
    "2311944581\n",
    "\"\"\"\n",
    "data = open('puzzle.data').read()\n",
    "\n",
    "from helper import *\n",
    "from heapq import heappush, heappop\n",
    "from typing import NamedTuple\n",
    "\n",
    "class Entry(NamedTuple):\n",
    "    risk_estimation: float\n",
    "    risk: int\n",
    "    path: list[complex]\n",
    "\n",
    "    def __lt__(self, other: 'Entry'):\n",
    "        return self.risk_estimation < other.risk_estimation\n",
    "\n",
    "def find_min_risk(grid: Grid) -> int:\n",
    "    visited = dict()\n",
    "    open_list = []\n",
    "    heappush(open_list, (0, 0, [0j]))\n",
    "\n",
    "    while open_list:\n",
    "        risk_estimate, risk, path = heappop(open_list)\n",
    "        if path[-1] == complex(grid.width - 1, grid.height - 1):\n",
    "            return risk\n",
    "        for dir in FOUR_DIRECTIONS:\n",
    "            next_pos = path[-1] + dir\n",
    "            if next_pos not in grid or visited.get(next_pos, float('inf')) <= risk + grid[next_pos]:\n",
    "                continue\n",
    "            next_risk = risk + grid[next_pos]\n",
    "            visited[next_pos] = next_risk\n",
    "            heappush(open_list, Entry(next_risk + grid.width - next_pos.real + grid.height - next_pos.imag, next_risk, path + [next_pos]))\n",
    "\n",
    "def solve1(data: str) -> int:\n",
    "    grid = Grid.from_str(data, int)\n",
    "    return find_min_risk(grid)\n",
    "\n",
    "solve1(data)"
   ]
  },
  {
   "cell_type": "code",
   "execution_count": 48,
   "metadata": {},
   "outputs": [
    {
     "data": {
      "text/plain": [
       "2955"
      ]
     },
     "execution_count": 48,
     "metadata": {},
     "output_type": "execute_result"
    }
   ],
   "source": [
    "def solve2(data: str) -> int:\n",
    "    grid = Grid.from_str(data, int)\n",
    "    width, height = grid.width, grid.height\n",
    "    for x in range(0, width * 5):\n",
    "        for y in range(0, height * 5):\n",
    "            grid[complex(x, y)] = (grid[complex(x % width, y % height)] + x // width + y // height - 1) % 9 + 1\n",
    "    \n",
    "    return find_min_risk(grid)\n",
    "\n",
    "solve2(data)"
   ]
  }
 ],
 "metadata": {
  "kernelspec": {
   "display_name": "Python 3",
   "language": "python",
   "name": "python3"
  },
  "language_info": {
   "codemirror_mode": {
    "name": "ipython",
    "version": 3
   },
   "file_extension": ".py",
   "mimetype": "text/x-python",
   "name": "python",
   "nbconvert_exporter": "python",
   "pygments_lexer": "ipython3",
   "version": "3.12.1"
  }
 },
 "nbformat": 4,
 "nbformat_minor": 2
}
