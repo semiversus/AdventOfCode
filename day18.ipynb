{
 "cells": [
  {
   "cell_type": "code",
   "execution_count": 92,
   "metadata": {},
   "outputs": [
    {
     "data": {
      "text/plain": [
       "3610"
      ]
     },
     "execution_count": 92,
     "metadata": {},
     "output_type": "execute_result"
    }
   ],
   "source": [
    "file_data = open('day18.data', 'r').read().splitlines()\n",
    "\n",
    "cubes = set(tuple(int(p) for p in line.split(',')) for line in file_data)\n",
    "\n",
    "def facing_cubes(pos):\n",
    "    return {\n",
    "        (pos[0] - 1, *pos[1:]), (pos[0] + 1, *pos[1:]),\n",
    "        (pos[0], pos[1] - 1, pos[2]), (pos[0], pos[1] + 1, pos[2]),\n",
    "        (*pos[:2], pos[2] - 1), (*pos[:2], pos[2] + 1) \n",
    "    }\n",
    "\n",
    "def count_faces(cubes):\n",
    "    faces = 0\n",
    "    for cube in cubes:\n",
    "        faces += len(facing_cubes(cube) - cubes)\n",
    "    return faces\n",
    "\n",
    "def view(cubes):\n",
    "    layers = [[[' ' for _ in range(20)] for _ in range((20))] for _ in range(20)]\n",
    "\n",
    "    for cube in cubes:\n",
    "        layers[cube[2]][cube[1]][cube[0]] = 'x'\n",
    "    \n",
    "    for layer in layers:\n",
    "        for row in layer:\n",
    "            print(''.join(row))\n",
    "        print('-' * 30)\n",
    "\n",
    "count_faces(cubes)"
   ]
  },
  {
   "cell_type": "code",
   "execution_count": 93,
   "metadata": {},
   "outputs": [
    {
     "data": {
      "text/plain": [
       "2082"
      ]
     },
     "execution_count": 93,
     "metadata": {},
     "output_type": "execute_result"
    }
   ],
   "source": [
    "for cube in tuple(cubes):\n",
    "    visited_cubes = set()\n",
    "    open_cubes = list(facing_cubes(cube))\n",
    "\n",
    "    while open_cubes: \n",
    "        ccube = open_cubes.pop()   \n",
    "        if ccube in visited_cubes:\n",
    "            continue\n",
    "        \n",
    "        visited_cubes.add(ccube)\n",
    "\n",
    "        if ccube in cubes:\n",
    "            continue\n",
    "\n",
    "        if ccube[0] < 0 or ccube[0] > 20 or ccube[1] < 0 or ccube[1] > 20 or ccube[2] < 0 or ccube[2] > 20:\n",
    "            break\n",
    "\n",
    "        open_cubes += list(facing_cubes(ccube) - visited_cubes)\n",
    "    else:\n",
    "        cubes |= visited_cubes\n",
    "\n",
    "count_faces(cubes)"
   ]
  }
 ],
 "metadata": {
  "kernelspec": {
   "display_name": "Python 3",
   "language": "python",
   "name": "python3"
  },
  "language_info": {
   "codemirror_mode": {
    "name": "ipython",
    "version": 3
   },
   "file_extension": ".py",
   "mimetype": "text/x-python",
   "name": "python",
   "nbconvert_exporter": "python",
   "pygments_lexer": "ipython3",
   "version": "3.8.10"
  },
  "orig_nbformat": 4,
  "vscode": {
   "interpreter": {
    "hash": "916dbcbb3f70747c44a77c7bcd40155683ae19c65e1c03b4aa3499c5328201f1"
   }
  }
 },
 "nbformat": 4,
 "nbformat_minor": 2
}
