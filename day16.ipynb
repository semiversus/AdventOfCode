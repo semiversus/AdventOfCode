{
 "cells": [
  {
   "cell_type": "code",
   "execution_count": 8,
   "metadata": {},
   "outputs": [],
   "source": [
    "file_data = open('day16.data', 'r').read().splitlines()\n",
    "\n",
    "import re\n",
    "from typing import Dict, Tuple\n",
    "from collections import namedtuple\n",
    "\n",
    "Valve = namedtuple('Valve', 'flow_rate connected_valves')\n",
    "\n",
    "valve_map: Dict[str, Valve] = {}\n",
    "\n",
    "for line in file_data:\n",
    "    valve, flow_rate, to_valves = re.findall(r'Valve (\\w+) has flow rate=(\\d+); tunnels? leads? to valves? (.*)', line)[0]\n",
    "    valve_map[valve] = Valve(int(flow_rate), tuple(to_valves.split(', ')))"
   ]
  },
  {
   "cell_type": "code",
   "execution_count": 9,
   "metadata": {},
   "outputs": [],
   "source": [
    "from itertools import permutations\n",
    "\n",
    "valve_to_valve_distance: Dict[Tuple[str, str], int] = dict()\n",
    "\n",
    "important_valves = ('AA',) + tuple(v for v in valve_map if valve_map[v].flow_rate != 0)\n",
    "\n",
    "for valve_from, valve_to in permutations(important_valves, 2):\n",
    "    ways = list([v] for v in valve_map[valve_from].connected_valves)\n",
    "\n",
    "    while ways:\n",
    "        current_way = ways.pop(0)\n",
    "        \n",
    "        if current_way[-1] == valve_to:\n",
    "            valve_to_valve_distance[(valve_from, valve_to)] = len(current_way)\n",
    "            break\n",
    "\n",
    "        last_valve = current_way[-1]\n",
    "        connected_valves = valve_map[last_valve].connected_valves\n",
    "\n",
    "        ways += [current_way + [v] for v in connected_valves]"
   ]
  },
  {
   "cell_type": "code",
   "execution_count": 10,
   "metadata": {},
   "outputs": [
    {
     "name": "stdout",
     "output_type": "stream",
     "text": [
      "252 State(way=('AA',), closed_valves={'YA', 'RK', 'OC', 'GQ', 'YL', 'XN', 'JT', 'EY', 'TR', 'AT', 'VK', 'ES', 'UI', 'WZ', 'AZ'}, minute=1, total_flow=0)\n",
      "528 State(way=('AA',), closed_valves={'YA', 'RK', 'OC', 'GQ', 'YL', 'XN', 'JT', 'EY', 'TR', 'AT', 'VK', 'ES', 'UI', 'WZ', 'AZ'}, minute=1, total_flow=0)\n",
      "575 State(way=('AA',), closed_valves={'YA', 'RK', 'OC', 'GQ', 'YL', 'XN', 'JT', 'EY', 'TR', 'AT', 'VK', 'ES', 'UI', 'WZ', 'AZ'}, minute=1, total_flow=0)\n",
      "626 State(way=('AA', 'YA'), closed_valves={'EY', 'TR', 'AT', 'VK', 'ES', 'RK', 'OC', 'GQ', 'YL', 'UI', 'WZ', 'XN', 'JT', 'AZ'}, minute=10, total_flow=252)\n",
      "643 State(way=('AA', 'YA'), closed_valves={'EY', 'TR', 'AT', 'VK', 'ES', 'RK', 'OC', 'GQ', 'YL', 'UI', 'WZ', 'XN', 'JT', 'AZ'}, minute=10, total_flow=252)\n",
      "718 State(way=('AA', 'GQ'), closed_valves={'EY', 'YA', 'TR', 'AT', 'VK', 'ES', 'RK', 'OC', 'YL', 'UI', 'WZ', 'XN', 'JT', 'AZ'}, minute=7, total_flow=528)\n",
      "768 State(way=('AA', 'GQ'), closed_valves={'EY', 'YA', 'TR', 'AT', 'VK', 'ES', 'RK', 'OC', 'YL', 'UI', 'WZ', 'XN', 'JT', 'AZ'}, minute=7, total_flow=528)\n",
      "783 State(way=('AA', 'GQ'), closed_valves={'EY', 'YA', 'TR', 'AT', 'VK', 'ES', 'RK', 'OC', 'YL', 'UI', 'WZ', 'XN', 'JT', 'AZ'}, minute=7, total_flow=528)\n",
      "1011 State(way=('AA', 'GQ'), closed_valves={'EY', 'YA', 'TR', 'AT', 'VK', 'ES', 'RK', 'OC', 'YL', 'UI', 'WZ', 'XN', 'JT', 'AZ'}, minute=7, total_flow=528)\n",
      "1054 State(way=('AA', 'GQ', 'EY'), closed_valves={'YA', 'TR', 'AT', 'VK', 'ES', 'RK', 'OC', 'YL', 'UI', 'WZ', 'XN', 'JT', 'AZ'}, minute=12, total_flow=718)\n",
      "1136 State(way=('AA', 'GQ', 'YA'), closed_valves={'EY', 'TR', 'AT', 'VK', 'ES', 'RK', 'OC', 'YL', 'UI', 'WZ', 'XN', 'JT', 'AZ'}, minute=11, total_flow=768)\n",
      "1184 State(way=('AA', 'GQ', 'VK'), closed_valves={'EY', 'YA', 'TR', 'AT', 'ES', 'RK', 'OC', 'YL', 'UI', 'WZ', 'XN', 'JT', 'AZ'}, minute=10, total_flow=759)\n",
      "1215 State(way=('AA', 'GQ', 'YL'), closed_valves={'EY', 'YA', 'TR', 'AT', 'VK', 'ES', 'RK', 'OC', 'UI', 'WZ', 'XN', 'JT', 'AZ'}, minute=10, total_flow=1011)\n",
      "1336 State(way=('AA', 'GQ', 'YL'), closed_valves={'EY', 'YA', 'TR', 'AT', 'VK', 'ES', 'RK', 'OC', 'UI', 'WZ', 'XN', 'JT', 'AZ'}, minute=10, total_flow=1011)\n",
      "1391 State(way=('AA', 'GQ', 'VK', 'WZ'), closed_valves={'EY', 'YA', 'TR', 'AT', 'ES', 'RK', 'OC', 'YL', 'UI', 'XN', 'JT', 'AZ'}, minute=14, total_flow=1184)\n",
      "1415 State(way=('AA', 'GQ', 'YL', 'YA'), closed_valves={'EY', 'TR', 'AT', 'VK', 'ES', 'RK', 'OC', 'UI', 'WZ', 'XN', 'JT', 'AZ'}, minute=14, total_flow=1215)\n",
      "1487 State(way=('AA', 'GQ', 'YL', 'VK'), closed_valves={'EY', 'YA', 'TR', 'AT', 'ES', 'RK', 'OC', 'UI', 'WZ', 'XN', 'JT', 'AZ'}, minute=15, total_flow=1187)\n",
      "1552 State(way=('AA', 'VK', 'GQ', 'YL'), closed_valves={'EY', 'YA', 'TR', 'AT', 'ES', 'RK', 'OC', 'UI', 'WZ', 'XN', 'JT', 'AZ'}, minute=11, total_flow=1252)\n",
      "1572 State(way=('AA', 'GQ', 'YL', 'YA', 'AZ'), closed_valves={'EY', 'TR', 'AT', 'VK', 'ES', 'RK', 'OC', 'UI', 'WZ', 'XN', 'JT'}, minute=18, total_flow=1397)\n",
      "1575 State(way=('AA', 'GQ', 'YL', 'AZ', 'EY'), closed_valves={'YA', 'TR', 'AT', 'VK', 'ES', 'RK', 'OC', 'UI', 'WZ', 'XN', 'JT'}, minute=18, total_flow=1365)\n",
      "1603 State(way=('AA', 'GQ', 'YL', 'AZ', 'VK'), closed_valves={'EY', 'YA', 'TR', 'AT', 'ES', 'RK', 'OC', 'UI', 'WZ', 'XN', 'JT'}, minute=18, total_flow=1378)\n",
      "1638 State(way=('AA', 'EY', 'AZ', 'GQ', 'YL'), closed_valves={'YA', 'TR', 'AT', 'VK', 'ES', 'RK', 'OC', 'UI', 'WZ', 'XN', 'JT'}, minute=14, total_flow=1413)\n",
      "1687 State(way=('AA', 'VK', 'GQ', 'YL', 'AZ'), closed_valves={'EY', 'YA', 'TR', 'AT', 'ES', 'RK', 'OC', 'UI', 'WZ', 'XN', 'JT'}, minute=16, total_flow=1462)\n",
      "1697 State(way=('AA', 'EY', 'JT', 'AZ', 'GQ', 'YL'), closed_valves={'YA', 'TR', 'AT', 'VK', 'ES', 'RK', 'OC', 'UI', 'WZ', 'XN'}, minute=19, total_flow=1601)\n",
      "1701 State(way=('AA', 'EY', 'JT', 'AZ', 'GQ', 'YL'), closed_valves={'YA', 'TR', 'AT', 'VK', 'ES', 'RK', 'OC', 'UI', 'WZ', 'XN'}, minute=19, total_flow=1601)\n",
      "1745 State(way=('AA', 'EY', 'AZ', 'GQ', 'YL', 'VK'), closed_valves={'YA', 'TR', 'AT', 'ES', 'RK', 'OC', 'UI', 'WZ', 'XN', 'JT'}, minute=19, total_flow=1545)\n",
      "1762 State(way=('AA', 'VK', 'GQ', 'YL', 'YA', 'AZ'), closed_valves={'EY', 'TR', 'AT', 'ES', 'RK', 'OC', 'UI', 'WZ', 'XN', 'JT'}, minute=19, total_flow=1612)\n",
      "1771 State(way=('AA', 'VK', 'GQ', 'YL', 'AZ', 'EY'), closed_valves={'YA', 'TR', 'AT', 'ES', 'RK', 'OC', 'UI', 'WZ', 'XN', 'JT'}, minute=19, total_flow=1582)\n",
      "1828 State(way=('AA', 'VK', 'GQ', 'YL', 'YA', 'AZ', 'EY'), closed_valves={'TR', 'AT', 'ES', 'RK', 'OC', 'UI', 'WZ', 'XN', 'JT'}, minute=22, total_flow=1702)\n"
     ]
    }
   ],
   "source": [
    "max_total_flow = 0\n",
    "\n",
    "State = namedtuple('State', 'way closed_valves minute total_flow')\n",
    "states = [State(('AA',), set(important_valves) - set(('AA',)), 1, 0)]\n",
    "\n",
    "while states:\n",
    "    state = states.pop(0)\n",
    "\n",
    "    for next_valve in state.closed_valves:\n",
    "        minute = state.minute + valve_to_valve_distance[(state.way[-1], next_valve)] + 1\n",
    "        if minute >= 30:\n",
    "            continue\n",
    "        total_flow = state.total_flow + (31 - minute) * valve_map[next_valve].flow_rate\n",
    "        if total_flow > max_total_flow:\n",
    "            max_total_flow = total_flow\n",
    "            print(max_total_flow, state)\n",
    "\n",
    "        states.append(State(state.way + (next_valve,), state.closed_valves - set((next_valve,)), minute, total_flow))"
   ]
  },
  {
   "cell_type": "code",
   "execution_count": 11,
   "metadata": {},
   "outputs": [
    {
     "ename": "NameError",
     "evalue": "name 'valve_order' is not defined",
     "output_type": "error",
     "traceback": [
      "\u001b[0;31m---------------------------------------------------------------------------\u001b[0m",
      "\u001b[0;31mNameError\u001b[0m                                 Traceback (most recent call last)",
      "Cell \u001b[0;32mIn[11], line 3\u001b[0m\n\u001b[1;32m      1\u001b[0m minute \u001b[38;5;241m=\u001b[39m \u001b[38;5;241m1\u001b[39m\n\u001b[1;32m      2\u001b[0m flow_total \u001b[38;5;241m=\u001b[39m \u001b[38;5;241m0\u001b[39m\n\u001b[0;32m----> 3\u001b[0m \u001b[38;5;28;01mfor\u001b[39;00m valve_from, valve_to \u001b[38;5;129;01min\u001b[39;00m \u001b[38;5;28mzip\u001b[39m(\u001b[43mvalve_order\u001b[49m, valve_order[\u001b[38;5;241m1\u001b[39m:]):\n\u001b[1;32m      4\u001b[0m     minute \u001b[38;5;241m+\u001b[39m\u001b[38;5;241m=\u001b[39m valve_to_valve_distance[(valve_from, valve_to)] \u001b[38;5;241m+\u001b[39m \u001b[38;5;241m1\u001b[39m\n\u001b[1;32m      5\u001b[0m     \u001b[38;5;28;01mif\u001b[39;00m minute \u001b[38;5;241m>\u001b[39m\u001b[38;5;241m=\u001b[39m \u001b[38;5;241m30\u001b[39m:\n",
      "\u001b[0;31mNameError\u001b[0m: name 'valve_order' is not defined"
     ]
    }
   ],
   "source": [
    "minute = 1\n",
    "flow_total = 0\n",
    "for valve_from, valve_to in zip(valve_order, valve_order[1:]):\n",
    "    minute += valve_to_valve_distance[(valve_from, valve_to)] + 1\n",
    "    if minute >= 30:\n",
    "        break\n",
    "    flow_total += (31 - minute) * valve_map[valve_to].flow_rate\n",
    "\n",
    "if flow_total > max_flow_total:\n",
    "    max_valve_order = valve_order\n",
    "    max_flow_total = flow_total\n",
    "\n",
    "print(max_valve_order, max_flow_total)\n"
   ]
  }
 ],
 "metadata": {
  "interpreter": {
   "hash": "36cf16204b8548560b1c020c4e8fb5b57f0e4c58016f52f2d4be01e192833930"
  },
  "kernelspec": {
   "display_name": "Python 3.9.11 64-bit",
   "language": "python",
   "name": "python3"
  },
  "language_info": {
   "codemirror_mode": {
    "name": "ipython",
    "version": 3
   },
   "file_extension": ".py",
   "mimetype": "text/x-python",
   "name": "python",
   "nbconvert_exporter": "python",
   "pygments_lexer": "ipython3",
   "version": "3.9.11"
  },
  "orig_nbformat": 4
 },
 "nbformat": 4,
 "nbformat_minor": 2
}
