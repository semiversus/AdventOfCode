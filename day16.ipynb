{
 "cells": [
  {
   "cell_type": "code",
   "execution_count": 5,
   "metadata": {},
   "outputs": [],
   "source": [
    "file_data = open('day16.data', 'r').read().splitlines()\n",
    "\n",
    "import re\n",
    "from typing import Dict, Tuple\n",
    "from collections import namedtuple\n",
    "\n",
    "Valve = namedtuple('Valve', 'flow_rate connected_valves')\n",
    "\n",
    "valve_map: Dict[str, Valve] = {}\n",
    "\n",
    "for line in file_data:\n",
    "    valve, flow_rate, to_valves = re.findall(r'Valve (\\w+) has flow rate=(\\d+); tunnels? leads? to valves? (.*)', line)[0]\n",
    "    valve_map[valve] = Valve(int(flow_rate), tuple(to_valves.split(', ')))"
   ]
  },
  {
   "cell_type": "code",
   "execution_count": 6,
   "metadata": {},
   "outputs": [],
   "source": [
    "from itertools import permutations\n",
    "\n",
    "valve_to_valve_distance: Dict[Tuple[str, str], int] = dict()\n",
    "\n",
    "important_valves = ('AA',) + tuple(v for v in valve_map if valve_map[v].flow_rate != 0)\n",
    "\n",
    "for valve_from, valve_to in permutations(important_valves, 2):\n",
    "    ways = list([v] for v in valve_map[valve_from].connected_valves)\n",
    "\n",
    "    while ways:\n",
    "        current_way = ways.pop(0)\n",
    "        \n",
    "        if current_way[-1] == valve_to:\n",
    "            valve_to_valve_distance[(valve_from, valve_to)] = len(current_way)\n",
    "            break\n",
    "\n",
    "        last_valve = current_way[-1]\n",
    "        connected_valves = valve_map[last_valve].connected_valves\n",
    "\n",
    "        ways += [current_way + [v] for v in connected_valves]"
   ]
  },
  {
   "cell_type": "code",
   "execution_count": 7,
   "metadata": {},
   "outputs": [
    {
     "name": "stdout",
     "output_type": "stream",
     "text": [
      "State(way=('AA', 'VK', 'GQ', 'YL', 'YA', 'AZ', 'EY', 'JT'), closed_valves={'OC', 'XN', 'UI', 'TR', 'AT', 'RK', 'WZ', 'ES'}, minute=25, total_flow=1828)\n"
     ]
    }
   ],
   "source": [
    "max_total_flow = 0\n",
    "\n",
    "State = namedtuple('State', 'way closed_valves minute total_flow')\n",
    "states = [State(('AA',), set(important_valves) - set(('AA',)), 1, 0)]\n",
    "\n",
    "while states:\n",
    "    state = states.pop(0)\n",
    "\n",
    "    for next_valve in state.closed_valves:\n",
    "        minute = state.minute + valve_to_valve_distance[(state.way[-1], next_valve)] + 1\n",
    "        if minute >= 30:\n",
    "            continue\n",
    "        total_flow = state.total_flow + (31 - minute) * valve_map[next_valve].flow_rate\n",
    "        next_state = State(state.way + (next_valve,), state.closed_valves - set((next_valve,)), minute, total_flow)\n",
    "        if total_flow > max_total_flow:\n",
    "            max_total_flow = total_flow\n",
    "            max_state = next_state\n",
    "\n",
    "        states.append(next_state)\n",
    "\n",
    "print(max_state)"
   ]
  },
  {
   "cell_type": "code",
   "execution_count": 8,
   "metadata": {},
   "outputs": [
    {
     "name": "stdout",
     "output_type": "stream",
     "text": [
      "State(way1=('AA', 'VK', 'GQ', 'YL', 'YA', 'AZ', 'EY', 'JT'), way2=('AA', 'UI', 'AT', 'ES', 'TR', 'XN'), closed_valves={'OC', 'RK', 'WZ'}, minute1=25, minute2=24, total_flow=2292)\n"
     ]
    }
   ],
   "source": [
    "max_total_flow = 0\n",
    "\n",
    "State = namedtuple('State', 'way1 way2 closed_valves minute1 minute2 total_flow')\n",
    "states = [State(('AA',), ('AA',), set(important_valves) - set(('AA',)), 1, 1, 0)]\n",
    "\n",
    "while states:\n",
    "    state = states.pop()\n",
    "\n",
    "    if state.minute1 < state.minute2:\n",
    "        for next_valve in state.closed_valves:\n",
    "            minute = state.minute1 + valve_to_valve_distance[(state.way1[-1], next_valve)] + 1\n",
    "            if minute >= 26:\n",
    "                continue\n",
    "            total_flow = state.total_flow + (27 - minute) * valve_map[next_valve].flow_rate\n",
    "            next_state = State(state.way1 + (next_valve,), state.way2, state.closed_valves - set((next_valve,)), minute, state.minute2, total_flow)\n",
    "            if total_flow > max_total_flow:\n",
    "                max_total_flow = total_flow\n",
    "                max_state = next_state\n",
    "\n",
    "            states.append(next_state)\n",
    "    else:\n",
    "        for next_valve in state.closed_valves:\n",
    "            minute = state.minute2 + valve_to_valve_distance[(state.way2[-1], next_valve)] + 1\n",
    "            if minute >= 26:\n",
    "                continue\n",
    "            total_flow = state.total_flow + (27 - minute) * valve_map[next_valve].flow_rate\n",
    "            next_state = State(state.way1, state.way2 + (next_valve,), state.closed_valves - set((next_valve,)), state.minute1, minute, total_flow)\n",
    "            if total_flow > max_total_flow:\n",
    "                max_total_flow = total_flow\n",
    "                max_state = next_state\n",
    "\n",
    "            states.append(next_state)\n",
    "\n",
    "print(max_state)"
   ]
  }
 ],
 "metadata": {
  "kernelspec": {
   "display_name": "Python 3",
   "language": "python",
   "name": "python3"
  },
  "language_info": {
   "codemirror_mode": {
    "name": "ipython",
    "version": 3
   },
   "file_extension": ".py",
   "mimetype": "text/x-python",
   "name": "python",
   "nbconvert_exporter": "python",
   "pygments_lexer": "ipython3",
   "version": "3.8.10"
  },
  "orig_nbformat": 4,
  "vscode": {
   "interpreter": {
    "hash": "916dbcbb3f70747c44a77c7bcd40155683ae19c65e1c03b4aa3499c5328201f1"
   }
  }
 },
 "nbformat": 4,
 "nbformat_minor": 2
}
