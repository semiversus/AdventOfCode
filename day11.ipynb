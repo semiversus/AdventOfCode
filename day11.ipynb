{
 "cells": [
  {
   "cell_type": "code",
   "execution_count": 1,
   "metadata": {},
   "outputs": [
    {
     "data": {
      "text/plain": [
       "50172"
      ]
     },
     "execution_count": 1,
     "metadata": {},
     "output_type": "execute_result"
    }
   ],
   "source": [
    "items = [[54, 61, 97, 63, 74], [61, 70, 97, 64, 99, 83, 52, 87], [60, 67, 80, 65], [61, 70, 76, 69, 82, 56], [79, 98], [72, 79, 55], [63], [72, 51, 93, 63, 80, 86, 81]]\n",
    "operations = [lambda v:v * 7, lambda v:v + 8, lambda v:v * 13, lambda v:v + 7, lambda v:v + 2, lambda v:v + 1, lambda v:v + 4, lambda v:v * v]\n",
    "test = [lambda v:v % 17 == 0, lambda v:v % 2 == 0, lambda v:v % 5 == 0, lambda v:v % 3 == 0, lambda v:v % 7 == 0, lambda v:v % 13 == 0, lambda v:v % 19 == 0, lambda v:v % 11 == 0]\n",
    "passing_monkey = [(3, 5), (6, 7), (6, 1), (2, 5), (3, 0), (1, 2), (4, 7), (4, 0)]\n",
    "\n",
    "inspections = [0] * len(items)\n",
    "\n",
    "for round in range(20):\n",
    "    for monkey_index in range(len(items)):\n",
    "        for item in items[monkey_index]:\n",
    "            worry_level = (operations[monkey_index](item)) // 3\n",
    "            items[passing_monkey[monkey_index][test[monkey_index](worry_level)]].append(worry_level)\n",
    "            inspections[monkey_index] += 1\n",
    "        items[monkey_index].clear()\n",
    "\n",
    "from operator import mul\n",
    "mul(*tuple(sorted(inspections))[-2:])"
   ]
  },
  {
   "cell_type": "code",
   "execution_count": 2,
   "metadata": {},
   "outputs": [
    {
     "data": {
      "text/plain": [
       "11614682178"
      ]
     },
     "execution_count": 2,
     "metadata": {},
     "output_type": "execute_result"
    }
   ],
   "source": [
    "items = [[54, 61, 97, 63, 74], [61, 70, 97, 64, 99, 83, 52, 87], [60, 67, 80, 65], [61, 70, 76, 69, 82, 56], [79, 98], [72, 79, 55], [63], [72, 51, 93, 63, 80, 86, 81]]\n",
    "operations = [lambda v:v * 7, lambda v:v + 8, lambda v:v * 13, lambda v:v + 7, lambda v:v + 2, lambda v:v + 1, lambda v:v + 4, lambda v:v * v]\n",
    "test = [lambda v:v % 17 == 0, lambda v:v % 2 == 0, lambda v:v % 5 == 0, lambda v:v % 3 == 0, lambda v:v % 7 == 0, lambda v:v % 13 == 0, lambda v:v % 19 == 0, lambda v:v % 11 == 0]\n",
    "passing_monkey = [(3, 5), (6, 7), (6, 1), (2, 5), (3, 0), (1, 2), (4, 7), (4, 0)]\n",
    "\n",
    "inspections = [0] * len(items)\n",
    "\n",
    "for round in range(10000):\n",
    "    for monkey_index in range(len(items)):\n",
    "        for item in items[monkey_index]:\n",
    "            worry_level = (operations[monkey_index](item)) % (2 * 3 * 5 * 7 * 11 * 13 * 17 * 19)\n",
    "            items[passing_monkey[monkey_index][test[monkey_index](worry_level)]].append(worry_level)\n",
    "            inspections[monkey_index] += 1\n",
    "        items[monkey_index].clear()\n",
    "\n",
    "from operator import mul\n",
    "mul(*tuple(sorted(inspections))[-2:])"
   ]
  }
 ],
 "metadata": {
  "interpreter": {
   "hash": "36cf16204b8548560b1c020c4e8fb5b57f0e4c58016f52f2d4be01e192833930"
  },
  "kernelspec": {
   "display_name": "Python 3.9.9 64-bit",
   "language": "python",
   "name": "python3"
  },
  "language_info": {
   "codemirror_mode": {
    "name": "ipython",
    "version": 3
   },
   "file_extension": ".py",
   "mimetype": "text/x-python",
   "name": "python",
   "nbconvert_exporter": "python",
   "pygments_lexer": "ipython3",
   "version": "3.9.11"
  },
  "orig_nbformat": 4
 },
 "nbformat": 4,
 "nbformat_minor": 2
}
